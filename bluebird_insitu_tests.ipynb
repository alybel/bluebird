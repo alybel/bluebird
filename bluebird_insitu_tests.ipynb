{
 "metadata": {
  "name": "",
  "signature": "sha256:98398fc0d408ec7b645348c093e13819b4b9957a7c2884151a144fa065f25f43"
 },
 "nbformat": 3,
 "nbformat_minor": 0,
 "worksheets": [
  {
   "cells": [
    {
     "cell_type": "code",
     "collapsed": false,
     "input": [
      "import bblib as bbl\n",
      "import bbanalytics as bba"
     ],
     "language": "python",
     "metadata": {},
     "outputs": [
      {
       "output_type": "stream",
       "stream": "stdout",
       "text": [
        "already added number of users today: 5\n"
       ]
      }
     ],
     "prompt_number": 1
    },
    {
     "cell_type": "code",
     "collapsed": false,
     "input": [
      "auth, api = bbl.connect_app_to_twitter()"
     ],
     "language": "python",
     "metadata": {},
     "outputs": [],
     "prompt_number": 2
    },
    {
     "cell_type": "code",
     "collapsed": false,
     "input": [
      "api.rate_limit_status();"
     ],
     "language": "python",
     "metadata": {},
     "outputs": [],
     "prompt_number": 3
    },
    {
     "cell_type": "code",
     "collapsed": false,
     "input": [
      "tweet = api.get_status(528430990008803328)"
     ],
     "language": "python",
     "metadata": {},
     "outputs": [],
     "prompt_number": 6
    },
    {
     "cell_type": "code",
     "collapsed": false,
     "input": [
      "tweet.retweet_count"
     ],
     "language": "python",
     "metadata": {},
     "outputs": [
      {
       "metadata": {},
       "output_type": "pyout",
       "prompt_number": 11,
       "text": [
        "1"
       ]
      }
     ],
     "prompt_number": 11
    },
    {
     "cell_type": "code",
     "collapsed": false,
     "input": [
      "tweet.favorite_count"
     ],
     "language": "python",
     "metadata": {},
     "outputs": [
      {
       "metadata": {},
       "output_type": "pyout",
       "prompt_number": 12,
       "text": [
        "11"
       ]
      }
     ],
     "prompt_number": 12
    },
    {
     "cell_type": "code",
     "collapsed": false,
     "input": [
      "retweets= api.home_timeline()\n",
      "print retweets[0].text"
     ],
     "language": "python",
     "metadata": {},
     "outputs": [
      {
       "output_type": "stream",
       "stream": "stdout",
       "text": [
        "RT @SlamtMobile: improved run #indiedev  #gamdev http://t.co/zd6SL8FTAf\n"
       ]
      }
     ],
     "prompt_number": 64
    },
    {
     "cell_type": "code",
     "collapsed": false,
     "input": [
      "re = [fo.screen_name for fo in followers]\n",
      "print snames"
     ],
     "language": "python",
     "metadata": {},
     "outputs": [
      {
       "output_type": "stream",
       "stream": "stdout",
       "text": [
        "[u'JuntaeDeLane', u'digitalpark_', u'marketme', u'DubliAlive', u'givenlondon', u'Brand_Refinery', u'adhutchinson', u'gertwalhof', u'BGillich', u'SMediaDirector', u'RobinSelvy', u'Audj_K', u'WillScottMedia', u'GetAutoTweet', u'donhornsby', u'travelaff', u'TrishKrachun', u'TWTraderCom', u'TellaMedia', u'GordonHewitt2']\n"
       ]
      }
     ],
     "prompt_number": 46
    },
    {
     "cell_type": "code",
     "collapsed": false,
     "input": [
      "for name in snames:\n",
      "    bbl.remove_follow(name, api)"
     ],
     "language": "python",
     "metadata": {},
     "outputs": [
      {
       "output_type": "stream",
       "stream": "stdout",
       "text": [
        "destroyed friendship <built-in function id>\n",
        "destroyed friendship"
       ]
      },
      {
       "output_type": "stream",
       "stream": "stdout",
       "text": [
        " <built-in function id>\n",
        "destroyed friendship"
       ]
      },
      {
       "output_type": "stream",
       "stream": "stdout",
       "text": [
        " <built-in function id>\n",
        "destroyed friendship"
       ]
      },
      {
       "output_type": "stream",
       "stream": "stdout",
       "text": [
        " <built-in function id>\n",
        "destroyed friendship"
       ]
      },
      {
       "output_type": "stream",
       "stream": "stdout",
       "text": [
        " <built-in function id>\n",
        "destroyed friendship"
       ]
      },
      {
       "output_type": "stream",
       "stream": "stdout",
       "text": [
        " <built-in function id>\n",
        "destroyed friendship"
       ]
      },
      {
       "output_type": "stream",
       "stream": "stdout",
       "text": [
        " <built-in function id>\n",
        "destroyed friendship"
       ]
      },
      {
       "output_type": "stream",
       "stream": "stdout",
       "text": [
        " <built-in function id>\n",
        "destroyed friendship"
       ]
      },
      {
       "output_type": "stream",
       "stream": "stdout",
       "text": [
        " <built-in function id>\n",
        "destroyed friendship"
       ]
      },
      {
       "output_type": "stream",
       "stream": "stdout",
       "text": [
        " <built-in function id>\n",
        "destroyed friendship"
       ]
      },
      {
       "output_type": "stream",
       "stream": "stdout",
       "text": [
        " <built-in function id>\n",
        "destroyed friendship"
       ]
      },
      {
       "output_type": "stream",
       "stream": "stdout",
       "text": [
        " <built-in function id>\n",
        "destroyed friendship"
       ]
      },
      {
       "output_type": "stream",
       "stream": "stdout",
       "text": [
        " <built-in function id>\n",
        "destroyed friendship"
       ]
      },
      {
       "output_type": "stream",
       "stream": "stdout",
       "text": [
        " <built-in function id>\n",
        "destroyed friendship"
       ]
      },
      {
       "output_type": "stream",
       "stream": "stdout",
       "text": [
        " <built-in function id>\n",
        "destroyed friendship"
       ]
      },
      {
       "output_type": "stream",
       "stream": "stdout",
       "text": [
        " <built-in function id>\n",
        "destroyed friendship"
       ]
      },
      {
       "output_type": "stream",
       "stream": "stdout",
       "text": [
        " <built-in function id>\n",
        "destroyed friendship"
       ]
      },
      {
       "output_type": "stream",
       "stream": "stdout",
       "text": [
        " <built-in function id>\n",
        "destroyed friendship"
       ]
      },
      {
       "output_type": "stream",
       "stream": "stdout",
       "text": [
        " <built-in function id>\n",
        "destroyed friendship"
       ]
      },
      {
       "output_type": "stream",
       "stream": "stdout",
       "text": [
        " <built-in function id>\n"
       ]
      }
     ],
     "prompt_number": 47
    },
    {
     "cell_type": "code",
     "collapsed": false,
     "input": [
      "me = api.me()\n",
      "print me.friends_count\n",
      "print me.followers_count"
     ],
     "language": "python",
     "metadata": {},
     "outputs": []
    },
    {
     "cell_type": "code",
     "collapsed": false,
     "input": [
      "timeline = me.timeline()\n",
      "for el in timeline:\n",
      "    print el.id\n",
      "    api.destroy_status(el.id)"
     ],
     "language": "python",
     "metadata": {},
     "outputs": [
      {
       "output_type": "stream",
       "stream": "stdout",
       "text": [
        "530045428096851968\n",
        "530043321608306688"
       ]
      },
      {
       "output_type": "stream",
       "stream": "stdout",
       "text": [
        "\n",
        "530043091928236033"
       ]
      },
      {
       "output_type": "stream",
       "stream": "stdout",
       "text": [
        "\n",
        "530043050572382208"
       ]
      },
      {
       "output_type": "stream",
       "stream": "stdout",
       "text": [
        "\n",
        "530043043903463425"
       ]
      },
      {
       "output_type": "stream",
       "stream": "stdout",
       "text": [
        "\n",
        "530042868023701504"
       ]
      },
      {
       "output_type": "stream",
       "stream": "stdout",
       "text": [
        "\n",
        "530042693192515584"
       ]
      },
      {
       "output_type": "stream",
       "stream": "stdout",
       "text": [
        "\n",
        "530042655401869312"
       ]
      },
      {
       "output_type": "stream",
       "stream": "stdout",
       "text": [
        "\n",
        "530042618215157760"
       ]
      },
      {
       "output_type": "stream",
       "stream": "stdout",
       "text": [
        "\n",
        "530042585096937472"
       ]
      },
      {
       "output_type": "stream",
       "stream": "stdout",
       "text": [
        "\n",
        "530042515916095488"
       ]
      },
      {
       "output_type": "stream",
       "stream": "stdout",
       "text": [
        "\n",
        "530042510715125760"
       ]
      },
      {
       "output_type": "stream",
       "stream": "stdout",
       "text": [
        "\n",
        "530042505694547970"
       ]
      },
      {
       "output_type": "stream",
       "stream": "stdout",
       "text": [
        "\n",
        "530042503186382848"
       ]
      },
      {
       "output_type": "stream",
       "stream": "stdout",
       "text": [
        "\n",
        "530042369929129985"
       ]
      },
      {
       "output_type": "stream",
       "stream": "stdout",
       "text": [
        "\n",
        "530042291457884161"
       ]
      },
      {
       "output_type": "stream",
       "stream": "stdout",
       "text": [
        "\n",
        "530042260814331905"
       ]
      },
      {
       "output_type": "stream",
       "stream": "stdout",
       "text": [
        "\n",
        "530042192535224320"
       ]
      },
      {
       "output_type": "stream",
       "stream": "stdout",
       "text": [
        "\n",
        "530042181814591488"
       ]
      },
      {
       "output_type": "stream",
       "stream": "stdout",
       "text": [
        "\n",
        "530042164857044992"
       ]
      },
      {
       "output_type": "stream",
       "stream": "stdout",
       "text": [
        "\n"
       ]
      }
     ],
     "prompt_number": 78
    },
    {
     "cell_type": "code",
     "collapsed": false,
     "input": [
      "import time\n",
      "\n",
      "count = 0\n",
      "while True:\n",
      "    timeline = me.timeline()\n",
      "    for el in timeline:\n",
      "        try:\n",
      "            print api.destroy_status(el.id)\n",
      "            print el.id\n",
      "            count +=1\n",
      "            print count\n",
      "        except Exception,e:\n",
      "            print e\n",
      "            print \"error\"\n",
      "            time.sleep(20)\n",
      "            continue\n"
     ],
     "language": "python",
     "metadata": {},
     "outputs": [
      {
       "output_type": "stream",
       "stream": "stdout",
       "text": [
        "<tweepy.models.Status object at 0x1051fd990>\n",
        "529614126243659777\n",
        "1\n",
        "<tweepy.models.Status object at 0x1051fd250>"
       ]
      },
      {
       "output_type": "stream",
       "stream": "stdout",
       "text": [
        "\n",
        "529613651096137729\n",
        "2\n",
        "<tweepy.models.Status object at 0x1051fd650>"
       ]
      },
      {
       "output_type": "stream",
       "stream": "stdout",
       "text": [
        "\n",
        "529613141333004289\n",
        "3\n",
        "<tweepy.models.Status object at 0x1051fda90>"
       ]
      },
      {
       "output_type": "stream",
       "stream": "stdout",
       "text": [
        "\n",
        "529613103584251904\n",
        "4\n",
        "<tweepy.models.Status object at 0x1051fd990>"
       ]
      },
      {
       "output_type": "stream",
       "stream": "stdout",
       "text": [
        "\n",
        "529613091055878144\n",
        "5\n",
        "<tweepy.models.Status object at 0x1051fd250>"
       ]
      },
      {
       "output_type": "stream",
       "stream": "stdout",
       "text": [
        "\n",
        "529612995857756160\n",
        "6\n",
        "<tweepy.models.Status object at 0x1051fd650>"
       ]
      },
      {
       "output_type": "stream",
       "stream": "stdout",
       "text": [
        "\n",
        "529612886726152192\n",
        "7\n",
        "<tweepy.models.Status object at 0x105205750>"
       ]
      },
      {
       "output_type": "stream",
       "stream": "stdout",
       "text": [
        "\n",
        "529612870452264961\n",
        "8\n",
        "<tweepy.models.Status object at 0x1052052d0>"
       ]
      },
      {
       "output_type": "stream",
       "stream": "stdout",
       "text": [
        "\n",
        "529612868279603200\n",
        "9\n",
        "<tweepy.models.Status object at 0x105205750>"
       ]
      },
      {
       "output_type": "stream",
       "stream": "stdout",
       "text": [
        "\n",
        "529612866060845056\n",
        "10\n",
        "<tweepy.models.Status object at 0x1051fdcd0>"
       ]
      },
      {
       "output_type": "stream",
       "stream": "stdout",
       "text": [
        "\n",
        "529612836281286656\n",
        "11\n",
        "<tweepy.models.Status object at 0x1051fd290>"
       ]
      },
      {
       "output_type": "stream",
       "stream": "stdout",
       "text": [
        "\n",
        "529612581968027648\n",
        "12\n",
        "<tweepy.models.Status object at 0x1051fd990>"
       ]
      },
      {
       "output_type": "stream",
       "stream": "stdout",
       "text": [
        "\n",
        "529611702514778112\n",
        "13\n",
        "<tweepy.models.Status object at 0x1051fd650>"
       ]
      },
      {
       "output_type": "stream",
       "stream": "stdout",
       "text": [
        "\n",
        "529611653479170048\n",
        "14\n",
        "<tweepy.models.Status object at 0x1051fdcd0>"
       ]
      },
      {
       "output_type": "stream",
       "stream": "stdout",
       "text": [
        "\n",
        "529611632939663360\n",
        "15\n",
        "<tweepy.models.Status object at 0x1051fd290>"
       ]
      },
      {
       "output_type": "stream",
       "stream": "stdout",
       "text": [
        "\n",
        "529611605882175488\n",
        "16\n",
        "<tweepy.models.Status object at 0x105205750>"
       ]
      },
      {
       "output_type": "stream",
       "stream": "stdout",
       "text": [
        "\n",
        "529611515771772928\n",
        "17\n",
        "<tweepy.models.Status object at 0x1052052d0>"
       ]
      },
      {
       "output_type": "stream",
       "stream": "stdout",
       "text": [
        "\n",
        "529611486759751680\n",
        "18\n",
        "<tweepy.models.Status object at 0x105205750>"
       ]
      },
      {
       "output_type": "stream",
       "stream": "stdout",
       "text": [
        "\n",
        "529611484243193856\n",
        "19\n",
        "<tweepy.models.Status object at 0x1052052d0>"
       ]
      },
      {
       "output_type": "stream",
       "stream": "stdout",
       "text": [
        "\n",
        "529611482078928896\n",
        "20\n",
        "<tweepy.models.Status object at 0x1051fda90>"
       ]
      },
      {
       "output_type": "stream",
       "stream": "stdout",
       "text": [
        "\n",
        "529611477960114176\n",
        "21\n",
        "<tweepy.models.Status object at 0x1051fd490>"
       ]
      },
      {
       "output_type": "stream",
       "stream": "stdout",
       "text": [
        "\n",
        "529610694191480833\n",
        "22\n",
        "<tweepy.models.Status object at 0x1051fd250>"
       ]
      },
      {
       "output_type": "stream",
       "stream": "stdout",
       "text": [
        "\n",
        "529610360551399424\n",
        "23\n",
        "<tweepy.models.Status object at 0x1051fd290>"
       ]
      },
      {
       "output_type": "stream",
       "stream": "stdout",
       "text": [
        "\n",
        "529609686862286848\n",
        "24\n",
        "<tweepy.models.Status object at 0x1051fda90>"
       ]
      },
      {
       "output_type": "stream",
       "stream": "stdout",
       "text": [
        "\n",
        "529607396868763648\n",
        "25\n",
        "<tweepy.models.Status object at 0x1051fd490>"
       ]
      },
      {
       "output_type": "stream",
       "stream": "stdout",
       "text": [
        "\n",
        "529607349779308544\n",
        "26\n",
        "<tweepy.models.Status object at 0x1051fd250>"
       ]
      },
      {
       "output_type": "stream",
       "stream": "stdout",
       "text": [
        "\n",
        "529606955158233088\n",
        "27\n",
        "<tweepy.models.Status object at 0x1051fd290>"
       ]
      },
      {
       "output_type": "stream",
       "stream": "stdout",
       "text": [
        "\n",
        "529606767437955072\n",
        "28\n",
        "<tweepy.models.Status object at 0x1051fda90>"
       ]
      },
      {
       "output_type": "stream",
       "stream": "stdout",
       "text": [
        "\n",
        "529606732738461696\n",
        "29\n",
        "<tweepy.models.Status object at 0x1051fd490>"
       ]
      },
      {
       "output_type": "stream",
       "stream": "stdout",
       "text": [
        "\n",
        "529606121561288704\n",
        "30\n",
        "<tweepy.models.Status object at 0x1051fd250>"
       ]
      },
      {
       "output_type": "stream",
       "stream": "stdout",
       "text": [
        "\n",
        "529605784150487042\n",
        "31\n",
        "<tweepy.models.Status object at 0x1051fd290>"
       ]
      },
      {
       "output_type": "stream",
       "stream": "stdout",
       "text": [
        "\n",
        "529605468818513920\n",
        "32\n",
        "<tweepy.models.Status object at 0x1051fda90>"
       ]
      },
      {
       "output_type": "stream",
       "stream": "stdout",
       "text": [
        "\n",
        "529605454725656576\n",
        "33\n",
        "<tweepy.models.Status object at 0x1051fd490>"
       ]
      },
      {
       "output_type": "stream",
       "stream": "stdout",
       "text": [
        "\n",
        "529605335431282688\n",
        "34\n",
        "<tweepy.models.Status object at 0x1051fd250>"
       ]
      },
      {
       "output_type": "stream",
       "stream": "stdout",
       "text": [
        "\n",
        "529605255261327360\n",
        "35\n",
        "<tweepy.models.Status object at 0x1052057d0>"
       ]
      },
      {
       "output_type": "stream",
       "stream": "stdout",
       "text": [
        "\n",
        "529604908543397888\n",
        "36\n",
        "<tweepy.models.Status object at 0x1051fda90>"
       ]
      },
      {
       "output_type": "stream",
       "stream": "stdout",
       "text": [
        "\n",
        "529604602606673920\n",
        "37\n",
        "<tweepy.models.Status object at 0x1051fd490>"
       ]
      },
      {
       "output_type": "stream",
       "stream": "stdout",
       "text": [
        "\n",
        "529604440782045184\n",
        "38\n",
        "<tweepy.models.Status object at 0x1051fd250>"
       ]
      },
      {
       "output_type": "stream",
       "stream": "stdout",
       "text": [
        "\n",
        "529604273227976704\n",
        "39\n",
        "<tweepy.models.Status object at 0x1051fd290>"
       ]
      },
      {
       "output_type": "stream",
       "stream": "stdout",
       "text": [
        "\n",
        "529604264516407296\n",
        "40\n",
        "<tweepy.models.Status object at 0x1051fd210>"
       ]
      },
      {
       "output_type": "stream",
       "stream": "stdout",
       "text": [
        "\n",
        "529604139446456321\n",
        "41\n",
        "<tweepy.models.Status object at 0x1051fd2d0>"
       ]
      },
      {
       "output_type": "stream",
       "stream": "stdout",
       "text": [
        "\n",
        "529604019610992640\n",
        "42\n",
        "<tweepy.models.Status object at 0x1051fd490>"
       ]
      },
      {
       "output_type": "stream",
       "stream": "stdout",
       "text": [
        "\n",
        "529603903013527552\n",
        "43\n",
        "<tweepy.models.Status object at 0x1051fd7d0>"
       ]
      },
      {
       "output_type": "stream",
       "stream": "stdout",
       "text": [
        "\n",
        "529603688818827264\n",
        "44\n",
        "<tweepy.models.Status object at 0x1051fd210>"
       ]
      },
      {
       "output_type": "stream",
       "stream": "stdout",
       "text": [
        "\n",
        "529602866378719232\n",
        "45\n",
        "<tweepy.models.Status object at 0x1051fd2d0>"
       ]
      },
      {
       "output_type": "stream",
       "stream": "stdout",
       "text": [
        "\n",
        "529602734652407808\n",
        "46\n",
        "<tweepy.models.Status object at 0x1051fd490>"
       ]
      },
      {
       "output_type": "stream",
       "stream": "stdout",
       "text": [
        "\n",
        "529602342350757888\n",
        "47\n",
        "<tweepy.models.Status object at 0x1051fd7d0>"
       ]
      },
      {
       "output_type": "stream",
       "stream": "stdout",
       "text": [
        "\n",
        "529602273601933312\n",
        "48\n",
        "<tweepy.models.Status object at 0x1051fd210>"
       ]
      },
      {
       "output_type": "stream",
       "stream": "stdout",
       "text": [
        "\n",
        "529602108547670016\n",
        "49\n",
        "<tweepy.models.Status object at 0x1051fd2d0>"
       ]
      },
      {
       "output_type": "stream",
       "stream": "stdout",
       "text": [
        "\n",
        "529601986522804224\n",
        "50\n",
        "<tweepy.models.Status object at 0x1051fd490>"
       ]
      },
      {
       "output_type": "stream",
       "stream": "stdout",
       "text": [
        "\n",
        "529601923163652096\n",
        "51\n",
        "<tweepy.models.Status object at 0x1051fd7d0>"
       ]
      },
      {
       "output_type": "stream",
       "stream": "stdout",
       "text": [
        "\n",
        "529601881803612163\n",
        "52\n",
        "<tweepy.models.Status object at 0x1051fd210>"
       ]
      },
      {
       "output_type": "stream",
       "stream": "stdout",
       "text": [
        "\n",
        "529601431532470272\n",
        "53\n",
        "<tweepy.models.Status object at 0x1051fd2d0>"
       ]
      },
      {
       "output_type": "stream",
       "stream": "stdout",
       "text": [
        "\n",
        "529601199004471296\n",
        "54\n",
        "<tweepy.models.Status object at 0x1051fd490>"
       ]
      },
      {
       "output_type": "stream",
       "stream": "stdout",
       "text": [
        "\n",
        "529600775711129600\n",
        "55\n",
        "<tweepy.models.Status object at 0x1051fd7d0>"
       ]
      },
      {
       "output_type": "stream",
       "stream": "stdout",
       "text": [
        "\n",
        "529600471062040576\n",
        "56\n",
        "<tweepy.models.Status object at 0x1051fd210>"
       ]
      },
      {
       "output_type": "stream",
       "stream": "stdout",
       "text": [
        "\n",
        "529600307849068544\n",
        "57\n",
        "<tweepy.models.Status object at 0x1051fd2d0>"
       ]
      },
      {
       "output_type": "stream",
       "stream": "stdout",
       "text": [
        "\n",
        "529598879738900481\n",
        "58\n",
        "<tweepy.models.Status object at 0x1051fd490>"
       ]
      },
      {
       "output_type": "stream",
       "stream": "stdout",
       "text": [
        "\n",
        "529598832720748544\n",
        "59\n",
        "<tweepy.models.Status object at 0x1051fd7d0>"
       ]
      },
      {
       "output_type": "stream",
       "stream": "stdout",
       "text": [
        "\n",
        "529598831919648768\n",
        "60\n",
        "<tweepy.models.Status object at 0x1051fd650>"
       ]
      },
      {
       "output_type": "stream",
       "stream": "stdout",
       "text": [
        "\n",
        "529598717117345793\n",
        "61\n",
        "<tweepy.models.Status object at 0x1051fdcd0>"
       ]
      },
      {
       "output_type": "stream",
       "stream": "stdout",
       "text": [
        "\n",
        "529598532014309377\n",
        "62\n",
        "<tweepy.models.Status object at 0x1051fd2d0>"
       ]
      },
      {
       "output_type": "stream",
       "stream": "stdout",
       "text": [
        "\n",
        "529598440763060224\n",
        "63\n",
        "<tweepy.models.Status object at 0x1051fd990>"
       ]
      },
      {
       "output_type": "stream",
       "stream": "stdout",
       "text": [
        "\n",
        "529597728553451520\n",
        "64\n",
        "<tweepy.models.Status object at 0x1051fd650>"
       ]
      },
      {
       "output_type": "stream",
       "stream": "stdout",
       "text": [
        "\n",
        "529597687143084033\n",
        "65\n",
        "<tweepy.models.Status object at 0x1051fdcd0>"
       ]
      },
      {
       "output_type": "stream",
       "stream": "stdout",
       "text": [
        "\n",
        "529597429726072832\n",
        "66\n",
        "<tweepy.models.Status object at 0x1051fd2d0>"
       ]
      },
      {
       "output_type": "stream",
       "stream": "stdout",
       "text": [
        "\n",
        "529597416744706048\n",
        "67\n",
        "<tweepy.models.Status object at 0x1051fd990>"
       ]
      },
      {
       "output_type": "stream",
       "stream": "stdout",
       "text": [
        "\n",
        "529597393638285312\n",
        "68\n",
        "<tweepy.models.Status object at 0x1052057d0>"
       ]
      },
      {
       "output_type": "stream",
       "stream": "stdout",
       "text": [
        "\n",
        "529597360926887936\n",
        "69\n",
        "<tweepy.models.Status object at 0x1052057d0>"
       ]
      },
      {
       "output_type": "stream",
       "stream": "stdout",
       "text": [
        "\n",
        "529597290441621504\n",
        "70\n",
        "<tweepy.models.Status object at 0x1051fd2d0>"
       ]
      },
      {
       "output_type": "stream",
       "stream": "stdout",
       "text": [
        "\n",
        "529597282942205952\n",
        "71\n",
        "<tweepy.models.Status object at 0x1051fd990>"
       ]
      },
      {
       "output_type": "stream",
       "stream": "stdout",
       "text": [
        "\n",
        "529596978154717184\n",
        "72\n",
        "<tweepy.models.Status object at 0x1051fd650>"
       ]
      },
      {
       "output_type": "stream",
       "stream": "stdout",
       "text": [
        "\n",
        "529596947624390656\n",
        "73\n",
        "<tweepy.models.Status object at 0x105205f90>"
       ]
      },
      {
       "output_type": "stream",
       "stream": "stdout",
       "text": [
        "\n",
        "529596607344693248\n",
        "74\n",
        "<tweepy.models.Status object at 0x1051fd2d0>"
       ]
      },
      {
       "output_type": "stream",
       "stream": "stdout",
       "text": [
        "\n",
        "529596598071074817\n",
        "75\n",
        "<tweepy.models.Status object at 0x1051fd990>"
       ]
      },
      {
       "output_type": "stream",
       "stream": "stdout",
       "text": [
        "\n",
        "529596576126480384\n",
        "76\n",
        "<tweepy.models.Status object at 0x1051fd650>"
       ]
      },
      {
       "output_type": "stream",
       "stream": "stdout",
       "text": [
        "\n",
        "529596517133582336\n",
        "77\n",
        "<tweepy.models.Status object at 0x1051fdcd0>"
       ]
      },
      {
       "output_type": "stream",
       "stream": "stdout",
       "text": [
        "\n",
        "529596490654965760\n",
        "78\n",
        "<tweepy.models.Status object at 0x1051fd2d0>"
       ]
      },
      {
       "output_type": "stream",
       "stream": "stdout",
       "text": [
        "\n",
        "529596463622660096\n",
        "79\n",
        "<tweepy.models.Status object at 0x1051fd990>"
       ]
      },
      {
       "output_type": "stream",
       "stream": "stdout",
       "text": [
        "\n",
        "529596125649829890\n",
        "80\n",
        "<tweepy.models.Status object at 0x1051fd390>"
       ]
      },
      {
       "output_type": "stream",
       "stream": "stdout",
       "text": [
        "\n",
        "529596094909804545\n",
        "81\n",
        "<tweepy.models.Status object at 0x1051fd250>"
       ]
      },
      {
       "output_type": "stream",
       "stream": "stdout",
       "text": [
        "\n",
        "529596010340040704\n",
        "82\n",
        "<tweepy.models.Status object at 0x1051fdcd0>"
       ]
      },
      {
       "output_type": "stream",
       "stream": "stdout",
       "text": [
        "\n",
        "529595954409013248\n",
        "83\n",
        "<tweepy.models.Status object at 0x1051fd290>"
       ]
      },
      {
       "output_type": "stream",
       "stream": "stdout",
       "text": [
        "\n",
        "529595633104322561\n",
        "84\n",
        "<tweepy.models.Status object at 0x1051fd390>"
       ]
      },
      {
       "output_type": "stream",
       "stream": "stdout",
       "text": [
        "\n",
        "529595422273454080\n",
        "85\n",
        "<tweepy.models.Status object at 0x1051fd250>"
       ]
      },
      {
       "output_type": "stream",
       "stream": "stdout",
       "text": [
        "\n",
        "529595206870765568\n",
        "86\n",
        "<tweepy.models.Status object at 0x1051fdcd0>"
       ]
      },
      {
       "output_type": "stream",
       "stream": "stdout",
       "text": [
        "\n",
        "529594947318874112\n",
        "87\n",
        "<tweepy.models.Status object at 0x1051fd290>"
       ]
      },
      {
       "output_type": "stream",
       "stream": "stdout",
       "text": [
        "\n",
        "529594810597130241\n",
        "88\n",
        "<tweepy.models.Status object at 0x1051fd390>"
       ]
      },
      {
       "output_type": "stream",
       "stream": "stdout",
       "text": [
        "\n",
        "529594666724118528\n",
        "89\n",
        "<tweepy.models.Status object at 0x1051fd250>"
       ]
      },
      {
       "output_type": "stream",
       "stream": "stdout",
       "text": [
        "\n",
        "529594233557360640\n",
        "90\n",
        "<tweepy.models.Status object at 0x1051fdcd0>"
       ]
      },
      {
       "output_type": "stream",
       "stream": "stdout",
       "text": [
        "\n",
        "529593870867496961\n",
        "91\n",
        "<tweepy.models.Status object at 0x105205d50>"
       ]
      },
      {
       "output_type": "stream",
       "stream": "stdout",
       "text": [
        "\n",
        "529593656366620672\n",
        "92\n",
        "<tweepy.models.Status object at 0x1051fd390>"
       ]
      },
      {
       "output_type": "stream",
       "stream": "stdout",
       "text": [
        "\n",
        "529592724312563713\n",
        "93\n",
        "<tweepy.models.Status object at 0x1051fd250>"
       ]
      },
      {
       "output_type": "stream",
       "stream": "stdout",
       "text": [
        "\n",
        "529592572877213696\n",
        "94\n",
        "<tweepy.models.Status object at 0x1051fdcd0>"
       ]
      },
      {
       "output_type": "stream",
       "stream": "stdout",
       "text": [
        "\n",
        "529592234858283008\n",
        "95\n",
        "<tweepy.models.Status object at 0x1051fd290>"
       ]
      },
      {
       "output_type": "stream",
       "stream": "stdout",
       "text": [
        "\n",
        "529591974731714560\n",
        "96\n",
        "<tweepy.models.Status object at 0x1051fd390>"
       ]
      },
      {
       "output_type": "stream",
       "stream": "stdout",
       "text": [
        "\n",
        "529591806607237121\n",
        "97\n",
        "<tweepy.models.Status object at 0x1051fd250>"
       ]
      },
      {
       "output_type": "stream",
       "stream": "stdout",
       "text": [
        "\n",
        "529591800097685504\n",
        "98\n",
        "<tweepy.models.Status object at 0x1051fdcd0>"
       ]
      },
      {
       "output_type": "stream",
       "stream": "stdout",
       "text": [
        "\n",
        "529591738491752449\n",
        "99\n",
        "<tweepy.models.Status object at 0x1051fd290>"
       ]
      },
      {
       "output_type": "stream",
       "stream": "stdout",
       "text": [
        "\n",
        "529591442545840128\n",
        "100\n",
        "<tweepy.models.Status object at 0x1051fd690>"
       ]
      },
      {
       "output_type": "stream",
       "stream": "stdout",
       "text": [
        "\n",
        "529590689286619136\n",
        "101\n",
        "<tweepy.models.Status object at 0x1051fd490>"
       ]
      },
      {
       "output_type": "stream",
       "stream": "stdout",
       "text": [
        "\n",
        "529590481064570880\n",
        "102\n",
        "<tweepy.models.Status object at 0x1051fd250>"
       ]
      },
      {
       "output_type": "stream",
       "stream": "stdout",
       "text": [
        "\n",
        "529590406586318850\n",
        "103\n",
        "<tweepy.models.Status object at 0x1051fd7d0>"
       ]
      },
      {
       "output_type": "stream",
       "stream": "stdout",
       "text": [
        "\n",
        "529590217800708097\n",
        "104\n",
        "<tweepy.models.Status object at 0x1051fd690>"
       ]
      },
      {
       "output_type": "stream",
       "stream": "stdout",
       "text": [
        "\n",
        "529590067988533248\n",
        "105\n",
        "<tweepy.models.Status object at 0x1051fd490>"
       ]
      },
      {
       "output_type": "stream",
       "stream": "stdout",
       "text": [
        "\n",
        "529589788022947840\n",
        "106\n",
        "<tweepy.models.Status object at 0x1051fd250>"
       ]
      },
      {
       "output_type": "stream",
       "stream": "stdout",
       "text": [
        "\n",
        "529589657651384321\n",
        "107\n",
        "<tweepy.models.Status object at 0x1052057d0>"
       ]
      },
      {
       "output_type": "stream",
       "stream": "stdout",
       "text": [
        "\n",
        "529589298136637441\n",
        "108\n",
        "<tweepy.models.Status object at 0x1051fd2d0>"
       ]
      },
      {
       "output_type": "stream",
       "stream": "stdout",
       "text": [
        "\n",
        "529589296073015296\n",
        "109\n",
        "<tweepy.models.Status object at 0x1051fd490>"
       ]
      },
      {
       "output_type": "stream",
       "stream": "stdout",
       "text": [
        "\n",
        "529589293262835712\n",
        "110\n",
        "<tweepy.models.Status object at 0x1051fd650>"
       ]
      },
      {
       "output_type": "stream",
       "stream": "stdout",
       "text": [
        "\n",
        "529589162459279360\n",
        "111\n",
        "<tweepy.models.Status object at 0x1051fd250>"
       ]
      },
      {
       "output_type": "stream",
       "stream": "stdout",
       "text": [
        "\n",
        "529589100396158976\n",
        "112\n",
        "<tweepy.models.Status object at 0x1051fd2d0>"
       ]
      },
      {
       "output_type": "stream",
       "stream": "stdout",
       "text": [
        "\n",
        "529589020222042112\n",
        "113\n",
        "<tweepy.models.Status object at 0x1051fd490>"
       ]
      },
      {
       "output_type": "stream",
       "stream": "stdout",
       "text": [
        "\n",
        "529588931437031424\n",
        "114\n",
        "<tweepy.models.Status object at 0x1051fd650>"
       ]
      },
      {
       "output_type": "stream",
       "stream": "stdout",
       "text": [
        "\n",
        "529588926735204352\n",
        "115\n",
        "<tweepy.models.Status object at 0x1051fd250>"
       ]
      },
      {
       "output_type": "stream",
       "stream": "stdout",
       "text": [
        "\n",
        "529588892086075393\n",
        "116\n",
        "<tweepy.models.Status object at 0x105205350>"
       ]
      },
      {
       "output_type": "stream",
       "stream": "stdout",
       "text": [
        "\n",
        "529588841427238913\n",
        "117\n",
        "<tweepy.models.Status object at 0x1051fd210>"
       ]
      },
      {
       "output_type": "stream",
       "stream": "stdout",
       "text": [
        "\n",
        "529588839283978240\n",
        "118\n",
        "<tweepy.models.Status object at 0x1051fd650>"
       ]
      },
      {
       "output_type": "stream",
       "stream": "stdout",
       "text": [
        "\n",
        "529588836662517760\n",
        "119\n",
        "<tweepy.models.Status object at 0x1051fd990>"
       ]
      },
      {
       "output_type": "stream",
       "stream": "stdout",
       "text": [
        "\n",
        "529588657880301568\n",
        "120\n",
        "<tweepy.models.Status object at 0x1051fd690>"
       ]
      },
      {
       "output_type": "stream",
       "stream": "stdout",
       "text": [
        "\n",
        "529588319265755136\n",
        "121\n",
        "<tweepy.models.Status object at 0x1051fd7d0>"
       ]
      },
      {
       "output_type": "stream",
       "stream": "stdout",
       "text": [
        "\n",
        "529587700941467648\n",
        "122\n",
        "<tweepy.models.Status object at 0x105205f90>"
       ]
      },
      {
       "output_type": "stream",
       "stream": "stdout",
       "text": [
        "\n",
        "529587332878725120\n",
        "123\n",
        "<tweepy.models.Status object at 0x1051fd390>"
       ]
      },
      {
       "output_type": "stream",
       "stream": "stdout",
       "text": [
        "\n",
        "529587171423174656\n",
        "124\n",
        "<tweepy.models.Status object at 0x1051fd690>"
       ]
      },
      {
       "output_type": "stream",
       "stream": "stdout",
       "text": [
        "\n",
        "529587137256378368\n",
        "125\n",
        "<tweepy.models.Status object at 0x1051fd7d0>"
       ]
      },
      {
       "output_type": "stream",
       "stream": "stdout",
       "text": [
        "\n",
        "529587017177661441\n",
        "126\n",
        "<tweepy.models.Status object at 0x1051fd210>"
       ]
      },
      {
       "output_type": "stream",
       "stream": "stdout",
       "text": [
        "\n",
        "529586424023367680\n",
        "127\n",
        "<tweepy.models.Status object at 0x105205f90>"
       ]
      },
      {
       "output_type": "stream",
       "stream": "stdout",
       "text": [
        "\n",
        "529586209589592064\n",
        "128\n",
        "<tweepy.models.Status object at 0x1051fd690>"
       ]
      },
      {
       "output_type": "stream",
       "stream": "stdout",
       "text": [
        "\n",
        "529586056761720832\n",
        "129\n",
        "<tweepy.models.Status object at 0x1051fd7d0>"
       ]
      },
      {
       "output_type": "stream",
       "stream": "stdout",
       "text": [
        "\n",
        "529586035643400192\n",
        "130\n",
        "<tweepy.models.Status object at 0x1051fd210>"
       ]
      },
      {
       "output_type": "stream",
       "stream": "stdout",
       "text": [
        "\n",
        "529585462730833920\n",
        "131\n",
        "<tweepy.models.Status object at 0x1051fd390>"
       ]
      },
      {
       "output_type": "stream",
       "stream": "stdout",
       "text": [
        "\n",
        "529585423597961216\n",
        "132\n",
        "<tweepy.models.Status object at 0x1051fd690>"
       ]
      },
      {
       "output_type": "stream",
       "stream": "stdout",
       "text": [
        "\n",
        "529585231981207552\n",
        "133\n",
        "<tweepy.models.Status object at 0x1051fd7d0>"
       ]
      },
      {
       "output_type": "stream",
       "stream": "stdout",
       "text": [
        "\n",
        "529584883992367104\n",
        "134\n",
        "<tweepy.models.Status object at 0x1051fd210>"
       ]
      },
      {
       "output_type": "stream",
       "stream": "stdout",
       "text": [
        "\n",
        "529584745274167296\n",
        "135\n",
        "<tweepy.models.Status object at 0x1051fd390>"
       ]
      },
      {
       "output_type": "stream",
       "stream": "stdout",
       "text": [
        "\n",
        "529584291173642240\n",
        "136\n",
        "<tweepy.models.Status object at 0x1051fd690>"
       ]
      },
      {
       "output_type": "stream",
       "stream": "stdout",
       "text": [
        "\n",
        "529584260911738880\n",
        "137\n",
        "<tweepy.models.Status object at 0x1051fd7d0>"
       ]
      },
      {
       "output_type": "stream",
       "stream": "stdout",
       "text": [
        "\n",
        "529583856111087616\n",
        "138\n",
        "<tweepy.models.Status object at 0x1051fd210>"
       ]
      },
      {
       "output_type": "stream",
       "stream": "stdout",
       "text": [
        "\n",
        "529583173441961984\n",
        "139\n",
        "<tweepy.models.Status object at 0x1051fd390>"
       ]
      },
      {
       "output_type": "stream",
       "stream": "stdout",
       "text": [
        "\n",
        "529582854146387969\n",
        "140\n",
        "<tweepy.models.Status object at 0x1051fd2d0>"
       ]
      },
      {
       "output_type": "stream",
       "stream": "stdout",
       "text": [
        "\n",
        "529582784319590401\n",
        "141\n",
        "<tweepy.models.Status object at 0x1051fd490>"
       ]
      },
      {
       "output_type": "stream",
       "stream": "stdout",
       "text": [
        "\n",
        "529582778418212865\n",
        "142\n",
        "<tweepy.models.Status object at 0x1051fd7d0>"
       ]
      },
      {
       "output_type": "stream",
       "stream": "stdout",
       "text": [
        "\n",
        "529582755907379200\n",
        "143\n",
        "<tweepy.models.Status object at 0x1051fda90>"
       ]
      },
      {
       "output_type": "stream",
       "stream": "stdout",
       "text": [
        "\n",
        "529582755362131968\n",
        "144\n",
        "<tweepy.models.Status object at 0x1051fd2d0>"
       ]
      },
      {
       "output_type": "stream",
       "stream": "stdout",
       "text": [
        "\n",
        "529582338301493248\n",
        "145\n",
        "<tweepy.models.Status object at 0x1051fd490>"
       ]
      },
      {
       "output_type": "stream",
       "stream": "stdout",
       "text": [
        "\n",
        "529582331649343488\n",
        "146\n",
        "<tweepy.models.Status object at 0x1051fd7d0>"
       ]
      },
      {
       "output_type": "stream",
       "stream": "stdout",
       "text": [
        "\n",
        "529581412710895616\n",
        "147\n",
        "<tweepy.models.Status object at 0x1051fda90>"
       ]
      },
      {
       "output_type": "stream",
       "stream": "stdout",
       "text": [
        "\n",
        "529581370444902400\n",
        "148\n",
        "<tweepy.models.Status object at 0x105205f90>"
       ]
      },
      {
       "output_type": "stream",
       "stream": "stdout",
       "text": [
        "\n",
        "529581355106304000\n",
        "149\n",
        "<tweepy.models.Status object at 0x105205f90>"
       ]
      },
      {
       "output_type": "stream",
       "stream": "stdout",
       "text": [
        "\n",
        "529580950901231616\n",
        "150\n",
        "<tweepy.models.Status object at 0x1051fd7d0>"
       ]
      },
      {
       "output_type": "stream",
       "stream": "stdout",
       "text": [
        "\n",
        "529580186724237312\n",
        "151\n",
        "<tweepy.models.Status object at 0x1051fda90>"
       ]
      },
      {
       "output_type": "stream",
       "stream": "stdout",
       "text": [
        "\n",
        "529580140888862720\n",
        "152\n",
        "<tweepy.models.Status object at 0x1051fd2d0>"
       ]
      },
      {
       "output_type": "stream",
       "stream": "stdout",
       "text": [
        "\n",
        "529579702131118080\n",
        "153\n",
        "<tweepy.models.Status object at 0x1052054d0>"
       ]
      },
      {
       "output_type": "stream",
       "stream": "stdout",
       "text": [
        "\n",
        "529579623651495936\n",
        "154\n",
        "<tweepy.models.Status object at 0x1051fd7d0>"
       ]
      },
      {
       "output_type": "stream",
       "stream": "stdout",
       "text": [
        "\n",
        "529579446026924032\n",
        "155\n",
        "<tweepy.models.Status object at 0x1051fda90>"
       ]
      },
      {
       "output_type": "stream",
       "stream": "stdout",
       "text": [
        "\n",
        "529578878495637504\n",
        "156\n",
        "<tweepy.models.Status object at 0x1051fd2d0>"
       ]
      },
      {
       "output_type": "stream",
       "stream": "stdout",
       "text": [
        "\n",
        "529578870442582016\n",
        "157\n",
        "<tweepy.models.Status object at 0x105205b50>"
       ]
      },
      {
       "output_type": "stream",
       "stream": "stdout",
       "text": [
        "\n",
        "529578743212556288\n",
        "158\n",
        "<tweepy.models.Status object at 0x1051fd7d0>"
       ]
      },
      {
       "output_type": "stream",
       "stream": "stdout",
       "text": [
        "\n",
        "529578549230198784\n",
        "159\n",
        "<tweepy.models.Status object at 0x105205f90>"
       ]
      },
      {
       "output_type": "stream",
       "stream": "stdout",
       "text": [
        "\n",
        "529578190449414144\n",
        "160\n",
        "<tweepy.models.Status object at 0x1051fd290>"
       ]
      },
      {
       "output_type": "stream",
       "stream": "stdout",
       "text": [
        "\n",
        "529577847367958528\n",
        "161\n",
        "<tweepy.models.Status object at 0x1051fd650>"
       ]
      },
      {
       "output_type": "stream",
       "stream": "stdout",
       "text": [
        "\n",
        "529577733849092097\n",
        "162\n",
        "<tweepy.models.Status object at 0x1051fd490>"
       ]
      },
      {
       "output_type": "stream",
       "stream": "stdout",
       "text": [
        "\n",
        "529577576231362560\n",
        "163\n",
        "<tweepy.models.Status object at 0x1051fd990>"
       ]
      },
      {
       "output_type": "stream",
       "stream": "stdout",
       "text": [
        "\n",
        "529577559231840256\n",
        "164\n",
        "<tweepy.models.Status object at 0x1051fd290>"
       ]
      },
      {
       "output_type": "stream",
       "stream": "stdout",
       "text": [
        "\n",
        "529576801606328320\n",
        "165\n",
        "<tweepy.models.Status object at 0x1051fd650>"
       ]
      },
      {
       "output_type": "stream",
       "stream": "stdout",
       "text": [
        "\n",
        "529576442519379969\n",
        "166\n",
        "<tweepy.models.Status object at 0x1051fd490>"
       ]
      },
      {
       "output_type": "stream",
       "stream": "stdout",
       "text": [
        "\n",
        "529576329117970432\n",
        "167\n",
        "<tweepy.models.Status object at 0x1051fd990>"
       ]
      },
      {
       "output_type": "stream",
       "stream": "stdout",
       "text": [
        "\n",
        "529576015614730240\n",
        "168\n",
        "<tweepy.models.Status object at 0x1051fd290>"
       ]
      },
      {
       "output_type": "stream",
       "stream": "stdout",
       "text": [
        "\n",
        "529575871062241280\n",
        "169\n",
        "<tweepy.models.Status object at 0x1051fd650>"
       ]
      },
      {
       "output_type": "stream",
       "stream": "stdout",
       "text": [
        "\n",
        "529575857548173312\n",
        "170\n",
        "<tweepy.models.Status object at 0x1051fd490>"
       ]
      },
      {
       "output_type": "stream",
       "stream": "stdout",
       "text": [
        "\n",
        "529575822752243712\n",
        "171\n",
        "<tweepy.models.Status object at 0x1051fd990>"
       ]
      },
      {
       "output_type": "stream",
       "stream": "stdout",
       "text": [
        "\n",
        "529575816624345088\n",
        "172\n",
        "<tweepy.models.Status object at 0x105205f90>"
       ]
      },
      {
       "output_type": "stream",
       "stream": "stdout",
       "text": [
        "\n",
        "529575802313383936\n",
        "173\n",
        "<tweepy.models.Status object at 0x1051fd650>"
       ]
      },
      {
       "output_type": "stream",
       "stream": "stdout",
       "text": [
        "\n",
        "529575686349283328\n",
        "174\n",
        "<tweepy.models.Status object at 0x1051fd490>"
       ]
      },
      {
       "output_type": "stream",
       "stream": "stdout",
       "text": [
        "\n",
        "529575550684520448\n",
        "175\n",
        "<tweepy.models.Status object at 0x1051fd990>"
       ]
      },
      {
       "output_type": "stream",
       "stream": "stdout",
       "text": [
        "\n",
        "529575082289811456\n",
        "176\n",
        "<tweepy.models.Status object at 0x1051fd290>"
       ]
      },
      {
       "output_type": "stream",
       "stream": "stdout",
       "text": [
        "\n",
        "529575075994148864\n",
        "177\n",
        "<tweepy.models.Status object at 0x1051fd650>"
       ]
      },
      {
       "output_type": "stream",
       "stream": "stdout",
       "text": [
        "\n",
        "529574588993507329\n",
        "178\n",
        "<tweepy.models.Status object at 0x1051fd490>"
       ]
      },
      {
       "output_type": "stream",
       "stream": "stdout",
       "text": [
        "\n",
        "529574573906616320\n",
        "179\n",
        "<tweepy.models.Status object at 0x1051fd990>"
       ]
      },
      {
       "output_type": "stream",
       "stream": "stdout",
       "text": [
        "\n",
        "529574178031411200\n",
        "180\n",
        "<tweepy.models.Status object at 0x105205090>"
       ]
      },
      {
       "output_type": "stream",
       "stream": "stdout",
       "text": [
        "\n",
        "529573862800121856\n",
        "181\n",
        "<tweepy.models.Status object at 0x105205d10>"
       ]
      },
      {
       "output_type": "stream",
       "stream": "stdout",
       "text": [
        "\n",
        "529573298284535808\n",
        "182\n",
        "<tweepy.models.Status object at 0x1051fd990>"
       ]
      },
      {
       "output_type": "stream",
       "stream": "stdout",
       "text": [
        "\n",
        "529572882608029696\n",
        "183\n",
        "<tweepy.models.Status object at 0x105205d10>"
       ]
      },
      {
       "output_type": "stream",
       "stream": "stdout",
       "text": [
        "\n",
        "529572861720412161\n",
        "184\n",
        "<tweepy.models.Status object at 0x1051fd390>"
       ]
      },
      {
       "output_type": "stream",
       "stream": "stdout",
       "text": [
        "\n",
        "529572850014109696\n",
        "185\n",
        "<tweepy.models.Status object at 0x105205d10>"
       ]
      },
      {
       "output_type": "stream",
       "stream": "stdout",
       "text": [
        "\n",
        "529572568005894144\n",
        "186\n",
        "<tweepy.models.Status object at 0x1051fdcd0>"
       ]
      },
      {
       "output_type": "stream",
       "stream": "stdout",
       "text": [
        "\n",
        "529571979096236032\n",
        "187\n",
        "<tweepy.models.Status object at 0x105205d10>"
       ]
      },
      {
       "output_type": "stream",
       "stream": "stdout",
       "text": [
        "\n",
        "529571815442874368\n",
        "188\n",
        "<tweepy.models.Status object at 0x1051fd990>"
       ]
      },
      {
       "output_type": "stream",
       "stream": "stdout",
       "text": [
        "\n",
        "529571559162527744\n",
        "189\n",
        "<tweepy.models.Status object at 0x105205d10>"
       ]
      },
      {
       "output_type": "stream",
       "stream": "stdout",
       "text": [
        "\n",
        "529571508205940736\n",
        "190\n",
        "<tweepy.models.Status object at 0x1051fd390>"
       ]
      },
      {
       "output_type": "stream",
       "stream": "stdout",
       "text": [
        "\n",
        "529571275199754240\n",
        "191\n",
        "<tweepy.models.Status object at 0x105205d10>"
       ]
      },
      {
       "output_type": "stream",
       "stream": "stdout",
       "text": [
        "\n",
        "529571033108717568\n",
        "192\n",
        "<tweepy.models.Status object at 0x1051fdcd0>"
       ]
      },
      {
       "output_type": "stream",
       "stream": "stdout",
       "text": [
        "\n",
        "529570763393990656\n",
        "193\n",
        "<tweepy.models.Status object at 0x105205d10>"
       ]
      },
      {
       "output_type": "stream",
       "stream": "stdout",
       "text": [
        "\n",
        "529570278784126976\n",
        "194\n",
        "<tweepy.models.Status object at 0x1051fd990>"
       ]
      },
      {
       "output_type": "stream",
       "stream": "stdout",
       "text": [
        "\n",
        "529570043538198528\n",
        "195\n",
        "<tweepy.models.Status object at 0x105205090>"
       ]
      },
      {
       "output_type": "stream",
       "stream": "stdout",
       "text": [
        "\n",
        "529569799521992704\n",
        "196\n",
        "<tweepy.models.Status object at 0x1051fd390>"
       ]
      },
      {
       "output_type": "stream",
       "stream": "stdout",
       "text": [
        "\n",
        "529569782681845760\n",
        "197\n",
        "<tweepy.models.Status object at 0x105205090>"
       ]
      },
      {
       "output_type": "stream",
       "stream": "stdout",
       "text": [
        "\n",
        "529569778063933440\n",
        "198\n",
        "<tweepy.models.Status object at 0x1051fdcd0>"
       ]
      },
      {
       "output_type": "stream",
       "stream": "stdout",
       "text": [
        "\n",
        "529569523897466880\n",
        "199\n",
        "<tweepy.models.Status object at 0x105205090>"
       ]
      },
      {
       "output_type": "stream",
       "stream": "stdout",
       "text": [
        "\n",
        "529569131390312449\n",
        "200\n",
        "<tweepy.models.Status object at 0x1051fd650>"
       ]
      },
      {
       "output_type": "stream",
       "stream": "stdout",
       "text": [
        "\n",
        "529568931208769536\n",
        "201\n",
        "<tweepy.models.Status object at 0x105205090>"
       ]
      },
      {
       "output_type": "stream",
       "stream": "stdout",
       "text": [
        "\n",
        "529568794357014530\n",
        "202\n",
        "<tweepy.models.Status object at 0x105205090>"
       ]
      },
      {
       "output_type": "stream",
       "stream": "stdout",
       "text": [
        "\n",
        "529568765940629504\n",
        "203\n",
        "<tweepy.models.Status object at 0x1051fd210>"
       ]
      },
      {
       "output_type": "stream",
       "stream": "stdout",
       "text": [
        "\n",
        "529568713079783424\n",
        "204\n",
        "<tweepy.models.Status object at 0x1051fd650>"
       ]
      },
      {
       "output_type": "stream",
       "stream": "stdout",
       "text": [
        "\n",
        "529568282148622336\n",
        "205\n",
        "<tweepy.models.Status object at 0x1051fd690>"
       ]
      },
      {
       "output_type": "stream",
       "stream": "stdout",
       "text": [
        "\n",
        "529568223906504704\n",
        "206\n",
        "<tweepy.models.Status object at 0x1051fd490>"
       ]
      },
      {
       "output_type": "stream",
       "stream": "stdout",
       "text": [
        "\n",
        "529568211449442304\n",
        "207\n",
        "<tweepy.models.Status object at 0x105205090>"
       ]
      },
      {
       "output_type": "stream",
       "stream": "stdout",
       "text": [
        "\n",
        "529568130671329280\n",
        "208\n",
        "<tweepy.models.Status object at 0x1051fd650>"
       ]
      },
      {
       "output_type": "stream",
       "stream": "stdout",
       "text": [
        "\n",
        "529568042708381696\n",
        "209\n",
        "<tweepy.models.Status object at 0x1051fd690>"
       ]
      },
      {
       "output_type": "stream",
       "stream": "stdout",
       "text": [
        "\n",
        "529567850626023424\n",
        "210\n",
        "<tweepy.models.Status object at 0x1051fd490>"
       ]
      },
      {
       "output_type": "stream",
       "stream": "stdout",
       "text": [
        "\n",
        "529567823702798336\n",
        "211\n",
        "<tweepy.models.Status object at 0x105205d10>"
       ]
      },
      {
       "output_type": "stream",
       "stream": "stdout",
       "text": [
        "\n",
        "529567430579060736\n",
        "212\n",
        "<tweepy.models.Status object at 0x1051fd650>"
       ]
      },
      {
       "output_type": "stream",
       "stream": "stdout",
       "text": [
        "\n",
        "529567012012720128\n",
        "213\n",
        "<tweepy.models.Status object at 0x1051fd690>"
       ]
      },
      {
       "output_type": "stream",
       "stream": "stdout",
       "text": [
        "\n",
        "529566988973375488\n",
        "214\n",
        "<tweepy.models.Status object at 0x1051fd490>"
       ]
      },
      {
       "output_type": "stream",
       "stream": "stdout",
       "text": [
        "\n",
        "529566876058533889\n",
        "215\n",
        "<tweepy.models.Status object at 0x1051fd210>"
       ]
      },
      {
       "output_type": "stream",
       "stream": "stdout",
       "text": [
        "\n",
        "529566303045287936\n",
        "216\n",
        "<tweepy.models.Status object at 0x1051fd650>"
       ]
      },
      {
       "output_type": "stream",
       "stream": "stdout",
       "text": [
        "\n",
        "529566244656402432\n",
        "217\n",
        "<tweepy.models.Status object at 0x1051fd690>"
       ]
      },
      {
       "output_type": "stream",
       "stream": "stdout",
       "text": [
        "\n",
        "529566115517956096\n",
        "218\n",
        "<tweepy.models.Status object at 0x1051fd490>"
       ]
      },
      {
       "output_type": "stream",
       "stream": "stdout",
       "text": [
        "\n",
        "529565743449669632\n",
        "219\n",
        "<tweepy.models.Status object at 0x1051fd210>"
       ]
      },
      {
       "output_type": "stream",
       "stream": "stdout",
       "text": [
        "\n",
        "529565596133117952\n",
        "220\n",
        "<tweepy.models.Status object at 0x1051fd390>"
       ]
      },
      {
       "output_type": "stream",
       "stream": "stdout",
       "text": [
        "\n",
        "529565281853927424\n",
        "221\n",
        "<tweepy.models.Status object at 0x1051fd290>"
       ]
      },
      {
       "output_type": "stream",
       "stream": "stdout",
       "text": [
        "\n",
        "529564004797390848\n",
        "222\n",
        "<tweepy.models.Status object at 0x1051fd690>"
       ]
      },
      {
       "output_type": "stream",
       "stream": "stdout",
       "text": [
        "\n",
        "529563773217296384\n",
        "223\n",
        "<tweepy.models.Status object at 0x1051fd2d0>"
       ]
      },
      {
       "output_type": "stream",
       "stream": "stdout",
       "text": [
        "\n",
        "529562552809050112\n",
        "224\n",
        "<tweepy.models.Status object at 0x1051fd390>"
       ]
      },
      {
       "output_type": "stream",
       "stream": "stdout",
       "text": [
        "\n",
        "529562535188770816\n",
        "225\n",
        "<tweepy.models.Status object at 0x1051fd290>"
       ]
      },
      {
       "output_type": "stream",
       "stream": "stdout",
       "text": [
        "\n",
        "529561838921736192\n",
        "226\n",
        "<tweepy.models.Status object at 0x1051fd690>"
       ]
      },
      {
       "output_type": "stream",
       "stream": "stdout",
       "text": [
        "\n",
        "529561798228586496\n",
        "227\n",
        "<tweepy.models.Status object at 0x1051fd2d0>"
       ]
      },
      {
       "output_type": "stream",
       "stream": "stdout",
       "text": [
        "\n",
        "529561612668387328\n",
        "228\n",
        "<tweepy.models.Status object at 0x1051fd390>"
       ]
      },
      {
       "output_type": "stream",
       "stream": "stdout",
       "text": [
        "\n",
        "529561564912033793\n",
        "229\n",
        "<tweepy.models.Status object at 0x1051fd290>"
       ]
      },
      {
       "output_type": "stream",
       "stream": "stdout",
       "text": [
        "\n",
        "529561349802975232\n",
        "230\n",
        "<tweepy.models.Status object at 0x1051fd690>"
       ]
      },
      {
       "output_type": "stream",
       "stream": "stdout",
       "text": [
        "\n",
        "529561272111890432\n",
        "231\n",
        "<tweepy.models.Status object at 0x1051fd2d0>"
       ]
      },
      {
       "output_type": "stream",
       "stream": "stdout",
       "text": [
        "\n",
        "529561247491321857\n",
        "232\n",
        "<tweepy.models.Status object at 0x1051fd390>"
       ]
      },
      {
       "output_type": "stream",
       "stream": "stdout",
       "text": [
        "\n",
        "529561222002511872\n",
        "233\n",
        "<tweepy.models.Status object at 0x1051fd290>"
       ]
      },
      {
       "output_type": "stream",
       "stream": "stdout",
       "text": [
        "\n",
        "529560176505135104\n",
        "234\n",
        "<tweepy.models.Status object at 0x1051fd690>"
       ]
      },
      {
       "output_type": "stream",
       "stream": "stdout",
       "text": [
        "\n",
        "529560053435863040\n",
        "235\n",
        "<tweepy.models.Status object at 0x1051fd2d0>"
       ]
      },
      {
       "output_type": "stream",
       "stream": "stdout",
       "text": [
        "\n",
        "529559682168672256\n",
        "236\n",
        "<tweepy.models.Status object at 0x1051fd390>"
       ]
      },
      {
       "output_type": "stream",
       "stream": "stdout",
       "text": [
        "\n",
        "529559457723088896\n",
        "237\n",
        "<tweepy.models.Status object at 0x1051fd290>"
       ]
      },
      {
       "output_type": "stream",
       "stream": "stdout",
       "text": [
        "\n",
        "529559312746967040\n",
        "238\n",
        "<tweepy.models.Status object at 0x1051fd690>"
       ]
      },
      {
       "output_type": "stream",
       "stream": "stdout",
       "text": [
        "\n",
        "529559190206181376\n",
        "239\n",
        "<tweepy.models.Status object at 0x1051fd2d0>"
       ]
      },
      {
       "output_type": "stream",
       "stream": "stdout",
       "text": [
        "\n",
        "529559183352659968\n",
        "240\n",
        "<tweepy.models.Status object at 0x1051fd7d0>"
       ]
      },
      {
       "output_type": "stream",
       "stream": "stdout",
       "text": [
        "\n",
        "529559009943379968\n",
        "241\n",
        "<tweepy.models.Status object at 0x1051fd250>"
       ]
      },
      {
       "output_type": "stream",
       "stream": "stdout",
       "text": [
        "\n",
        "529558803139006464\n",
        "242\n",
        "<tweepy.models.Status object at 0x1051fd290>"
       ]
      },
      {
       "output_type": "stream",
       "stream": "stdout",
       "text": [
        "\n",
        "529558728128073728\n",
        "243\n",
        "<tweepy.models.Status object at 0x1051fdcd0>"
       ]
      },
      {
       "output_type": "stream",
       "stream": "stdout",
       "text": [
        "\n",
        "529558651049345024\n",
        "244\n",
        "<tweepy.models.Status object at 0x1051fd7d0>"
       ]
      },
      {
       "output_type": "stream",
       "stream": "stdout",
       "text": [
        "\n",
        "529558466961358848\n",
        "245\n",
        "<tweepy.models.Status object at 0x1051fd250>"
       ]
      },
      {
       "output_type": "stream",
       "stream": "stdout",
       "text": [
        "\n",
        "529557539437170688\n",
        "246\n",
        "<tweepy.models.Status object at 0x1051fd290>"
       ]
      },
      {
       "output_type": "stream",
       "stream": "stdout",
       "text": [
        "\n",
        "529557446273298432\n",
        "247\n",
        "<tweepy.models.Status object at 0x1051fdcd0>"
       ]
      },
      {
       "output_type": "stream",
       "stream": "stdout",
       "text": [
        "\n",
        "529557250025984000\n",
        "248\n",
        "<tweepy.models.Status object at 0x1051fd7d0>"
       ]
      },
      {
       "output_type": "stream",
       "stream": "stdout",
       "text": [
        "\n",
        "529556746327822337\n",
        "249\n",
        "<tweepy.models.Status object at 0x1051fd250>"
       ]
      },
      {
       "output_type": "stream",
       "stream": "stdout",
       "text": [
        "\n",
        "529556451233394689\n",
        "250\n",
        "<tweepy.models.Status object at 0x1051fd290>"
       ]
      },
      {
       "output_type": "stream",
       "stream": "stdout",
       "text": [
        "\n",
        "529556404483686400\n",
        "251\n",
        "<tweepy.models.Status object at 0x105205350>"
       ]
      },
      {
       "output_type": "stream",
       "stream": "stdout",
       "text": [
        "\n",
        "529556223344279552\n",
        "252\n",
        "<tweepy.models.Status object at 0x1051fd7d0>"
       ]
      },
      {
       "output_type": "stream",
       "stream": "stdout",
       "text": [
        "\n",
        "529555326673387520\n",
        "253\n",
        "<tweepy.models.Status object at 0x1051fd250>"
       ]
      },
      {
       "output_type": "stream",
       "stream": "stdout",
       "text": [
        "\n",
        "529555180548001792\n",
        "254\n",
        "<tweepy.models.Status object at 0x1051fd290>"
       ]
      },
      {
       "output_type": "stream",
       "stream": "stdout",
       "text": [
        "\n",
        "529554986448195584\n",
        "255\n",
        "<tweepy.models.Status object at 0x1051fdcd0>"
       ]
      },
      {
       "output_type": "stream",
       "stream": "stdout",
       "text": [
        "\n",
        "529554951174094848\n",
        "256\n",
        "<tweepy.models.Status object at 0x1051fd7d0>"
       ]
      },
      {
       "output_type": "stream",
       "stream": "stdout",
       "text": [
        "\n",
        "529554835595874304\n",
        "257\n",
        "<tweepy.models.Status object at 0x1051fd250>"
       ]
      },
      {
       "output_type": "stream",
       "stream": "stdout",
       "text": [
        "\n",
        "529554687004258304\n",
        "258\n",
        "<tweepy.models.Status object at 0x1051fd290>"
       ]
      },
      {
       "output_type": "stream",
       "stream": "stdout",
       "text": [
        "\n",
        "529554678003269632\n",
        "259\n",
        "<tweepy.models.Status object at 0x1051fdcd0>"
       ]
      },
      {
       "output_type": "stream",
       "stream": "stdout",
       "text": [
        "\n",
        "529553913251643392\n",
        "260\n",
        "<tweepy.models.Status object at 0x1051fda90>"
       ]
      },
      {
       "output_type": "stream",
       "stream": "stdout",
       "text": [
        "\n",
        "529553467250339841\n",
        "261\n",
        "<tweepy.models.Status object at 0x1051fd490>"
       ]
      },
      {
       "output_type": "stream",
       "stream": "stdout",
       "text": [
        "\n",
        "529553421675020289\n",
        "262\n",
        "<tweepy.models.Status object at 0x1051fd250>"
       ]
      },
      {
       "output_type": "stream",
       "stream": "stdout",
       "text": [
        "\n",
        "529553394307194880\n",
        "263\n",
        "<tweepy.models.Status object at 0x1051fd210>"
       ]
      },
      {
       "output_type": "stream",
       "stream": "stdout",
       "text": [
        "\n",
        "529552827656720384\n",
        "264\n",
        "<tweepy.models.Status object at 0x1051fda90>"
       ]
      },
      {
       "output_type": "stream",
       "stream": "stdout",
       "text": [
        "\n",
        "529552805187813376\n",
        "265\n",
        "<tweepy.models.Status object at 0x1051fd490>"
       ]
      },
      {
       "output_type": "stream",
       "stream": "stdout",
       "text": [
        "\n",
        "529551749301141504\n",
        "266\n",
        "<tweepy.models.Status object at 0x1051fd250>"
       ]
      },
      {
       "output_type": "stream",
       "stream": "stdout",
       "text": [
        "\n",
        "529551734000332800\n",
        "267\n",
        "<tweepy.models.Status object at 0x1051fd210>"
       ]
      },
      {
       "output_type": "stream",
       "stream": "stdout",
       "text": [
        "\n",
        "529551709862129664\n",
        "268\n",
        "<tweepy.models.Status object at 0x1051fda90>"
       ]
      },
      {
       "output_type": "stream",
       "stream": "stdout",
       "text": [
        "\n",
        "529551627423068160\n",
        "269\n",
        "<tweepy.models.Status object at 0x1051fd490>"
       ]
      },
      {
       "output_type": "stream",
       "stream": "stdout",
       "text": [
        "\n",
        "529551086693408769\n",
        "270\n",
        "<tweepy.models.Status object at 0x1051fd250>"
       ]
      },
      {
       "output_type": "stream",
       "stream": "stdout",
       "text": [
        "\n",
        "529551017281851392\n",
        "271\n",
        "<tweepy.models.Status object at 0x1051fd210>"
       ]
      },
      {
       "output_type": "stream",
       "stream": "stdout",
       "text": [
        "\n",
        "529550919701381120\n",
        "272\n",
        "<tweepy.models.Status object at 0x1051fda90>"
       ]
      },
      {
       "output_type": "stream",
       "stream": "stdout",
       "text": [
        "\n",
        "529550852466679808\n",
        "273\n",
        "<tweepy.models.Status object at 0x1051fd490>"
       ]
      },
      {
       "output_type": "stream",
       "stream": "stdout",
       "text": [
        "\n",
        "529532027687936000\n",
        "274\n",
        "<tweepy.models.Status object at 0x1051fd250>"
       ]
      },
      {
       "output_type": "stream",
       "stream": "stdout",
       "text": [
        "\n",
        "529528561951326208\n",
        "275\n",
        "<tweepy.models.Status object at 0x1051fd210>"
       ]
      },
      {
       "output_type": "stream",
       "stream": "stdout",
       "text": [
        "\n",
        "529522072624840704\n",
        "276\n",
        "<tweepy.models.Status object at 0x1051fda90>"
       ]
      },
      {
       "output_type": "stream",
       "stream": "stdout",
       "text": [
        "\n",
        "529501087553028096\n",
        "277\n",
        "<tweepy.models.Status object at 0x1051fd490>"
       ]
      },
      {
       "output_type": "stream",
       "stream": "stdout",
       "text": [
        "\n",
        "529497630221824002\n",
        "278\n",
        "<tweepy.models.Status object at 0x1051fd250>"
       ]
      },
      {
       "output_type": "stream",
       "stream": "stdout",
       "text": [
        "\n",
        "529497244224208896\n",
        "279\n",
        "<tweepy.models.Status object at 0x1051fd210>"
       ]
      },
      {
       "output_type": "stream",
       "stream": "stdout",
       "text": [
        "\n",
        "529486832455909376\n",
        "280\n",
        "<tweepy.models.Status object at 0x1051d4b90>"
       ]
      },
      {
       "output_type": "stream",
       "stream": "stdout",
       "text": [
        "\n",
        "529486822100197377\n",
        "281\n",
        "<tweepy.models.Status object at 0x1051d4a10>"
       ]
      },
      {
       "output_type": "stream",
       "stream": "stdout",
       "text": [
        "\n",
        "529474893851930624\n",
        "282\n",
        "<tweepy.models.Status object at 0x1051d4210>"
       ]
      },
      {
       "output_type": "stream",
       "stream": "stdout",
       "text": [
        "\n",
        "529442408975847424\n",
        "283\n",
        "<tweepy.models.Status object at 0x1051d41d0>"
       ]
      },
      {
       "output_type": "stream",
       "stream": "stdout",
       "text": [
        "\n",
        "529441289507717121\n",
        "284\n",
        "<tweepy.models.Status object at 0x1051d4b90>"
       ]
      },
      {
       "output_type": "stream",
       "stream": "stdout",
       "text": [
        "\n",
        "529434201121361920\n",
        "285\n",
        "<tweepy.models.Status object at 0x1051d4a10>"
       ]
      },
      {
       "output_type": "stream",
       "stream": "stdout",
       "text": [
        "\n",
        "529434181697540096\n",
        "286\n",
        "<tweepy.models.Status object at 0x1051d4210>"
       ]
      },
      {
       "output_type": "stream",
       "stream": "stdout",
       "text": [
        "\n",
        "529427961158828032\n",
        "287\n",
        "<tweepy.models.Status object at 0x1051d41d0>"
       ]
      },
      {
       "output_type": "stream",
       "stream": "stdout",
       "text": [
        "\n",
        "529415329660026880\n",
        "288\n",
        "<tweepy.models.Status object at 0x1051d4b90>"
       ]
      },
      {
       "output_type": "stream",
       "stream": "stdout",
       "text": [
        "\n",
        "529398905788960768\n",
        "289\n",
        "<tweepy.models.Status object at 0x1051d4a10>"
       ]
      },
      {
       "output_type": "stream",
       "stream": "stdout",
       "text": [
        "\n",
        "529392963072581632\n",
        "290\n",
        "<tweepy.models.Status object at 0x1051d4210>"
       ]
      },
      {
       "output_type": "stream",
       "stream": "stdout",
       "text": [
        "\n",
        "529391847777775616\n",
        "291\n",
        "<tweepy.models.Status object at 0x1051d4c50>"
       ]
      },
      {
       "output_type": "stream",
       "stream": "stdout",
       "text": [
        "\n",
        "529391693779730432\n",
        "292\n",
        "<tweepy.models.Status object at 0x1051d4b50>"
       ]
      },
      {
       "output_type": "stream",
       "stream": "stdout",
       "text": [
        "\n",
        "529391688843018240\n",
        "293\n",
        "<tweepy.models.Status object at 0x1051d4b10>"
       ]
      },
      {
       "output_type": "stream",
       "stream": "stdout",
       "text": [
        "\n",
        "529391477101969408\n",
        "294\n",
        "<tweepy.models.Status object at 0x1051d4410>"
       ]
      },
      {
       "output_type": "stream",
       "stream": "stdout",
       "text": [
        "\n",
        "529391442880634880\n",
        "295\n",
        "<tweepy.models.Status object at 0x1051d4c90>"
       ]
      },
      {
       "output_type": "stream",
       "stream": "stdout",
       "text": [
        "\n",
        "529390585258717184\n",
        "296\n",
        "<tweepy.models.Status object at 0x1051d4c50>"
       ]
      },
      {
       "output_type": "stream",
       "stream": "stdout",
       "text": [
        "\n",
        "529390452982951936\n",
        "297\n",
        "<tweepy.models.Status object at 0x1051d4b10>"
       ]
      },
      {
       "output_type": "stream",
       "stream": "stdout",
       "text": [
        "\n",
        "529390347982753792\n",
        "298\n",
        "<tweepy.models.Status object at 0x1051d4410>"
       ]
      },
      {
       "output_type": "stream",
       "stream": "stdout",
       "text": [
        "\n",
        "529390253669642241\n",
        "299\n",
        "<tweepy.models.Status object at 0x1051d4c90>"
       ]
      },
      {
       "output_type": "stream",
       "stream": "stdout",
       "text": [
        "\n",
        "529390215161720832\n",
        "300\n",
        "<tweepy.models.Status object at 0x1051d47d0>"
       ]
      },
      {
       "output_type": "stream",
       "stream": "stdout",
       "text": [
        "\n",
        "529390202968895488\n",
        "301\n",
        "<tweepy.models.Status object at 0x1051d4d90>"
       ]
      },
      {
       "output_type": "stream",
       "stream": "stdout",
       "text": [
        "\n",
        "529390200448122880\n",
        "302\n",
        "<tweepy.models.Status object at 0x1051d4210>"
       ]
      },
      {
       "output_type": "stream",
       "stream": "stdout",
       "text": [
        "\n",
        "529390197914742784\n",
        "303\n",
        "<tweepy.models.Status object at 0x1051d4a50>"
       ]
      },
      {
       "output_type": "stream",
       "stream": "stdout",
       "text": [
        "\n",
        "529390195180077056\n",
        "304\n",
        "<tweepy.models.Status object at 0x1051d4850>"
       ]
      },
      {
       "output_type": "stream",
       "stream": "stdout",
       "text": [
        "\n",
        "529389781776875522\n",
        "305\n",
        "<tweepy.models.Status object at 0x1051d4c50>"
       ]
      },
      {
       "output_type": "stream",
       "stream": "stdout",
       "text": [
        "\n",
        "529389279236354049\n",
        "306\n",
        "<tweepy.models.Status object at 0x1051d4210>"
       ]
      },
      {
       "output_type": "stream",
       "stream": "stdout",
       "text": [
        "\n",
        "529388834312949760\n",
        "307\n",
        "<tweepy.models.Status object at 0x1051d4a90>"
       ]
      },
      {
       "output_type": "stream",
       "stream": "stdout",
       "text": [
        "\n",
        "529388824385044480\n",
        "308\n",
        "<tweepy.models.Status object at 0x1051d4c10>"
       ]
      },
      {
       "output_type": "stream",
       "stream": "stdout",
       "text": [
        "\n",
        "529388752779874304\n",
        "309\n",
        "<tweepy.models.Status object at 0x1051d4410>"
       ]
      },
      {
       "output_type": "stream",
       "stream": "stdout",
       "text": [
        "\n",
        "529388750196183040\n",
        "310\n",
        "<tweepy.models.Status object at 0x1051d4a90>"
       ]
      },
      {
       "output_type": "stream",
       "stream": "stdout",
       "text": [
        "\n",
        "529388747755110400\n",
        "311\n",
        "<tweepy.models.Status object at 0x1051d4910>"
       ]
      },
      {
       "output_type": "stream",
       "stream": "stdout",
       "text": [
        "\n",
        "529388511464783872\n",
        "312\n",
        "<tweepy.models.Status object at 0x1051d4990>"
       ]
      },
      {
       "output_type": "stream",
       "stream": "stdout",
       "text": [
        "\n",
        "529388230769401856\n",
        "313\n",
        "<tweepy.models.Status object at 0x1051d48d0>"
       ]
      },
      {
       "output_type": "stream",
       "stream": "stdout",
       "text": [
        "\n",
        "529388052410806272\n",
        "314\n",
        "<tweepy.models.Status object at 0x1051d4750>"
       ]
      },
      {
       "output_type": "stream",
       "stream": "stdout",
       "text": [
        "\n",
        "529387925835100160\n",
        "315\n",
        "<tweepy.models.Status object at 0x1051d4910>"
       ]
      },
      {
       "output_type": "stream",
       "stream": "stdout",
       "text": [
        "\n",
        "529387630031822848\n",
        "316\n",
        "<tweepy.models.Status object at 0x1051d4990>"
       ]
      },
      {
       "output_type": "stream",
       "stream": "stdout",
       "text": [
        "\n",
        "529387577175207936\n",
        "317\n",
        "<tweepy.models.Status object at 0x1051d43d0>"
       ]
      },
      {
       "output_type": "stream",
       "stream": "stdout",
       "text": [
        "\n",
        "529387481712836608\n",
        "318\n",
        "<tweepy.models.Status object at 0x1051d4a50>"
       ]
      },
      {
       "output_type": "stream",
       "stream": "stdout",
       "text": [
        "\n",
        "529387468358189056\n",
        "319\n",
        "<tweepy.models.Status object at 0x1051d4910>"
       ]
      },
      {
       "output_type": "stream",
       "stream": "stdout",
       "text": [
        "\n",
        "529387354801577984\n",
        "320\n",
        "<tweepy.models.Status object at 0x10520e3d0>"
       ]
      },
      {
       "output_type": "stream",
       "stream": "stdout",
       "text": [
        "\n",
        "529387305413660672\n",
        "321\n",
        "<tweepy.models.Status object at 0x10520e550>"
       ]
      },
      {
       "output_type": "stream",
       "stream": "stdout",
       "text": [
        "\n",
        "529387127302533121\n",
        "322\n",
        "<tweepy.models.Status object at 0x10520e410>"
       ]
      },
      {
       "output_type": "stream",
       "stream": "stdout",
       "text": [
        "\n",
        "529387124400095232\n",
        "323\n",
        "<tweepy.models.Status object at 0x10520ead0>"
       ]
      },
      {
       "output_type": "stream",
       "stream": "stdout",
       "text": [
        "\n",
        "529387121719926784\n",
        "324\n",
        "<tweepy.models.Status object at 0x10520e410>"
       ]
      },
      {
       "output_type": "stream",
       "stream": "stdout",
       "text": [
        "\n",
        "529387073871302656\n",
        "325\n",
        "<tweepy.models.Status object at 0x10520e510>"
       ]
      },
      {
       "output_type": "stream",
       "stream": "stdout",
       "text": [
        "\n",
        "529386778659414016\n",
        "326\n",
        "<tweepy.models.Status object at 0x10520e350>"
       ]
      },
      {
       "output_type": "stream",
       "stream": "stdout",
       "text": [
        "\n",
        "529386507220840448\n",
        "327\n",
        "<tweepy.models.Status object at 0x10520ead0>"
       ]
      },
      {
       "output_type": "stream",
       "stream": "stdout",
       "text": [
        "\n",
        "529386002784460800\n",
        "328\n",
        "<tweepy.models.Status object at 0x10520e290>"
       ]
      },
      {
       "output_type": "stream",
       "stream": "stdout",
       "text": [
        "\n",
        "529385670213902338\n",
        "329\n",
        "<tweepy.models.Status object at 0x10520ea10>"
       ]
      },
      {
       "output_type": "stream",
       "stream": "stdout",
       "text": [
        "\n",
        "529385667563110400\n",
        "330\n",
        "<tweepy.models.Status object at 0x10520e510>"
       ]
      },
      {
       "output_type": "stream",
       "stream": "stdout",
       "text": [
        "\n",
        "529385664882946049\n",
        "331\n",
        "<tweepy.models.Status object at 0x10520ead0>"
       ]
      },
      {
       "output_type": "stream",
       "stream": "stdout",
       "text": [
        "\n",
        "529385661867249664\n",
        "332\n",
        "<tweepy.models.Status object at 0x10520e5d0>"
       ]
      },
      {
       "output_type": "stream",
       "stream": "stdout",
       "text": [
        "\n",
        "529384831801901056\n",
        "333\n",
        "<tweepy.models.Status object at 0x10520e310>"
       ]
      },
      {
       "output_type": "stream",
       "stream": "stdout",
       "text": [
        "\n",
        "529384689279459328\n",
        "334\n",
        "<tweepy.models.Status object at 0x10520e510>"
       ]
      },
      {
       "output_type": "stream",
       "stream": "stdout",
       "text": [
        "\n",
        "529384601392017408\n",
        "335\n",
        "<tweepy.models.Status object at 0x10520e350>"
       ]
      },
      {
       "output_type": "stream",
       "stream": "stdout",
       "text": [
        "\n",
        "529384126559031296\n",
        "336\n",
        "<tweepy.models.Status object at 0x10520e290>"
       ]
      },
      {
       "output_type": "stream",
       "stream": "stdout",
       "text": [
        "\n",
        "529384123992145920\n",
        "337\n",
        "<tweepy.models.Status object at 0x10520e650>"
       ]
      },
      {
       "output_type": "stream",
       "stream": "stdout",
       "text": [
        "\n",
        "529384121421021184\n",
        "338\n",
        "<tweepy.models.Status object at 0x10520e3d0>"
       ]
      },
      {
       "output_type": "stream",
       "stream": "stdout",
       "text": [
        "\n",
        "529384006010552320\n",
        "339\n",
        "<tweepy.models.Status object at 0x10520e410>"
       ]
      },
      {
       "output_type": "stream",
       "stream": "stdout",
       "text": [
        "\n",
        "529383970644172800\n",
        "340\n",
        "<tweepy.models.Status object at 0x10520e3d0>"
       ]
      },
      {
       "output_type": "stream",
       "stream": "stdout",
       "text": [
        "\n",
        "529383970413477888\n",
        "341\n",
        "<tweepy.models.Status object at 0x10520e190>"
       ]
      },
      {
       "output_type": "stream",
       "stream": "stdout",
       "text": [
        "\n",
        "529383584411680768\n",
        "342\n",
        "<tweepy.models.Status object at 0x10520eb10>"
       ]
      },
      {
       "output_type": "stream",
       "stream": "stdout",
       "text": [
        "\n",
        "529383547241771009\n",
        "343\n",
        "<tweepy.models.Status object at 0x10520e090>"
       ]
      },
      {
       "output_type": "stream",
       "stream": "stdout",
       "text": [
        "\n",
        "529383230680891392\n",
        "344\n",
        "<tweepy.models.Status object at 0x10520e3d0>"
       ]
      },
      {
       "output_type": "stream",
       "stream": "stdout",
       "text": [
        "\n",
        "529383200901304320\n",
        "345\n",
        "<tweepy.models.Status object at 0x10520e190>"
       ]
      },
      {
       "output_type": "stream",
       "stream": "stdout",
       "text": [
        "\n",
        "529383169385299968\n",
        "346\n",
        "<tweepy.models.Status object at 0x10520eb10>"
       ]
      },
      {
       "output_type": "stream",
       "stream": "stdout",
       "text": [
        "\n",
        "529382823833395200\n",
        "347\n",
        "<tweepy.models.Status object at 0x10520e090>"
       ]
      },
      {
       "output_type": "stream",
       "stream": "stdout",
       "text": [
        "\n",
        "529382798814347264\n",
        "348\n",
        "<tweepy.models.Status object at 0x10520eb90>"
       ]
      },
      {
       "output_type": "stream",
       "stream": "stdout",
       "text": [
        "\n",
        "529382671215230977\n",
        "349\n",
        "<tweepy.models.Status object at 0x10520e050>"
       ]
      },
      {
       "output_type": "stream",
       "stream": "stdout",
       "text": [
        "\n",
        "529382668702851073\n",
        "350\n",
        "<tweepy.models.Status object at 0x10520ea90>"
       ]
      },
      {
       "output_type": "stream",
       "stream": "stdout",
       "text": [
        "\n",
        "529382666031087616\n",
        "351\n",
        "<tweepy.models.Status object at 0x10520ec90>"
       ]
      },
      {
       "output_type": "stream",
       "stream": "stdout",
       "text": [
        "\n",
        "529382570019282944\n",
        "352\n",
        "<tweepy.models.Status object at 0x10520ecd0>"
       ]
      },
      {
       "output_type": "stream",
       "stream": "stdout",
       "text": [
        "\n",
        "529382304121384961\n",
        "353\n",
        "<tweepy.models.Status object at 0x10520ed50>"
       ]
      },
      {
       "output_type": "stream",
       "stream": "stdout",
       "text": [
        "\n",
        "529382096037769216\n",
        "354\n",
        "<tweepy.models.Status object at 0x10520ea90>"
       ]
      },
      {
       "output_type": "stream",
       "stream": "stdout",
       "text": [
        "\n",
        "529382033139978241\n",
        "355\n",
        "<tweepy.models.Status object at 0x10520ec90>"
       ]
      },
      {
       "output_type": "stream",
       "stream": "stdout",
       "text": [
        "\n",
        "529382024562622464\n",
        "356\n",
        "<tweepy.models.Status object at 0x10520eb10>"
       ]
      },
      {
       "output_type": "stream",
       "stream": "stdout",
       "text": [
        "\n",
        "529381562442608640\n",
        "357\n",
        "<tweepy.models.Status object at 0x10520ed50>"
       ]
      },
      {
       "output_type": "stream",
       "stream": "stdout",
       "text": [
        "\n",
        "529381544734244864\n",
        "358\n",
        "<tweepy.models.Status object at 0x10520ebd0>"
       ]
      },
      {
       "output_type": "stream",
       "stream": "stdout",
       "text": [
        "\n",
        "529381515189571584\n",
        "359\n",
        "<tweepy.models.Status object at 0x10520ec90>"
       ]
      },
      {
       "output_type": "stream",
       "stream": "stdout",
       "text": [
        "\n",
        "529381465969410049\n",
        "360\n",
        "<tweepy.models.Status object at 0x1052057d0>"
       ]
      },
      {
       "output_type": "stream",
       "stream": "stdout",
       "text": [
        "\n",
        "529381291205341184\n",
        "361\n",
        "<tweepy.models.Status object at 0x105205810>"
       ]
      },
      {
       "output_type": "stream",
       "stream": "stdout",
       "text": [
        "\n",
        "529381221990944768\n",
        "362\n",
        "<tweepy.models.Status object at 0x105205d50>"
       ]
      },
      {
       "output_type": "stream",
       "stream": "stdout",
       "text": [
        "\n",
        "529381219512123393\n",
        "363\n",
        "<tweepy.models.Status object at 0x105205f90>"
       ]
      },
      {
       "output_type": "stream",
       "stream": "stdout",
       "text": [
        "\n",
        "529381216836128770\n",
        "364\n",
        "<tweepy.models.Status object at 0x105205d50>"
       ]
      },
      {
       "output_type": "stream",
       "stream": "stdout",
       "text": [
        "\n",
        "529381012376399873\n",
        "365\n",
        "<tweepy.models.Status object at 0x105205710>"
       ]
      },
      {
       "output_type": "stream",
       "stream": "stdout",
       "text": [
        "\n",
        "529380677243129857\n",
        "366\n",
        "<tweepy.models.Status object at 0x105205e50>"
       ]
      },
      {
       "output_type": "stream",
       "stream": "stdout",
       "text": [
        "\n",
        "529380667826909186\n",
        "367\n",
        "<tweepy.models.Status object at 0x105205f90>"
       ]
      },
      {
       "output_type": "stream",
       "stream": "stdout",
       "text": [
        "\n",
        "529380553737654272\n",
        "368\n",
        "<tweepy.models.Status object at 0x105205d50>"
       ]
      },
      {
       "output_type": "stream",
       "stream": "stdout",
       "text": [
        "\n",
        "529380528089485312\n",
        "369\n",
        "<tweepy.models.Status object at 0x105205710>"
       ]
      },
      {
       "output_type": "stream",
       "stream": "stdout",
       "text": [
        "\n",
        "529380484309340160\n",
        "370\n",
        "<tweepy.models.Status object at 0x105205e50>"
       ]
      },
      {
       "output_type": "stream",
       "stream": "stdout",
       "text": [
        "\n",
        "529380467439853569\n",
        "371\n",
        "<tweepy.models.Status object at 0x105205910>"
       ]
      },
      {
       "output_type": "stream",
       "stream": "stdout",
       "text": [
        "\n",
        "529380298182918144\n",
        "372\n",
        "<tweepy.models.Status object at 0x105205790>"
       ]
      },
      {
       "output_type": "stream",
       "stream": "stdout",
       "text": [
        "\n",
        "529380140267347968\n",
        "373\n",
        "<tweepy.models.Status object at 0x105205710>"
       ]
      },
      {
       "output_type": "stream",
       "stream": "stdout",
       "text": [
        "\n",
        "529380076614590464\n",
        "374\n",
        "<tweepy.models.Status object at 0x105205e50>"
       ]
      },
      {
       "output_type": "stream",
       "stream": "stdout",
       "text": [
        "\n",
        "529380064325275649\n",
        "375\n",
        "<tweepy.models.Status object at 0x105205b50>"
       ]
      },
      {
       "output_type": "stream",
       "stream": "stdout",
       "text": [
        "\n",
        "529380046973448192\n",
        "376\n",
        "<tweepy.models.Status object at 0x105205790>"
       ]
      },
      {
       "output_type": "stream",
       "stream": "stdout",
       "text": [
        "\n",
        "529380012995403776\n",
        "377\n",
        "<tweepy.models.Status object at 0x105205f90>"
       ]
      },
      {
       "output_type": "stream",
       "stream": "stdout",
       "text": [
        "\n",
        "529379843872661504\n",
        "378\n",
        "<tweepy.models.Status object at 0x105205e50>"
       ]
      },
      {
       "output_type": "stream",
       "stream": "stdout",
       "text": [
        "\n",
        "529379782942003201\n",
        "379\n",
        "<tweepy.models.Status object at 0x105205b10>"
       ]
      },
      {
       "output_type": "stream",
       "stream": "stdout",
       "text": [
        "\n",
        "529379622308573184\n",
        "380\n",
        "<tweepy.models.Status object at 0x1052055d0>"
       ]
      },
      {
       "output_type": "stream",
       "stream": "stdout",
       "text": [
        "\n",
        "529379613454381057\n",
        "381\n",
        "<tweepy.models.Status object at 0x105205b10>"
       ]
      },
      {
       "output_type": "stream",
       "stream": "stdout",
       "text": [
        "\n",
        "529379610883293184\n",
        "382\n",
        "<tweepy.models.Status object at 0x105205f50>"
       ]
      },
      {
       "output_type": "stream",
       "stream": "stdout",
       "text": [
        "\n",
        "529379608471564288\n",
        "383\n",
        "<tweepy.models.Status object at 0x105205f50>"
       ]
      },
      {
       "output_type": "stream",
       "stream": "stdout",
       "text": [
        "\n",
        "529379605938184193\n",
        "384\n",
        "<tweepy.models.Status object at 0x105205f50>"
       ]
      },
      {
       "output_type": "stream",
       "stream": "stdout",
       "text": [
        "\n",
        "529379068337455104\n",
        "385\n",
        "<tweepy.models.Status object at 0x105205f50>"
       ]
      },
      {
       "output_type": "stream",
       "stream": "stdout",
       "text": [
        "\n",
        "529379057449058304\n",
        "386\n",
        "<tweepy.models.Status object at 0x105205f50>"
       ]
      },
      {
       "output_type": "stream",
       "stream": "stdout",
       "text": [
        "\n",
        "529378932051959808\n",
        "387\n",
        "<tweepy.models.Status object at 0x105205f50>"
       ]
      },
      {
       "output_type": "stream",
       "stream": "stdout",
       "text": [
        "\n",
        "529378880134868993\n",
        "388\n",
        "<tweepy.models.Status object at 0x105205f50>"
       ]
      },
      {
       "output_type": "stream",
       "stream": "stdout",
       "text": [
        "\n",
        "529378770688692224\n",
        "389\n",
        "<tweepy.models.Status object at 0x105205f50>"
       ]
      },
      {
       "output_type": "stream",
       "stream": "stdout",
       "text": [
        "\n",
        "529378671547924480\n",
        "390\n",
        "<tweepy.models.Status object at 0x105205f50>"
       ]
      },
      {
       "output_type": "stream",
       "stream": "stdout",
       "text": [
        "\n",
        "529378409194225664\n",
        "391\n",
        "<tweepy.models.Status object at 0x105205f50>"
       ]
      },
      {
       "output_type": "stream",
       "stream": "stdout",
       "text": [
        "\n",
        "529378262414548992\n",
        "392\n",
        "<tweepy.models.Status object at 0x105205fd0>"
       ]
      },
      {
       "output_type": "stream",
       "stream": "stdout",
       "text": [
        "\n",
        "529378171763036160\n",
        "393\n",
        "<tweepy.models.Status object at 0x105205f50>"
       ]
      },
      {
       "output_type": "stream",
       "stream": "stdout",
       "text": [
        "\n",
        "529378169057718272\n",
        "394\n",
        "<tweepy.models.Status object at 0x105205b50>"
       ]
      },
      {
       "output_type": "stream",
       "stream": "stdout",
       "text": [
        "\n",
        "529378166281089025\n",
        "395\n",
        "<tweepy.models.Status object at 0x105205b50>"
       ]
      },
      {
       "output_type": "stream",
       "stream": "stdout",
       "text": [
        "\n",
        "529378163810648064\n",
        "396\n",
        "<tweepy.models.Status object at 0x105205b50>"
       ]
      },
      {
       "output_type": "stream",
       "stream": "stdout",
       "text": [
        "\n",
        "529378050933526528\n",
        "397\n",
        "<tweepy.models.Status object at 0x105205b50>"
       ]
      },
      {
       "output_type": "stream",
       "stream": "stdout",
       "text": [
        "\n",
        "529377998810939392\n",
        "398\n",
        "<tweepy.models.Status object at 0x105205b50>"
       ]
      },
      {
       "output_type": "stream",
       "stream": "stdout",
       "text": [
        "\n",
        "529377897841442816\n",
        "399\n",
        "<tweepy.models.Status object at 0x105205b50>"
       ]
      },
      {
       "output_type": "stream",
       "stream": "stdout",
       "text": [
        "\n",
        "529377854048698370\n",
        "400\n",
        "<tweepy.models.Status object at 0x105205350>"
       ]
      },
      {
       "output_type": "stream",
       "stream": "stdout",
       "text": [
        "\n",
        "529377637136084992\n",
        "401\n",
        "<tweepy.models.Status object at 0x1051fd390>"
       ]
      },
      {
       "output_type": "stream",
       "stream": "stdout",
       "text": [
        "\n",
        "529377634858569729\n",
        "402\n",
        "<tweepy.models.Status object at 0x1051fd250>"
       ]
      },
      {
       "output_type": "stream",
       "stream": "stdout",
       "text": [
        "\n",
        "529377422345764865\n",
        "403\n",
        "<tweepy.models.Status object at 0x1051fd690>"
       ]
      },
      {
       "output_type": "stream",
       "stream": "stdout",
       "text": [
        "\n",
        "529377314619273216\n",
        "404\n",
        "<tweepy.models.Status object at 0x1051fd650>"
       ]
      },
      {
       "output_type": "stream",
       "stream": "stdout",
       "text": [
        "\n",
        "529376829594165248\n",
        "405\n",
        "<tweepy.models.Status object at 0x1051fd2d0>"
       ]
      },
      {
       "output_type": "stream",
       "stream": "stdout",
       "text": [
        "\n",
        "529376790150905856\n",
        "406\n",
        "<tweepy.models.Status object at 0x1051fd390>"
       ]
      },
      {
       "output_type": "stream",
       "stream": "stdout",
       "text": [
        "\n",
        "529376772656476161\n",
        "407\n",
        "<tweepy.models.Status object at 0x1051fd990>"
       ]
      },
      {
       "output_type": "stream",
       "stream": "stdout",
       "text": [
        "\n",
        "529376622022230016\n",
        "408\n",
        "<tweepy.models.Status object at 0x1051fd690>"
       ]
      },
      {
       "output_type": "stream",
       "stream": "stdout",
       "text": [
        "\n",
        "529376613239377922\n",
        "409\n",
        "<tweepy.models.Status object at 0x105205f50>"
       ]
      },
      {
       "output_type": "stream",
       "stream": "stdout",
       "text": [
        "\n",
        "529376591932313600\n",
        "410\n",
        "<tweepy.models.Status object at 0x105205610>"
       ]
      },
      {
       "output_type": "stream",
       "stream": "stdout",
       "text": [
        "\n",
        "529376589302493184\n",
        "411\n",
        "<tweepy.models.Status object at 0x105205890>"
       ]
      },
      {
       "output_type": "stream",
       "stream": "stdout",
       "text": [
        "\n",
        "529376586798485505\n",
        "412\n",
        "<tweepy.models.Status object at 0x1051fd2d0>"
       ]
      },
      {
       "output_type": "stream",
       "stream": "stdout",
       "text": [
        "\n",
        "529376584328019968\n",
        "413\n",
        "<tweepy.models.Status object at 0x1051fd650>"
       ]
      },
      {
       "output_type": "stream",
       "stream": "stdout",
       "text": [
        "\n",
        "529376210414227456\n",
        "414\n",
        "<tweepy.models.Status object at 0x1051fd290>"
       ]
      },
      {
       "output_type": "stream",
       "stream": "stdout",
       "text": [
        "\n",
        "529375899419172864\n",
        "415\n",
        "<tweepy.models.Status object at 0x1051fd210>"
       ]
      },
      {
       "output_type": "stream",
       "stream": "stdout",
       "text": [
        "\n",
        "529375766845620225\n",
        "416\n",
        "<tweepy.models.Status object at 0x1051fd990>"
       ]
      },
      {
       "output_type": "stream",
       "stream": "stdout",
       "text": [
        "\n",
        "529375233330143232\n",
        "417\n",
        "<tweepy.models.Status object at 0x1051fd250>"
       ]
      },
      {
       "output_type": "stream",
       "stream": "stdout",
       "text": [
        "\n",
        "529374737013956609\n",
        "418\n",
        "<tweepy.models.Status object at 0x1051fd650>"
       ]
      },
      {
       "output_type": "stream",
       "stream": "stdout",
       "text": [
        "\n",
        "529374714515714048\n",
        "419\n",
        "<tweepy.models.Status object at 0x1051fd7d0>"
       ]
      },
      {
       "output_type": "stream",
       "stream": "stdout",
       "text": [
        "\n",
        "529374554146488321\n",
        "420\n",
        "<tweepy.models.Status object at 0x105205890>"
       ]
      },
      {
       "output_type": "stream",
       "stream": "stdout",
       "text": [
        "\n",
        "529374316727926784\n",
        "421\n",
        "<tweepy.models.Status object at 0x105205610>"
       ]
      },
      {
       "output_type": "stream",
       "stream": "stdout",
       "text": [
        "\n",
        "529374313812881408\n",
        "422\n",
        "<tweepy.models.Status object at 0x105205950>"
       ]
      },
      {
       "output_type": "stream",
       "stream": "stdout",
       "text": [
        "\n",
        "529374311220805632\n",
        "423\n",
        "<tweepy.models.Status object at 0x1051fd7d0>"
       ]
      },
      {
       "output_type": "stream",
       "stream": "stdout",
       "text": [
        "\n",
        "529374308746149888\n",
        "424\n",
        "<tweepy.models.Status object at 0x1051fd2d0>"
       ]
      },
      {
       "output_type": "stream",
       "stream": "stdout",
       "text": [
        "\n",
        "529374240404160512\n",
        "425\n",
        "<tweepy.models.Status object at 0x1051fd990>"
       ]
      },
      {
       "output_type": "stream",
       "stream": "stdout",
       "text": [
        "\n",
        "529374074620104705\n",
        "426\n",
        "<tweepy.models.Status object at 0x1051fd250>"
       ]
      },
      {
       "output_type": "stream",
       "stream": "stdout",
       "text": [
        "\n",
        "529374045532585984\n",
        "427\n",
        "<tweepy.models.Status object at 0x1051fd210>"
       ]
      },
      {
       "output_type": "stream",
       "stream": "stdout",
       "text": [
        "\n",
        "529373941694218241\n",
        "428\n",
        "<tweepy.models.Status object at 0x1051fd490>"
       ]
      },
      {
       "output_type": "stream",
       "stream": "stdout",
       "text": [
        "\n",
        "529373935687983104\n",
        "429\n",
        "<tweepy.models.Status object at 0x1051fd2d0>"
       ]
      },
      {
       "output_type": "stream",
       "stream": "stdout",
       "text": [
        "\n",
        "529373834609426434\n",
        "430\n",
        "<tweepy.models.Status object at 0x105205890>"
       ]
      },
      {
       "output_type": "stream",
       "stream": "stdout",
       "text": [
        "\n",
        "529373789159956480\n",
        "431\n",
        "<tweepy.models.Status object at 0x105205f50>"
       ]
      },
      {
       "output_type": "stream",
       "stream": "stdout",
       "text": [
        "\n",
        "529373786723069953\n",
        "432\n",
        "<tweepy.models.Status object at 0x105205190>"
       ]
      },
      {
       "output_type": "stream",
       "stream": "stdout",
       "text": [
        "\n",
        "529373784193921025\n",
        "433\n",
        "<tweepy.models.Status object at 0x1051fd250>"
       ]
      },
      {
       "output_type": "stream",
       "stream": "stdout",
       "text": [
        "\n",
        "529373781752811521\n",
        "434\n",
        "<tweepy.models.Status object at 0x1051fd690>"
       ]
      },
      {
       "output_type": "stream",
       "stream": "stdout",
       "text": [
        "\n",
        "529373761037172737\n",
        "435\n",
        "<tweepy.models.Status object at 0x1051fda90>"
       ]
      },
      {
       "output_type": "stream",
       "stream": "stdout",
       "text": [
        "\n",
        "529373720566333440\n",
        "436\n",
        "<tweepy.models.Status object at 0x1051fd210>"
       ]
      },
      {
       "output_type": "stream",
       "stream": "stdout",
       "text": [
        "\n",
        "529373567281295360\n",
        "437\n",
        "<tweepy.models.Status object at 0x1051fd490>"
       ]
      },
      {
       "output_type": "stream",
       "stream": "stdout",
       "text": [
        "\n",
        "529373336477110272\n",
        "438\n",
        "<tweepy.models.Status object at 0x105205890>"
       ]
      },
      {
       "output_type": "stream",
       "stream": "stdout",
       "text": [
        "\n",
        "529373286959185922\n",
        "439\n",
        "<tweepy.models.Status object at 0x105205350>"
       ]
      },
      {
       "output_type": "stream",
       "stream": "stdout",
       "text": [
        "\n",
        "529373283238805504\n",
        "440\n",
        "<tweepy.models.Status object at 0x105200890>"
       ]
      },
      {
       "output_type": "stream",
       "stream": "stdout",
       "text": [
        "\n",
        "529365509863903233\n",
        "441\n",
        "<tweepy.models.Status object at 0x105200ed0>"
       ]
      },
      {
       "output_type": "stream",
       "stream": "stdout",
       "text": [
        "\n",
        "529365507179577344\n",
        "442\n",
        "<tweepy.models.Status object at 0x105200790>"
       ]
      },
      {
       "output_type": "stream",
       "stream": "stdout",
       "text": [
        "\n",
        "529365349347909632\n",
        "443\n",
        "<tweepy.models.Status object at 0x105200950>"
       ]
      },
      {
       "output_type": "stream",
       "stream": "stdout",
       "text": [
        "\n",
        "529365346848088064\n",
        "444\n",
        "<tweepy.models.Status object at 0x105200710>"
       ]
      },
      {
       "output_type": "stream",
       "stream": "stdout",
       "text": [
        "\n",
        "529365318893047808\n",
        "445\n",
        "<tweepy.models.Status object at 0x1052005d0>"
       ]
      },
      {
       "output_type": "stream",
       "stream": "stdout",
       "text": [
        "\n",
        "529365297879580673\n",
        "446\n",
        "<tweepy.models.Status object at 0x105200950>"
       ]
      },
      {
       "output_type": "stream",
       "stream": "stdout",
       "text": [
        "\n",
        "529365288643723265\n",
        "447\n",
        "<tweepy.models.Status object at 0x105200850>"
       ]
      },
      {
       "output_type": "stream",
       "stream": "stdout",
       "text": [
        "\n",
        "529365277033889792\n",
        "448\n",
        "<tweepy.models.Status object at 0x1052008d0>"
       ]
      },
      {
       "output_type": "stream",
       "stream": "stdout",
       "text": [
        "\n",
        "529365229843804161\n",
        "449\n",
        "<tweepy.models.Status object at 0x105200790>"
       ]
      },
      {
       "output_type": "stream",
       "stream": "stdout",
       "text": [
        "\n",
        "529365227369156610\n",
        "450\n",
        "<tweepy.models.Status object at 0x1052009d0>"
       ]
      },
      {
       "output_type": "stream",
       "stream": "stdout",
       "text": [
        "\n",
        "529365048683429889\n",
        "451\n",
        "<tweepy.models.Status object at 0x105200ed0>"
       ]
      },
      {
       "output_type": "stream",
       "stream": "stdout",
       "text": [
        "\n",
        "529365023471452162\n",
        "452\n",
        "<tweepy.models.Status object at 0x105200a10>"
       ]
      },
      {
       "output_type": "stream",
       "stream": "stdout",
       "text": [
        "\n",
        "529365021005197312\n",
        "453\n",
        "<tweepy.models.Status object at 0x105200550>"
       ]
      },
      {
       "output_type": "stream",
       "stream": "stdout",
       "text": [
        "\n",
        "529364987601756161\n",
        "454\n",
        "<tweepy.models.Status object at 0x105200690>"
       ]
      },
      {
       "output_type": "stream",
       "stream": "stdout",
       "text": [
        "\n",
        "529364969390100480\n",
        "455\n",
        "<tweepy.models.Status object at 0x105200b10>"
       ]
      },
      {
       "output_type": "stream",
       "stream": "stdout",
       "text": [
        "\n",
        "529364831187779584\n",
        "456\n",
        "<tweepy.models.Status object at 0x105200910>"
       ]
      },
      {
       "output_type": "stream",
       "stream": "stdout",
       "text": [
        "\n",
        "529364705971027968\n",
        "457\n",
        "<tweepy.models.Status object at 0x105200790>"
       ]
      },
      {
       "output_type": "stream",
       "stream": "stdout",
       "text": [
        "\n",
        "529361459990786048\n",
        "458\n",
        "<tweepy.models.Status object at 0x105200650>"
       ]
      },
      {
       "output_type": "stream",
       "stream": "stdout",
       "text": [
        "\n",
        "529361447219105792\n",
        "459\n",
        "<tweepy.models.Status object at 0x1052009d0>"
       ]
      },
      {
       "output_type": "stream",
       "stream": "stdout",
       "text": [
        "\n",
        "529361444790599683\n",
        "460\n",
        "<tweepy.models.Status object at 0x105235550>"
       ]
      },
      {
       "output_type": "stream",
       "stream": "stdout",
       "text": [
        "\n",
        "529361429514960898\n",
        "461\n",
        "<tweepy.models.Status object at 0x105235150>"
       ]
      },
      {
       "output_type": "stream",
       "stream": "stdout",
       "text": [
        "\n",
        "529361426969030656\n",
        "462\n",
        "<tweepy.models.Status object at 0x105235410>"
       ]
      },
      {
       "output_type": "stream",
       "stream": "stdout",
       "text": [
        "\n",
        "529361393762725888\n",
        "463\n",
        "<tweepy.models.Status object at 0x105235bd0>"
       ]
      },
      {
       "output_type": "stream",
       "stream": "stdout",
       "text": [
        "\n",
        "529353382692405248\n",
        "464\n",
        "<tweepy.models.Status object at 0x105235550>"
       ]
      },
      {
       "output_type": "stream",
       "stream": "stdout",
       "text": [
        "\n",
        "529351955635003392\n",
        "465\n",
        "<tweepy.models.Status object at 0x105235490>"
       ]
      },
      {
       "output_type": "stream",
       "stream": "stdout",
       "text": [
        "\n",
        "529311164313124864\n",
        "466\n",
        "<tweepy.models.Status object at 0x105235190>"
       ]
      },
      {
       "output_type": "stream",
       "stream": "stdout",
       "text": [
        "\n",
        "529311148026658816\n",
        "467\n",
        "<tweepy.models.Status object at 0x1052352d0>"
       ]
      },
      {
       "output_type": "stream",
       "stream": "stdout",
       "text": [
        "\n",
        "529311000504569856\n",
        "468\n",
        "<tweepy.models.Status object at 0x105235bd0>"
       ]
      },
      {
       "output_type": "stream",
       "stream": "stdout",
       "text": [
        "\n",
        "529310954274963456\n",
        "469\n",
        "<tweepy.models.Status object at 0x105235490>"
       ]
      },
      {
       "output_type": "stream",
       "stream": "stdout",
       "text": [
        "\n",
        "529310952098127872\n",
        "470\n",
        "<tweepy.models.Status object at 0x105235550>"
       ]
      },
      {
       "output_type": "stream",
       "stream": "stdout",
       "text": [
        "\n",
        "529310689798934528\n",
        "471\n",
        "<tweepy.models.Status object at 0x105235310>"
       ]
      },
      {
       "output_type": "stream",
       "stream": "stdout",
       "text": [
        "\n",
        "529310620248965120\n",
        "472\n",
        "<tweepy.models.Status object at 0x1052354d0>"
       ]
      },
      {
       "output_type": "stream",
       "stream": "stdout",
       "text": [
        "\n",
        "529310617979875328\n",
        "473\n",
        "<tweepy.models.Status object at 0x105235150>"
       ]
      },
      {
       "output_type": "stream",
       "stream": "stdout",
       "text": [
        "\n",
        "529310575491551232\n",
        "474\n",
        "<tweepy.models.Status object at 0x105235590>"
       ]
      },
      {
       "output_type": "stream",
       "stream": "stdout",
       "text": [
        "\n",
        "529310556717846528\n",
        "475\n",
        "<tweepy.models.Status object at 0x105235250>"
       ]
      },
      {
       "output_type": "stream",
       "stream": "stdout",
       "text": [
        "\n",
        "529310549612691457\n",
        "476\n",
        "<tweepy.models.Status object at 0x105235590>"
       ]
      },
      {
       "output_type": "stream",
       "stream": "stdout",
       "text": [
        "\n",
        "529310547402297344\n",
        "477\n",
        "<tweepy.models.Status object at 0x105235450>"
       ]
      },
      {
       "output_type": "stream",
       "stream": "stdout",
       "text": [
        "\n",
        "529310537113690113\n",
        "478\n",
        "<tweepy.models.Status object at 0x105235410>"
       ]
      },
      {
       "output_type": "stream",
       "stream": "stdout",
       "text": [
        "\n",
        "529310501223022592\n",
        "479\n",
        "<tweepy.models.Status object at 0x105235d10>"
       ]
      },
      {
       "output_type": "stream",
       "stream": "stdout",
       "text": [
        "\n",
        "529310480914190336\n",
        "480\n",
        "<tweepy.models.Status object at 0x105235e90>"
       ]
      },
      {
       "output_type": "stream",
       "stream": "stdout",
       "text": [
        "\n",
        "529310470168395776\n",
        "481\n",
        "<tweepy.models.Status object at 0x105235410>"
       ]
      },
      {
       "output_type": "stream",
       "stream": "stdout",
       "text": [
        "\n",
        "529310462769627138\n",
        "482\n",
        "<tweepy.models.Status object at 0x105235190>"
       ]
      },
      {
       "output_type": "stream",
       "stream": "stdout",
       "text": [
        "\n",
        "529310452854325249\n",
        "483\n",
        "<tweepy.models.Status object at 0x1052350d0>"
       ]
      },
      {
       "output_type": "stream",
       "stream": "stdout",
       "text": [
        "\n",
        "529310423322230784\n",
        "484\n",
        "<tweepy.models.Status object at 0x105235090>"
       ]
      },
      {
       "output_type": "stream",
       "stream": "stdout",
       "text": [
        "\n",
        "529310415483076608\n",
        "485\n",
        "<tweepy.models.Status object at 0x105235410>"
       ]
      },
      {
       "output_type": "stream",
       "stream": "stdout",
       "text": [
        "\n",
        "529310412974882816\n",
        "486\n",
        "<tweepy.models.Status object at 0x105235e50>"
       ]
      },
      {
       "output_type": "stream",
       "stream": "stdout",
       "text": [
        "\n",
        "529310403453804544\n",
        "487\n",
        "<tweepy.models.Status object at 0x105235d10>"
       ]
      },
      {
       "output_type": "stream",
       "stream": "stdout",
       "text": [
        "\n",
        "529309128871931904\n",
        "488\n",
        "<tweepy.models.Status object at 0x105235e50>"
       ]
      },
      {
       "output_type": "stream",
       "stream": "stdout",
       "text": [
        "\n",
        "529309126342742016\n",
        "489\n",
        "<tweepy.models.Status object at 0x1052350d0>"
       ]
      },
      {
       "output_type": "stream",
       "stream": "stdout",
       "text": [
        "\n",
        "529308674897240064\n",
        "490\n",
        "<tweepy.models.Status object at 0x105235610>"
       ]
      },
      {
       "output_type": "stream",
       "stream": "stdout",
       "text": [
        "\n",
        "529308665137090560\n",
        "491\n",
        "<tweepy.models.Status object at 0x105235410>"
       ]
      },
      {
       "output_type": "stream",
       "stream": "stdout",
       "text": [
        "\n",
        "529308444613152768\n",
        "492\n",
        "<tweepy.models.Status object at 0x105235d10>"
       ]
      },
      {
       "output_type": "stream",
       "stream": "stdout",
       "text": [
        "\n",
        "529308407392911360\n",
        "493\n",
        "<tweepy.models.Status object at 0x105235450>"
       ]
      },
      {
       "output_type": "stream",
       "stream": "stdout",
       "text": [
        "\n",
        "529308341034844160\n",
        "494\n",
        "<tweepy.models.Status object at 0x1052350d0>"
       ]
      },
      {
       "output_type": "stream",
       "stream": "stdout",
       "text": [
        "\n",
        "529308244536483840\n",
        "495\n",
        "<tweepy.models.Status object at 0x105235610>"
       ]
      },
      {
       "output_type": "stream",
       "stream": "stdout",
       "text": [
        "\n",
        "529308069147447297\n",
        "496\n",
        "<tweepy.models.Status object at 0x105235410>"
       ]
      },
      {
       "output_type": "stream",
       "stream": "stdout",
       "text": [
        "\n",
        "529308055134273536\n",
        "497\n",
        "<tweepy.models.Status object at 0x1052351d0>"
       ]
      },
      {
       "output_type": "stream",
       "stream": "stdout",
       "text": [
        "\n",
        "529308003645022208\n",
        "498\n",
        "<tweepy.models.Status object at 0x105235e50>"
       ]
      },
      {
       "output_type": "stream",
       "stream": "stdout",
       "text": [
        "\n",
        "529307964495380480\n",
        "499\n",
        "<tweepy.models.Status object at 0x1052351d0>"
       ]
      },
      {
       "output_type": "stream",
       "stream": "stdout",
       "text": [
        "\n",
        "529307961873928192\n",
        "500\n",
        "<tweepy.models.Status object at 0x105235d90>"
       ]
      },
      {
       "output_type": "stream",
       "stream": "stdout",
       "text": [
        "\n",
        "529307840289456128\n",
        "501\n",
        "<tweepy.models.Status object at 0x105235dd0>"
       ]
      },
      {
       "output_type": "stream",
       "stream": "stdout",
       "text": [
        "\n",
        "529307838049705984\n",
        "502\n",
        "<tweepy.models.Status object at 0x105235110>"
       ]
      },
      {
       "output_type": "stream",
       "stream": "stdout",
       "text": [
        "\n",
        "529307810262437888\n",
        "503\n",
        "<tweepy.models.Status object at 0x1052351d0>"
       ]
      },
      {
       "output_type": "stream",
       "stream": "stdout",
       "text": [
        "\n",
        "529307795930497024\n",
        "504\n",
        "<tweepy.models.Status object at 0x105235f90>"
       ]
      },
      {
       "output_type": "stream",
       "stream": "stdout",
       "text": [
        "\n",
        "529307793711706113\n",
        "505\n",
        "<tweepy.models.Status object at 0x105235dd0>"
       ]
      },
      {
       "output_type": "stream",
       "stream": "stdout",
       "text": [
        "\n",
        "529307621913030656\n",
        "506\n",
        "<tweepy.models.Status object at 0x105235190>"
       ]
      },
      {
       "output_type": "stream",
       "stream": "stdout",
       "text": [
        "\n",
        "529307597468614657\n",
        "507\n",
        "<tweepy.models.Status object at 0x105235dd0>"
       ]
      },
      {
       "output_type": "stream",
       "stream": "stdout",
       "text": [
        "\n",
        "529307595191107584\n",
        "508\n",
        "<tweepy.models.Status object at 0x1052350d0>"
       ]
      },
      {
       "output_type": "stream",
       "stream": "stdout",
       "text": [
        "\n",
        "529307296346943488\n",
        "509\n",
        "<tweepy.models.Status object at 0x105235cd0>"
       ]
      },
      {
       "output_type": "stream",
       "stream": "stdout",
       "text": [
        "\n",
        "529307288566509568\n",
        "510\n",
        "<tweepy.models.Status object at 0x105235610>"
       ]
      },
      {
       "output_type": "stream",
       "stream": "stdout",
       "text": [
        "\n",
        "529307286385479681\n",
        "511\n",
        "<tweepy.models.Status object at 0x105235d10>"
       ]
      },
      {
       "output_type": "stream",
       "stream": "stdout",
       "text": [
        "\n",
        "529307248561242112\n",
        "512\n",
        "<tweepy.models.Status object at 0x1052350d0>"
       ]
      },
      {
       "output_type": "stream",
       "stream": "stdout",
       "text": [
        "\n",
        "529307246279536640\n",
        "513\n",
        "<tweepy.models.Status object at 0x105235e90>"
       ]
      },
      {
       "output_type": "stream",
       "stream": "stdout",
       "text": [
        "\n",
        "529307186477166593\n",
        "514\n",
        "<tweepy.models.Status object at 0x105235610>"
       ]
      },
      {
       "output_type": "stream",
       "stream": "stdout",
       "text": [
        "\n",
        "529307184073805826\n",
        "515\n",
        "<tweepy.models.Status object at 0x105235fd0>"
       ]
      },
      {
       "output_type": "stream",
       "stream": "stdout",
       "text": [
        "\n",
        "529307173072142337\n",
        "516\n",
        "<tweepy.models.Status object at 0x1052350d0>"
       ]
      },
      {
       "output_type": "stream",
       "stream": "stdout",
       "text": [
        "\n",
        "529307170773696512\n",
        "517\n",
        "<tweepy.models.Status object at 0x105235110>"
       ]
      },
      {
       "output_type": "stream",
       "stream": "stdout",
       "text": [
        "\n",
        "529307155003097088\n",
        "518\n",
        "<tweepy.models.Status object at 0x105235410>"
       ]
      },
      {
       "output_type": "stream",
       "stream": "stdout",
       "text": [
        "\n",
        "529307092071747584\n",
        "519\n",
        "<tweepy.models.Status object at 0x105235110>"
       ]
      },
      {
       "output_type": "stream",
       "stream": "stdout",
       "text": [
        "\n",
        "529307089790062593\n",
        "520\n",
        "<tweepy.models.Status object at 0x105235cd0>"
       ]
      },
      {
       "output_type": "stream",
       "stream": "stdout",
       "text": [
        "\n",
        "529307069502205952\n",
        "521\n",
        "<tweepy.models.Status object at 0x105235f10>"
       ]
      },
      {
       "output_type": "stream",
       "stream": "stdout",
       "text": [
        "\n",
        "529307067170185216\n",
        "522\n",
        "<tweepy.models.Status object at 0x105235410>"
       ]
      },
      {
       "output_type": "stream",
       "stream": "stdout",
       "text": [
        "\n",
        "529306920709292032\n",
        "523\n",
        "<tweepy.models.Status object at 0x105235750>"
       ]
      },
      {
       "output_type": "stream",
       "stream": "stdout",
       "text": [
        "\n",
        "529306861196292096\n",
        "524\n",
        "<tweepy.models.Status object at 0x105235ed0>"
       ]
      },
      {
       "output_type": "stream",
       "stream": "stdout",
       "text": [
        "\n",
        "529306777515720704\n",
        "525\n",
        "<tweepy.models.Status object at 0x105235d90>"
       ]
      },
      {
       "output_type": "stream",
       "stream": "stdout",
       "text": [
        "\n",
        "529306770377027584\n",
        "526\n",
        "<tweepy.models.Status object at 0x105235ed0>"
       ]
      },
      {
       "output_type": "stream",
       "stream": "stdout",
       "text": [
        "\n",
        "529306741851586562\n",
        "527\n",
        "<tweepy.models.Status object at 0x105235590>"
       ]
      },
      {
       "output_type": "stream",
       "stream": "stdout",
       "text": [
        "\n",
        "529306604253233153\n",
        "528\n",
        "<tweepy.models.Status object at 0x105235490>"
       ]
      },
      {
       "output_type": "stream",
       "stream": "stdout",
       "text": [
        "\n",
        "529306551379820547\n",
        "529\n",
        "<tweepy.models.Status object at 0x105235590>"
       ]
      },
      {
       "output_type": "stream",
       "stream": "stdout",
       "text": [
        "\n",
        "529306549047791616\n",
        "530\n",
        "<tweepy.models.Status object at 0x105235d50>"
       ]
      },
      {
       "output_type": "stream",
       "stream": "stdout",
       "text": [
        "\n",
        "529306539883253760\n",
        "531\n",
        "<tweepy.models.Status object at 0x105235190>"
       ]
      },
      {
       "output_type": "stream",
       "stream": "stdout",
       "text": [
        "\n",
        "529306415299833857\n",
        "532\n",
        "<tweepy.models.Status object at 0x105235ed0>"
       ]
      },
      {
       "output_type": "stream",
       "stream": "stdout",
       "text": [
        "\n",
        "529306413055897600\n",
        "533\n",
        "<tweepy.models.Status object at 0x105235990>"
       ]
      },
      {
       "output_type": "stream",
       "stream": "stdout",
       "text": [
        "\n",
        "529306403501256704\n",
        "534\n",
        "<tweepy.models.Status object at 0x105235d50>"
       ]
      },
      {
       "output_type": "stream",
       "stream": "stdout",
       "text": [
        "\n",
        "529306401177600000\n",
        "535\n",
        "<tweepy.models.Status object at 0x105235490>"
       ]
      },
      {
       "output_type": "stream",
       "stream": "stdout",
       "text": [
        "\n",
        "529306366150979584\n",
        "536\n",
        "<tweepy.models.Status object at 0x105235d50>"
       ]
      },
      {
       "output_type": "stream",
       "stream": "stdout",
       "text": [
        "\n",
        "529306363818950656\n",
        "537\n",
        "<tweepy.models.Status object at 0x105235190>"
       ]
      },
      {
       "output_type": "stream",
       "stream": "stdout",
       "text": [
        "\n",
        "529306339366174721\n",
        "538\n",
        "<tweepy.models.Status object at 0x105235dd0>"
       ]
      },
      {
       "output_type": "stream",
       "stream": "stdout",
       "text": [
        "\n",
        "529306337008943104\n",
        "539\n",
        "<tweepy.models.Status object at 0x1052350d0>"
       ]
      },
      {
       "output_type": "stream",
       "stream": "stdout",
       "text": [
        "\n",
        "529306316976979968\n",
        "540\n",
        "<tweepy.models.Status object at 0x105254110>"
       ]
      },
      {
       "output_type": "stream",
       "stream": "stdout",
       "text": [
        "\n",
        "529306045823614977\n",
        "541\n",
        "<tweepy.models.Status object at 0x105254f10>"
       ]
      },
      {
       "output_type": "stream",
       "stream": "stdout",
       "text": [
        "\n",
        "529305949245554688\n",
        "542\n",
        "<tweepy.models.Status object at 0x105254d90>"
       ]
      },
      {
       "output_type": "stream",
       "stream": "stdout",
       "text": [
        "\n",
        "529305937514082304\n",
        "543\n",
        "<tweepy.models.Status object at 0x105254e90>"
       ]
      },
      {
       "output_type": "stream",
       "stream": "stdout",
       "text": [
        "\n",
        "529305935328841728\n",
        "544\n",
        "<tweepy.models.Status object at 0x105254110>"
       ]
      },
      {
       "output_type": "stream",
       "stream": "stdout",
       "text": [
        "\n",
        "529305920795598848\n",
        "545\n",
        "<tweepy.models.Status object at 0x105254d90>"
       ]
      },
      {
       "output_type": "stream",
       "stream": "stdout",
       "text": [
        "\n",
        "529305875107049472\n",
        "546\n",
        "<tweepy.models.Status object at 0x105254d90>"
       ]
      },
      {
       "output_type": "stream",
       "stream": "stdout",
       "text": [
        "\n",
        "529305872905023488\n",
        "547\n",
        "<tweepy.models.Status object at 0x105254210>"
       ]
      },
      {
       "output_type": "stream",
       "stream": "stdout",
       "text": [
        "\n",
        "529305858816368641\n",
        "548\n",
        "<tweepy.models.Status object at 0x105254d90>"
       ]
      },
      {
       "output_type": "stream",
       "stream": "stdout",
       "text": [
        "\n",
        "529305820799176704\n",
        "549\n",
        "<tweepy.models.Status object at 0x105254ed0>"
       ]
      },
      {
       "output_type": "stream",
       "stream": "stdout",
       "text": [
        "\n",
        "529305812947468288\n",
        "550\n",
        "<tweepy.models.Status object at 0x105254ed0>"
       ]
      },
      {
       "output_type": "stream",
       "stream": "stdout",
       "text": [
        "\n",
        "529305810690928640\n",
        "551\n",
        "<tweepy.models.Status object at 0x105254d90>"
       ]
      },
      {
       "output_type": "stream",
       "stream": "stdout",
       "text": [
        "\n",
        "529305799781535744\n",
        "552\n",
        "<tweepy.models.Status object at 0x105254ed0>"
       ]
      },
      {
       "output_type": "stream",
       "stream": "stdout",
       "text": [
        "\n",
        "529305793045467136\n",
        "553\n",
        "<tweepy.models.Status object at 0x105254e90>"
       ]
      },
      {
       "output_type": "stream",
       "stream": "stdout",
       "text": [
        "\n",
        "529305618772164608\n",
        "554\n",
        "<tweepy.models.Status object at 0x105254110>"
       ]
      },
      {
       "output_type": "stream",
       "stream": "stdout",
       "text": [
        "\n",
        "529305615798370304\n",
        "555\n",
        "<tweepy.models.Status object at 0x105254250>"
       ]
      },
      {
       "output_type": "stream",
       "stream": "stdout",
       "text": [
        "\n",
        "529305535892688896\n",
        "556\n",
        "<tweepy.models.Status object at 0x105254e90>"
       ]
      },
      {
       "output_type": "stream",
       "stream": "stdout",
       "text": [
        "\n",
        "529305470323130369\n",
        "557\n",
        "<tweepy.models.Status object at 0x105254e90>"
       ]
      },
      {
       "output_type": "stream",
       "stream": "stdout",
       "text": [
        "\n",
        "529305468091760640\n",
        "558\n",
        "<tweepy.models.Status object at 0x105254f10>"
       ]
      },
      {
       "output_type": "stream",
       "stream": "stdout",
       "text": [
        "\n",
        "529305371534708736\n",
        "559\n",
        "<tweepy.models.Status object at 0x105254f10>"
       ]
      },
      {
       "output_type": "stream",
       "stream": "stdout",
       "text": [
        "\n",
        "529305369328496640\n",
        "560\n",
        "<tweepy.models.Status object at 0x10524c290>"
       ]
      },
      {
       "output_type": "stream",
       "stream": "stdout",
       "text": [
        "\n",
        "529305343118303232\n",
        "561\n",
        "<tweepy.models.Status object at 0x10524c110>"
       ]
      },
      {
       "output_type": "stream",
       "stream": "stdout",
       "text": [
        "\n",
        "529305300437073920\n",
        "562\n",
        "<tweepy.models.Status object at 0x10524c290>"
       ]
      },
      {
       "output_type": "stream",
       "stream": "stdout",
       "text": [
        "\n",
        "529305298058903552\n",
        "563\n",
        "<tweepy.models.Status object at 0x10524ce10>"
       ]
      },
      {
       "output_type": "stream",
       "stream": "stdout",
       "text": [
        "\n",
        "529305253754454016\n",
        "564\n",
        "<tweepy.models.Status object at 0x10524c290>"
       ]
      },
      {
       "output_type": "stream",
       "stream": "stdout",
       "text": [
        "\n",
        "529305251497934849\n",
        "565\n",
        "<tweepy.models.Status object at 0x10524c350>"
       ]
      },
      {
       "output_type": "stream",
       "stream": "stdout",
       "text": [
        "\n",
        "529305142592827393\n",
        "566\n",
        "<tweepy.models.Status object at 0x10524c290>"
       ]
      },
      {
       "output_type": "stream",
       "stream": "stdout",
       "text": [
        "\n",
        "529305140248215552\n",
        "567\n",
        "<tweepy.models.Status object at 0x10524c110>"
       ]
      },
      {
       "output_type": "stream",
       "stream": "stdout",
       "text": [
        "\n",
        "529305058773827584\n",
        "568\n",
        "<tweepy.models.Status object at 0x10524cdd0>"
       ]
      },
      {
       "output_type": "stream",
       "stream": "stdout",
       "text": [
        "\n",
        "529305036976046080\n",
        "569\n",
        "<tweepy.models.Status object at 0x10524cf10>"
       ]
      },
      {
       "output_type": "stream",
       "stream": "stdout",
       "text": [
        "\n",
        "529305032144203776\n",
        "570\n",
        "<tweepy.models.Status object at 0x10524c150>"
       ]
      },
      {
       "output_type": "stream",
       "stream": "stdout",
       "text": [
        "\n",
        "529304924216381440\n",
        "571\n",
        "<tweepy.models.Status object at 0x10524c290>"
       ]
      },
      {
       "output_type": "stream",
       "stream": "stdout",
       "text": [
        "\n",
        "529304896215199745\n",
        "572\n",
        "<tweepy.models.Status object at 0x10524c1d0>"
       ]
      },
      {
       "output_type": "stream",
       "stream": "stdout",
       "text": [
        "\n",
        "529304840397393923\n",
        "573\n",
        "<tweepy.models.Status object at 0x10524c290>"
       ]
      },
      {
       "output_type": "stream",
       "stream": "stdout",
       "text": [
        "\n",
        "529304838015037441\n",
        "574\n",
        "<tweepy.models.Status object at 0x10524cc90>"
       ]
      },
      {
       "output_type": "stream",
       "stream": "stdout",
       "text": [
        "\n",
        "529304807304331266\n",
        "575\n",
        "<tweepy.models.Status object at 0x10524ced0>"
       ]
      },
      {
       "output_type": "stream",
       "stream": "stdout",
       "text": [
        "\n",
        "529304804997492738\n",
        "576\n",
        "<tweepy.models.Status object at 0x10524ca10>"
       ]
      },
      {
       "output_type": "stream",
       "stream": "stdout",
       "text": [
        "\n",
        "529304792448135168\n",
        "577\n",
        "<tweepy.models.Status object at 0x10524c290>"
       ]
      },
      {
       "output_type": "stream",
       "stream": "stdout",
       "text": [
        "\n",
        "529304790195781632\n",
        "578\n",
        "<tweepy.models.Status object at 0x10524c150>"
       ]
      },
      {
       "output_type": "stream",
       "stream": "stdout",
       "text": [
        "\n",
        "529304779626151937\n",
        "579\n",
        "<tweepy.models.Status object at 0x10524c450>"
       ]
      },
      {
       "output_type": "stream",
       "stream": "stdout",
       "text": [
        "\n",
        "529304733027414016\n",
        "580\n",
        "<tweepy.models.Status object at 0x105205cd0>"
       ]
      },
      {
       "output_type": "stream",
       "stream": "stdout",
       "text": [
        "\n",
        "529304730728947714\n",
        "581\n",
        "<tweepy.models.Status object at 0x105205d90>"
       ]
      },
      {
       "output_type": "stream",
       "stream": "stdout",
       "text": [
        "\n",
        "529304716338270208\n",
        "582\n",
        "<tweepy.models.Status object at 0x105205ed0>"
       ]
      },
      {
       "output_type": "stream",
       "stream": "stdout",
       "text": [
        "\n",
        "529304713515528192\n",
        "583\n",
        "<tweepy.models.Status object at 0x105205dd0>"
       ]
      },
      {
       "output_type": "stream",
       "stream": "stdout",
       "text": [
        "\n",
        "529304700500586497\n",
        "584\n",
        "<tweepy.models.Status object at 0x105205bd0>"
       ]
      },
      {
       "output_type": "stream",
       "stream": "stdout",
       "text": [
        "\n",
        "529304684918759424\n",
        "585\n",
        "<tweepy.models.Status object at 0x105205d90>"
       ]
      },
      {
       "output_type": "stream",
       "stream": "stdout",
       "text": [
        "\n",
        "529304682729340929\n",
        "586\n",
        "<tweepy.models.Status object at 0x105205b90>"
       ]
      },
      {
       "output_type": "stream",
       "stream": "stdout",
       "text": [
        "\n",
        "529304669617946624\n",
        "587\n",
        "<tweepy.models.Status object at 0x1052057d0>"
       ]
      },
      {
       "output_type": "stream",
       "stream": "stdout",
       "text": [
        "\n",
        "529304666992312320\n",
        "588\n",
        "<tweepy.models.Status object at 0x105205410>"
       ]
      },
      {
       "output_type": "stream",
       "stream": "stdout",
       "text": [
        "\n",
        "529304624986329088\n",
        "589\n",
        "<tweepy.models.Status object at 0x105205390>"
       ]
      },
      {
       "output_type": "stream",
       "stream": "stdout",
       "text": [
        "\n",
        "529304600604835840\n",
        "590\n",
        "<tweepy.models.Status object at 0x1052059d0>"
       ]
      },
      {
       "output_type": "stream",
       "stream": "stdout",
       "text": [
        "\n",
        "529304583701815296\n",
        "591\n",
        "<tweepy.models.Status object at 0x1052058d0>"
       ]
      },
      {
       "output_type": "stream",
       "stream": "stdout",
       "text": [
        "\n",
        "529304560343728128\n",
        "592\n",
        "<tweepy.models.Status object at 0x105205a10>"
       ]
      },
      {
       "output_type": "stream",
       "stream": "stdout",
       "text": [
        "\n",
        "529304558133338113\n",
        "593\n",
        "<tweepy.models.Status object at 0x105205650>"
       ]
      },
      {
       "output_type": "stream",
       "stream": "stdout",
       "text": [
        "\n",
        "529304540223664128\n",
        "594\n",
        "<tweepy.models.Status object at 0x10524c150>"
       ]
      },
      {
       "output_type": "stream",
       "stream": "stdout",
       "text": [
        "\n",
        "529304518249709569\n",
        "595\n",
        "<tweepy.models.Status object at 0x105205cd0>"
       ]
      },
      {
       "output_type": "stream",
       "stream": "stdout",
       "text": [
        "\n",
        "529304512117628929\n",
        "596\n",
        "<tweepy.models.Status object at 0x105205d90>"
       ]
      },
      {
       "output_type": "stream",
       "stream": "stdout",
       "text": [
        "\n",
        "529304502084833280\n",
        "597\n",
        "<tweepy.models.Status object at 0x105205650>"
       ]
      },
      {
       "output_type": "stream",
       "stream": "stdout",
       "text": [
        "\n",
        "529304499874430977\n",
        "598\n",
        "<tweepy.models.Status object at 0x10524c190>"
       ]
      },
      {
       "output_type": "stream",
       "stream": "stdout",
       "text": [
        "\n",
        "529304451874844672\n",
        "599\n",
        "<tweepy.models.Status object at 0x105205390>"
       ]
      },
      {
       "output_type": "stream",
       "stream": "stdout",
       "text": [
        "\n",
        "529304449689587712\n",
        "600\n",
        "<tweepy.models.Status object at 0x1051d4590>"
       ]
      },
      {
       "output_type": "stream",
       "stream": "stdout",
       "text": [
        "\n",
        "529303372076433408\n",
        "601\n",
        "<tweepy.models.Status object at 0x1051fd290>"
       ]
      },
      {
       "output_type": "stream",
       "stream": "stdout",
       "text": [
        "\n",
        "529303369589211136\n",
        "602\n",
        "<tweepy.models.Status object at 0x1051d4550>"
       ]
      },
      {
       "output_type": "stream",
       "stream": "stdout",
       "text": [
        "\n",
        "529303338828181504\n",
        "603\n",
        "<tweepy.models.Status object at 0x1051fd2d0>"
       ]
      },
      {
       "output_type": "stream",
       "stream": "stdout",
       "text": [
        "\n",
        "529303336575832064\n",
        "604\n",
        "<tweepy.models.Status object at 0x1051d4b10>"
       ]
      },
      {
       "output_type": "stream",
       "stream": "stdout",
       "text": [
        "\n",
        "529303295840747520\n",
        "605\n",
        "<tweepy.models.Status object at 0x1051d4590>"
       ]
      },
      {
       "output_type": "stream",
       "stream": "stdout",
       "text": [
        "\n",
        "529303258456928256\n",
        "606\n",
        "<tweepy.models.Status object at 0x1051fd7d0>"
       ]
      },
      {
       "output_type": "stream",
       "stream": "stdout",
       "text": [
        "\n",
        "529303256208801793\n",
        "607\n",
        "<tweepy.models.Status object at 0x1051d4550>"
       ]
      },
      {
       "output_type": "stream",
       "stream": "stdout",
       "text": [
        "\n",
        "529303230732587008\n",
        "608\n",
        "<tweepy.models.Status object at 0x1051d4b10>"
       ]
      },
      {
       "output_type": "stream",
       "stream": "stdout",
       "text": [
        "\n",
        "529302550806532096\n",
        "609\n",
        "<tweepy.models.Status object at 0x1051d4590>"
       ]
      },
      {
       "output_type": "stream",
       "stream": "stdout",
       "text": [
        "\n",
        "529302535979667456\n",
        "610\n",
        "<tweepy.models.Status object at 0x1051d4550>"
       ]
      },
      {
       "output_type": "stream",
       "stream": "stdout",
       "text": [
        "\n",
        "529301576167739392\n",
        "611\n",
        "<tweepy.models.Status object at 0x1051d4690>"
       ]
      },
      {
       "output_type": "stream",
       "stream": "stdout",
       "text": [
        "\n",
        "529301548325953536\n",
        "612\n",
        "<tweepy.models.Status object at 0x1051d4390>"
       ]
      },
      {
       "output_type": "stream",
       "stream": "stdout",
       "text": [
        "\n",
        "529301537764671489\n",
        "613\n",
        "<tweepy.models.Status object at 0x1051d4550>"
       ]
      },
      {
       "output_type": "stream",
       "stream": "stdout",
       "text": [
        "\n",
        "529301530789564418\n",
        "614\n",
        "<tweepy.models.Status object at 0x1051d4510>"
       ]
      },
      {
       "output_type": "stream",
       "stream": "stdout",
       "text": [
        "\n",
        "529301023421378560\n",
        "615\n",
        "<tweepy.models.Status object at 0x1051d4b10>"
       ]
      },
      {
       "output_type": "stream",
       "stream": "stdout",
       "text": [
        "\n",
        "529299295250677760\n",
        "616\n",
        "<tweepy.models.Status object at 0x1051d4690>"
       ]
      },
      {
       "output_type": "stream",
       "stream": "stdout",
       "text": [
        "\n",
        "529298473276166144\n",
        "617\n",
        "<tweepy.models.Status object at 0x1051fda90>"
       ]
      },
      {
       "output_type": "stream",
       "stream": "stdout",
       "text": [
        "\n",
        "529298471002849280\n",
        "618\n",
        "<tweepy.models.Status object at 0x1051d45d0>"
       ]
      },
      {
       "output_type": "stream",
       "stream": "stdout",
       "text": [
        "\n",
        "529298433312837632\n",
        "619\n",
        "<tweepy.models.Status object at 0x1051d4b10>"
       ]
      },
      {
       "output_type": "stream",
       "stream": "stdout",
       "text": [
        "\n",
        "529298420566347777\n",
        "620\n",
        "<tweepy.models.Status object at 0x1051fd990>"
       ]
      },
      {
       "output_type": "stream",
       "stream": "stdout",
       "text": [
        "\n",
        "529298418326585344\n",
        "621\n",
        "<tweepy.models.Status object at 0x105205b90>"
       ]
      },
      {
       "output_type": "stream",
       "stream": "stdout",
       "text": [
        "\n",
        "529298398370095104\n",
        "622\n",
        "<tweepy.models.Status object at 0x1051fd7d0>"
       ]
      },
      {
       "output_type": "stream",
       "stream": "stdout",
       "text": [
        "\n",
        "529298396130316289\n",
        "623\n",
        "<tweepy.models.Status object at 0x105205410>"
       ]
      },
      {
       "output_type": "stream",
       "stream": "stdout",
       "text": [
        "\n",
        "529298388165341184\n",
        "624\n",
        "<tweepy.models.Status object at 0x1051fd650>"
       ]
      },
      {
       "output_type": "stream",
       "stream": "stdout",
       "text": [
        "\n",
        "529298385803964416\n",
        "625\n",
        "<tweepy.models.Status object at 0x105205bd0>"
       ]
      },
      {
       "output_type": "stream",
       "stream": "stdout",
       "text": [
        "\n",
        "529298360759771136\n",
        "626\n",
        "<tweepy.models.Status object at 0x105205390>"
       ]
      },
      {
       "output_type": "stream",
       "stream": "stdout",
       "text": [
        "\n",
        "529298338441854976\n",
        "627\n",
        "<tweepy.models.Status object at 0x1051fd650>"
       ]
      },
      {
       "output_type": "stream",
       "stream": "stdout",
       "text": [
        "\n",
        "529298336197931009\n",
        "628\n",
        "<tweepy.models.Status object at 0x105205bd0>"
       ]
      },
      {
       "output_type": "stream",
       "stream": "stdout",
       "text": [
        "\n",
        "529298260700446721\n",
        "629\n",
        "<tweepy.models.Status object at 0x1051fd690>"
       ]
      },
      {
       "output_type": "stream",
       "stream": "stdout",
       "text": [
        "\n",
        "529298258288721920\n",
        "630\n",
        "<tweepy.models.Status object at 0x105205b90>"
       ]
      },
      {
       "output_type": "stream",
       "stream": "stdout",
       "text": [
        "\n",
        "529298208892416000\n",
        "631\n",
        "<tweepy.models.Status object at 0x1051fdcd0>"
       ]
      },
      {
       "output_type": "stream",
       "stream": "stdout",
       "text": [
        "\n",
        "529298206614904833\n",
        "632\n",
        "<tweepy.models.Status object at 0x105205390>"
       ]
      },
      {
       "output_type": "stream",
       "stream": "stdout",
       "text": [
        "\n",
        "529298094064959488\n",
        "633\n",
        "<tweepy.models.Status object at 0x1051fda90>"
       ]
      },
      {
       "output_type": "stream",
       "stream": "stdout",
       "text": [
        "\n",
        "529298091774853120\n",
        "634\n",
        "<tweepy.models.Status object at 0x105205bd0>"
       ]
      },
      {
       "output_type": "stream",
       "stream": "stdout",
       "text": [
        "\n",
        "529298066265100288\n",
        "635\n",
        "<tweepy.models.Status object at 0x1051fd210>"
       ]
      },
      {
       "output_type": "stream",
       "stream": "stdout",
       "text": [
        "\n",
        "529298063975022593\n",
        "636\n",
        "<tweepy.models.Status object at 0x105205b90>"
       ]
      },
      {
       "output_type": "stream",
       "stream": "stdout",
       "text": [
        "\n",
        "529298037227933696\n",
        "637\n",
        "<tweepy.models.Status object at 0x1051fd250>"
       ]
      },
      {
       "output_type": "stream",
       "stream": "stdout",
       "text": [
        "\n",
        "529298034992361473\n",
        "638\n",
        "<tweepy.models.Status object at 0x105205390>"
       ]
      },
      {
       "output_type": "stream",
       "stream": "stdout",
       "text": [
        "\n",
        "529298018991112192\n",
        "639\n",
        "<tweepy.models.Status object at 0x105205410>"
       ]
      },
      {
       "output_type": "stream",
       "stream": "stdout",
       "text": [
        "\n",
        "529297975563255808\n",
        "640\n",
        "<tweepy.models.Status object at 0x105205410>"
       ]
      },
      {
       "output_type": "stream",
       "stream": "stdout",
       "text": [
        "\n",
        "529297949931888640\n",
        "641\n",
        "<tweepy.models.Status object at 0x105205cd0>"
       ]
      },
      {
       "output_type": "stream",
       "stream": "stdout",
       "text": [
        "\n",
        "529297750555652097\n",
        "642\n",
        "<tweepy.models.Status object at 0x1051fd650>"
       ]
      },
      {
       "output_type": "stream",
       "stream": "stdout",
       "text": [
        "\n",
        "529297748169089025\n",
        "643\n",
        "<tweepy.models.Status object at 0x105205650>"
       ]
      },
      {
       "output_type": "stream",
       "stream": "stdout",
       "text": [
        "\n",
        "529297736408260610\n",
        "644\n",
        "<tweepy.models.Status object at 0x1051fd390>"
       ]
      },
      {
       "output_type": "stream",
       "stream": "stdout",
       "text": [
        "\n",
        "529297734051069952\n",
        "645\n",
        "<tweepy.models.Status object at 0x105205a10>"
       ]
      },
      {
       "output_type": "stream",
       "stream": "stdout",
       "text": [
        "\n",
        "529297665012805632\n",
        "646\n",
        "<tweepy.models.Status object at 0x105205190>"
       ]
      },
      {
       "output_type": "stream",
       "stream": "stdout",
       "text": [
        "\n",
        "529297604556120065\n",
        "647\n",
        "<tweepy.models.Status object at 0x105205a10>"
       ]
      },
      {
       "output_type": "stream",
       "stream": "stdout",
       "text": [
        "\n",
        "529297383507906560\n",
        "648\n",
        "<tweepy.models.Status object at 0x1051fd290>"
       ]
      },
      {
       "output_type": "stream",
       "stream": "stdout",
       "text": [
        "\n",
        "529297381226213376\n",
        "649\n",
        "<tweepy.models.Status object at 0x105205b50>"
       ]
      },
      {
       "output_type": "stream",
       "stream": "stdout",
       "text": [
        "\n",
        "529297311835639809\n",
        "650\n",
        "<tweepy.models.Status object at 0x105205cd0>"
       ]
      },
      {
       "output_type": "stream",
       "stream": "stdout",
       "text": [
        "\n",
        "529297228897456128\n",
        "651\n",
        "<tweepy.models.Status object at 0x105205190>"
       ]
      },
      {
       "output_type": "stream",
       "stream": "stdout",
       "text": [
        "\n",
        "529297108860669952\n",
        "652\n",
        "<tweepy.models.Status object at 0x105205a10>"
       ]
      },
      {
       "output_type": "stream",
       "stream": "stdout",
       "text": [
        "\n",
        "529297104666394624\n",
        "653\n",
        "<tweepy.models.Status object at 0x105205190>"
       ]
      },
      {
       "output_type": "stream",
       "stream": "stdout",
       "text": [
        "\n",
        "529297090414133249\n",
        "654\n",
        "<tweepy.models.Status object at 0x105205a10>"
       ]
      },
      {
       "output_type": "stream",
       "stream": "stdout",
       "text": [
        "\n",
        "529297072261193730\n",
        "655\n",
        "<tweepy.models.Status object at 0x105205cd0>"
       ]
      },
      {
       "output_type": "stream",
       "stream": "stdout",
       "text": [
        "\n",
        "529297023468851200\n",
        "656\n",
        "<tweepy.models.Status object at 0x1051fd250>"
       ]
      },
      {
       "output_type": "stream",
       "stream": "stdout",
       "text": [
        "\n",
        "529297021287792641\n",
        "657\n",
        "<tweepy.models.Status object at 0x105205b90>"
       ]
      },
      {
       "output_type": "stream",
       "stream": "stdout",
       "text": [
        "\n",
        "529297014115565568\n",
        "658\n",
        "<tweepy.models.Status object at 0x105205b50>"
       ]
      },
      {
       "output_type": "stream",
       "stream": "stdout",
       "text": [
        "\n",
        "529296967185465344\n",
        "659\n",
        "<tweepy.models.Status object at 0x1052051d0>"
       ]
      },
      {
       "output_type": "stream",
       "stream": "stdout",
       "text": [
        "\n",
        "529296962101972992\n",
        "660\n",
        "<tweepy.models.Status object at 0x10522c450>"
       ]
      },
      {
       "output_type": "stream",
       "stream": "stdout",
       "text": [
        "\n",
        "529296959744786433\n",
        "661\n",
        "<tweepy.models.Status object at 0x10522c4d0>"
       ]
      },
      {
       "output_type": "stream",
       "stream": "stdout",
       "text": [
        "\n",
        "529296939536613376\n",
        "662\n",
        "<tweepy.models.Status object at 0x10522c350>"
       ]
      },
      {
       "output_type": "stream",
       "stream": "stdout",
       "text": [
        "\n",
        "529296924722343936\n",
        "663\n",
        "<tweepy.models.Status object at 0x10522c290>"
       ]
      },
      {
       "output_type": "stream",
       "stream": "stdout",
       "text": [
        "\n",
        "529296922516152320\n",
        "664\n",
        "<tweepy.models.Status object at 0x10522c210>"
       ]
      },
      {
       "output_type": "stream",
       "stream": "stdout",
       "text": [
        "\n",
        "529296869126864898\n",
        "665\n",
        "<tweepy.models.Status object at 0x10522c590>"
       ]
      },
      {
       "output_type": "stream",
       "stream": "stdout",
       "text": [
        "\n",
        "529296854631342080\n",
        "666\n",
        "<tweepy.models.Status object at 0x10522c310>"
       ]
      },
      {
       "output_type": "stream",
       "stream": "stdout",
       "text": [
        "\n",
        "529296852378988544\n",
        "667\n",
        "<tweepy.models.Status object at 0x10522c350>"
       ]
      },
      {
       "output_type": "stream",
       "stream": "stdout",
       "text": [
        "\n",
        "529296690927665152\n",
        "668\n",
        "<tweepy.models.Status object at 0x10522c550>"
       ]
      },
      {
       "output_type": "stream",
       "stream": "stdout",
       "text": [
        "\n",
        "529296570492407808\n",
        "669\n",
        "<tweepy.models.Status object at 0x10522c410>"
       ]
      },
      {
       "output_type": "stream",
       "stream": "stdout",
       "text": [
        "\n",
        "529296497792516096\n",
        "670\n",
        "<tweepy.models.Status object at 0x10522c390>"
       ]
      },
      {
       "output_type": "stream",
       "stream": "stdout",
       "text": [
        "\n",
        "529296492818100224\n",
        "671\n",
        "<tweepy.models.Status object at 0x10522c6d0>"
       ]
      },
      {
       "output_type": "stream",
       "stream": "stdout",
       "text": [
        "\n",
        "529296476586119168\n",
        "672\n",
        "<tweepy.models.Status object at 0x10522c450>"
       ]
      },
      {
       "output_type": "stream",
       "stream": "stdout",
       "text": [
        "\n",
        "529296355056173057\n",
        "673\n",
        "<tweepy.models.Status object at 0x10522c410>"
       ]
      },
      {
       "output_type": "stream",
       "stream": "stdout",
       "text": [
        "\n",
        "529296233316503552\n",
        "674\n",
        "<tweepy.models.Status object at 0x10522c1d0>"
       ]
      },
      {
       "output_type": "stream",
       "stream": "stdout",
       "text": [
        "\n",
        "529296091590983680\n",
        "675\n",
        "<tweepy.models.Status object at 0x10522c490>"
       ]
      },
      {
       "output_type": "stream",
       "stream": "stdout",
       "text": [
        "\n",
        "529296089330249728\n",
        "676\n",
        "<tweepy.models.Status object at 0x10522c190>"
       ]
      },
      {
       "output_type": "stream",
       "stream": "stdout",
       "text": [
        "\n",
        "529295980257366016\n",
        "677\n",
        "<tweepy.models.Status object at 0x10522c150>"
       ]
      },
      {
       "output_type": "stream",
       "stream": "stdout",
       "text": [
        "\n",
        "529295888506978304\n",
        "678\n",
        "<tweepy.models.Status object at 0x10522c590>"
       ]
      },
      {
       "output_type": "stream",
       "stream": "stdout",
       "text": [
        "\n",
        "529295835432251392\n",
        "679\n",
        "<tweepy.models.Status object at 0x10522c450>"
       ]
      },
      {
       "output_type": "stream",
       "stream": "stdout",
       "text": [
        "\n",
        "529295727374372865\n",
        "680\n",
        "<tweepy.models.Status object at 0x10522c2d0>"
       ]
      },
      {
       "output_type": "stream",
       "stream": "stdout",
       "text": [
        "\n",
        "529295725000413185\n",
        "681\n",
        "<tweepy.models.Status object at 0x10522c150>"
       ]
      },
      {
       "output_type": "stream",
       "stream": "stdout",
       "text": [
        "\n",
        "529295711570247682\n",
        "682\n",
        "<tweepy.models.Status object at 0x10522c690>"
       ]
      },
      {
       "output_type": "stream",
       "stream": "stdout",
       "text": [
        "\n",
        "529295709364047872\n",
        "683\n",
        "<tweepy.models.Status object at 0x10522c110>"
       ]
      },
      {
       "output_type": "stream",
       "stream": "stdout",
       "text": [
        "\n",
        "529295629961678848\n",
        "684\n",
        "<tweepy.models.Status object at 0x10522c2d0>"
       ]
      },
      {
       "output_type": "stream",
       "stream": "stdout",
       "text": [
        "\n",
        "529295627738697728\n",
        "685\n",
        "<tweepy.models.Status object at 0x10522c0d0>"
       ]
      },
      {
       "output_type": "stream",
       "stream": "stdout",
       "text": [
        "\n",
        "529295309839822849\n",
        "686\n",
        "<tweepy.models.Status object at 0x10522c150>"
       ]
      },
      {
       "output_type": "stream",
       "stream": "stdout",
       "text": [
        "\n",
        "529295279657594880\n",
        "687\n",
        "<tweepy.models.Status object at 0x10522c590>"
       ]
      },
      {
       "output_type": "stream",
       "stream": "stdout",
       "text": [
        "\n",
        "529295003785654272\n",
        "688\n",
        "<tweepy.models.Status object at 0x10522c110>"
       ]
      },
      {
       "output_type": "stream",
       "stream": "stdout",
       "text": [
        "\n",
        "529294918112792576\n",
        "689\n",
        "<tweepy.models.Status object at 0x10522c450>"
       ]
      },
      {
       "output_type": "stream",
       "stream": "stdout",
       "text": [
        "\n",
        "529294837892530176\n",
        "690\n",
        "<tweepy.models.Status object at 0x10522c150>"
       ]
      },
      {
       "output_type": "stream",
       "stream": "stdout",
       "text": [
        "\n",
        "529294835715674112\n",
        "691\n",
        "<tweepy.models.Status object at 0x10522c090>"
       ]
      },
      {
       "output_type": "stream",
       "stream": "stdout",
       "text": [
        "\n",
        "529294807320248321\n",
        "692\n",
        "<tweepy.models.Status object at 0x10522c150>"
       ]
      },
      {
       "output_type": "stream",
       "stream": "stdout",
       "text": [
        "\n",
        "529294805084672000\n",
        "693\n",
        "<tweepy.models.Status object at 0x10522c310>"
       ]
      },
      {
       "output_type": "stream",
       "stream": "stdout",
       "text": [
        "\n",
        "529294779981791232\n",
        "694\n",
        "<tweepy.models.Status object at 0x10522c290>"
       ]
      },
      {
       "output_type": "stream",
       "stream": "stdout",
       "text": [
        "\n",
        "529294777758797824\n",
        "695\n",
        "<tweepy.models.Status object at 0x10522c690>"
       ]
      },
      {
       "output_type": "stream",
       "stream": "stdout",
       "text": [
        "\n",
        "529294728035336192\n",
        "696\n",
        "<tweepy.models.Status object at 0x10522c090>"
       ]
      },
      {
       "output_type": "stream",
       "stream": "stdout",
       "text": [
        "\n",
        "529294552986042368\n",
        "697\n",
        "<tweepy.models.Status object at 0x10522c390>"
       ]
      },
      {
       "output_type": "stream",
       "stream": "stdout",
       "text": [
        "\n",
        "529294529061740546\n",
        "698\n",
        "<tweepy.models.Status object at 0x10522c550>"
       ]
      },
      {
       "output_type": "stream",
       "stream": "stdout",
       "text": [
        "\n",
        "529294519536451584\n",
        "699\n",
        "<tweepy.models.Status object at 0x10522c690>"
       ]
      },
      {
       "output_type": "stream",
       "stream": "stdout",
       "text": [
        "\n",
        "529294517267361792\n",
        "700\n",
        "<tweepy.models.Status object at 0x10522c090>"
       ]
      },
      {
       "output_type": "stream",
       "stream": "stdout",
       "text": [
        "\n",
        "529294488599277568\n",
        "701\n",
        "<tweepy.models.Status object at 0x10522c310>"
       ]
      },
      {
       "output_type": "stream",
       "stream": "stdout",
       "text": [
        "\n",
        "529294486376312832\n",
        "702\n",
        "<tweepy.models.Status object at 0x10522c050>"
       ]
      },
      {
       "output_type": "stream",
       "stream": "stdout",
       "text": [
        "\n",
        "529294470857383936\n",
        "703\n",
        "<tweepy.models.Status object at 0x10522c450>"
       ]
      },
      {
       "output_type": "stream",
       "stream": "stdout",
       "text": [
        "\n",
        "529294420731244544\n",
        "704\n",
        "<tweepy.models.Status object at 0x10522c050>"
       ]
      },
      {
       "output_type": "stream",
       "stream": "stdout",
       "text": [
        "\n",
        "529294418449551360\n",
        "705\n",
        "<tweepy.models.Status object at 0x10522cd10>"
       ]
      },
      {
       "output_type": "stream",
       "stream": "stdout",
       "text": [
        "\n",
        "529294325059162112\n",
        "706\n",
        "<tweepy.models.Status object at 0x10522c350>"
       ]
      },
      {
       "output_type": "stream",
       "stream": "stdout",
       "text": [
        "\n",
        "529294206024826880\n",
        "707\n",
        "<tweepy.models.Status object at 0x10522c390>"
       ]
      },
      {
       "output_type": "stream",
       "stream": "stdout",
       "text": [
        "\n",
        "529294183459467264\n",
        "708\n",
        "<tweepy.models.Status object at 0x10522c350>"
       ]
      },
      {
       "output_type": "stream",
       "stream": "stdout",
       "text": [
        "\n",
        "529294181030969344\n",
        "709\n",
        "<tweepy.models.Status object at 0x10522c550>"
       ]
      },
      {
       "output_type": "stream",
       "stream": "stdout",
       "text": [
        "\n",
        "529294150265757697\n",
        "710\n",
        "<tweepy.models.Status object at 0x10522c350>"
       ]
      },
      {
       "output_type": "stream",
       "stream": "stdout",
       "text": [
        "\n",
        "529294147984031745\n",
        "711\n",
        "<tweepy.models.Status object at 0x10522cd10>"
       ]
      },
      {
       "output_type": "stream",
       "stream": "stdout",
       "text": [
        "\n",
        "529294137255002112\n",
        "712\n",
        "<tweepy.models.Status object at 0x10522c190>"
       ]
      },
      {
       "output_type": "stream",
       "stream": "stdout",
       "text": [
        "\n",
        "529294134935552000\n",
        "713\n",
        "<tweepy.models.Status object at 0x10522c590>"
       ]
      },
      {
       "output_type": "stream",
       "stream": "stdout",
       "text": [
        "\n",
        "529294088080982016\n",
        "714\n",
        "<tweepy.models.Status object at 0x10522c3d0>"
       ]
      },
      {
       "output_type": "stream",
       "stream": "stdout",
       "text": [
        "\n",
        "529294063401721856\n",
        "715\n",
        "<tweepy.models.Status object at 0x10522c210>"
       ]
      },
      {
       "output_type": "stream",
       "stream": "stdout",
       "text": [
        "\n",
        "529294061166145536\n",
        "716\n",
        "<tweepy.models.Status object at 0x10522c110>"
       ]
      },
      {
       "output_type": "stream",
       "stream": "stdout",
       "text": [
        "\n",
        "529293883466059778\n",
        "717\n",
        "<tweepy.models.Status object at 0x10522c150>"
       ]
      },
      {
       "output_type": "stream",
       "stream": "stdout",
       "text": [
        "\n",
        "529293874293145600\n",
        "718\n",
        "<tweepy.models.Status object at 0x10522cd10>"
       ]
      },
      {
       "output_type": "stream",
       "stream": "stdout",
       "text": [
        "\n",
        "529293868563697664\n",
        "719\n",
        "<tweepy.models.Status object at 0x10522c410>"
       ]
      },
      {
       "output_type": "stream",
       "stream": "stdout",
       "text": [
        "\n",
        "529293859197812736\n",
        "720\n",
        "<tweepy.models.Status object at 0x10522c2d0>"
       ]
      },
      {
       "output_type": "stream",
       "stream": "stdout",
       "text": [
        "\n",
        "529293844438085633\n",
        "721\n",
        "<tweepy.models.Status object at 0x10522c110>"
       ]
      },
      {
       "output_type": "stream",
       "stream": "stdout",
       "text": [
        "\n",
        "529293841984409600\n",
        "722\n",
        "<tweepy.models.Status object at 0x10522c410>"
       ]
      },
      {
       "output_type": "stream",
       "stream": "stdout",
       "text": [
        "\n",
        "529293650732515328\n",
        "723\n",
        "<tweepy.models.Status object at 0x10522c090>"
       ]
      },
      {
       "output_type": "stream",
       "stream": "stdout",
       "text": [
        "\n",
        "529293332993019905\n",
        "724\n",
        "<tweepy.models.Status object at 0x10522cd10>"
       ]
      },
      {
       "output_type": "stream",
       "stream": "stdout",
       "text": [
        "\n",
        "529293330799427586\n",
        "725\n",
        "<tweepy.models.Status object at 0x10522c610>"
       ]
      },
      {
       "output_type": "stream",
       "stream": "stdout",
       "text": [
        "\n",
        "529293311337844736\n",
        "726\n",
        "<tweepy.models.Status object at 0x10522c3d0>"
       ]
      },
      {
       "output_type": "stream",
       "stream": "stdout",
       "text": [
        "\n",
        "529293291318431744\n",
        "727\n",
        "<tweepy.models.Status object at 0x10522ca50>"
       ]
      },
      {
       "output_type": "stream",
       "stream": "stdout",
       "text": [
        "\n",
        "529293289108045824\n",
        "728\n",
        "<tweepy.models.Status object at 0x10522c410>"
       ]
      },
      {
       "output_type": "stream",
       "stream": "stdout",
       "text": [
        "\n",
        "529293273891106816\n",
        "729\n",
        "<tweepy.models.Status object at 0x10522c610>"
       ]
      },
      {
       "output_type": "stream",
       "stream": "stdout",
       "text": [
        "\n",
        "529293271567433728\n",
        "730\n",
        "<tweepy.models.Status object at 0x10522c6d0>"
       ]
      },
      {
       "output_type": "stream",
       "stream": "stdout",
       "text": [
        "\n",
        "529293259001327616\n",
        "731\n",
        "<tweepy.models.Status object at 0x10522c1d0>"
       ]
      },
      {
       "output_type": "stream",
       "stream": "stdout",
       "text": [
        "\n",
        "529293120266321920\n",
        "732\n",
        "<tweepy.models.Status object at 0x10522c210>"
       ]
      },
      {
       "output_type": "stream",
       "stream": "stdout",
       "text": [
        "\n",
        "529292971163025408\n",
        "733\n",
        "<tweepy.models.Status object at 0x10522cd10>"
       ]
      },
      {
       "output_type": "stream",
       "stream": "stdout",
       "text": [
        "\n",
        "529292968667402240\n",
        "734\n",
        "<tweepy.models.Status object at 0x10522c150>"
       ]
      },
      {
       "output_type": "stream",
       "stream": "stdout",
       "text": [
        "\n",
        "529292888526843905\n",
        "735\n",
        "<tweepy.models.Status object at 0x10522c250>"
       ]
      },
      {
       "output_type": "stream",
       "stream": "stdout",
       "text": [
        "\n",
        "529292886362578945\n",
        "736\n",
        "<tweepy.models.Status object at 0x10522c090>"
       ]
      },
      {
       "output_type": "stream",
       "stream": "stdout",
       "text": [
        "\n",
        "529292860596973568\n",
        "737\n",
        "<tweepy.models.Status object at 0x10522cd10>"
       ]
      },
      {
       "output_type": "stream",
       "stream": "stdout",
       "text": [
        "\n",
        "529292858369785856\n",
        "738\n",
        "<tweepy.models.Status object at 0x10522c390>"
       ]
      },
      {
       "output_type": "stream",
       "stream": "stdout",
       "text": [
        "\n",
        "529292712777101312\n",
        "739\n",
        "<tweepy.models.Status object at 0x10522c210>"
       ]
      },
      {
       "output_type": "stream",
       "stream": "stdout",
       "text": [
        "\n",
        "529292622532456448\n",
        "740\n",
        "<tweepy.models.Status object at 0x10522c510>"
       ]
      },
      {
       "output_type": "stream",
       "stream": "stdout",
       "text": [
        "\n",
        "529292578098020352\n",
        "741\n",
        "<tweepy.models.Status object at 0x10522c390>"
       ]
      },
      {
       "output_type": "stream",
       "stream": "stdout",
       "text": [
        "\n",
        "529292557147467776\n",
        "742\n",
        "<tweepy.models.Status object at 0x10522c690>"
       ]
      },
      {
       "output_type": "stream",
       "stream": "stdout",
       "text": [
        "\n",
        "529292527699243008\n",
        "743\n",
        "<tweepy.models.Status object at 0x10522c6d0>"
       ]
      },
      {
       "output_type": "stream",
       "stream": "stdout",
       "text": [
        "\n",
        "529292470845452290\n",
        "744\n",
        "<tweepy.models.Status object at 0x10522c190>"
       ]
      },
      {
       "output_type": "stream",
       "stream": "stdout",
       "text": [
        "\n",
        "529292368290533376\n",
        "745\n",
        "<tweepy.models.Status object at 0x10522c310>"
       ]
      },
      {
       "output_type": "stream",
       "stream": "stdout",
       "text": [
        "\n",
        "529292347990093824\n",
        "746\n",
        "<tweepy.models.Status object at 0x10522c690>"
       ]
      },
      {
       "output_type": "stream",
       "stream": "stdout",
       "text": [
        "\n",
        "529292267543347201\n",
        "747\n",
        "<tweepy.models.Status object at 0x10522c6d0>"
       ]
      },
      {
       "output_type": "stream",
       "stream": "stdout",
       "text": [
        "\n",
        "529291946997858304\n",
        "748\n",
        "<tweepy.models.Status object at 0x10522c190>"
       ]
      },
      {
       "output_type": "stream",
       "stream": "stdout",
       "text": [
        "\n",
        "529291734988390400\n",
        "749\n",
        "<tweepy.models.Status object at 0x10522c310>"
       ]
      },
      {
       "output_type": "stream",
       "stream": "stdout",
       "text": [
        "\n",
        "529291669146173440\n",
        "750\n",
        "<tweepy.models.Status object at 0x10522c2d0>"
       ]
      },
      {
       "output_type": "stream",
       "stream": "stdout",
       "text": [
        "\n",
        "529291635298160640\n",
        "751\n",
        "<tweepy.models.Status object at 0x10522c210>"
       ]
      },
      {
       "output_type": "stream",
       "stream": "stdout",
       "text": [
        "\n",
        "529291606693015553\n",
        "752\n",
        "<tweepy.models.Status object at 0x10522c190>"
       ]
      },
      {
       "output_type": "stream",
       "stream": "stdout",
       "text": [
        "\n",
        "529291459485519872\n",
        "753\n",
        "<tweepy.models.Status object at 0x10522c690>"
       ]
      },
      {
       "output_type": "stream",
       "stream": "stdout",
       "text": [
        "\n",
        "529291430502879233\n",
        "754\n",
        "<tweepy.models.Status object at 0x10522c2d0>"
       ]
      },
      {
       "output_type": "stream",
       "stream": "stdout",
       "text": [
        "\n",
        "529291211937677312\n",
        "755\n",
        "<tweepy.models.Status object at 0x10522c210>"
       ]
      },
      {
       "output_type": "stream",
       "stream": "stdout",
       "text": [
        "\n",
        "529291141175578624\n",
        "756\n",
        "<tweepy.models.Status object at 0x10522c190>"
       ]
      },
      {
       "output_type": "stream",
       "stream": "stdout",
       "text": [
        "\n",
        "529291135072874497\n",
        "757\n",
        "<tweepy.models.Status object at 0x10522c6d0>"
       ]
      },
      {
       "output_type": "stream",
       "stream": "stdout",
       "text": [
        "\n",
        "529290796772884481\n",
        "758\n",
        "<tweepy.models.Status object at 0x10522c3d0>"
       ]
      },
      {
       "output_type": "stream",
       "stream": "stdout",
       "text": [
        "\n",
        "529289223258779648\n",
        "759\n",
        "<tweepy.models.Status object at 0x10522c210>"
       ]
      },
      {
       "output_type": "stream",
       "stream": "stdout",
       "text": [
        "\n",
        "529289186097266688\n",
        "760\n",
        "<tweepy.models.Status object at 0x105235c90>"
       ]
      },
      {
       "output_type": "stream",
       "stream": "stdout",
       "text": [
        "\n",
        "529289158909775872\n",
        "761\n",
        "<tweepy.models.Status object at 0x105235b50>"
       ]
      },
      {
       "output_type": "stream",
       "stream": "stdout",
       "text": [
        "\n",
        "529288876855427073\n",
        "762\n",
        "<tweepy.models.Status object at 0x1052355d0>"
       ]
      },
      {
       "output_type": "stream",
       "stream": "stdout",
       "text": [
        "\n",
        "529288527499243520\n",
        "763\n",
        "<tweepy.models.Status object at 0x105235d90>"
       ]
      },
      {
       "output_type": "stream",
       "stream": "stdout",
       "text": [
        "\n",
        "529288416807366656\n",
        "764\n",
        "<tweepy.models.Status object at 0x105235c90>"
       ]
      },
      {
       "output_type": "stream",
       "stream": "stdout",
       "text": [
        "\n",
        "529288402647404544\n",
        "765\n",
        "<tweepy.models.Status object at 0x105235b50>"
       ]
      },
      {
       "output_type": "stream",
       "stream": "stdout",
       "text": [
        "\n",
        "529288363728441344\n",
        "766\n",
        "<tweepy.models.Status object at 0x1052355d0>"
       ]
      },
      {
       "output_type": "stream",
       "stream": "stdout",
       "text": [
        "\n",
        "529288162930343936\n",
        "767\n",
        "<tweepy.models.Status object at 0x105235d90>"
       ]
      },
      {
       "output_type": "stream",
       "stream": "stdout",
       "text": [
        "\n",
        "529288151656067073\n",
        "768\n",
        "<tweepy.models.Status object at 0x105235c90>"
       ]
      },
      {
       "output_type": "stream",
       "stream": "stdout",
       "text": [
        "\n",
        "529288074183081984\n",
        "769\n",
        "<tweepy.models.Status object at 0x105235b50>"
       ]
      },
      {
       "output_type": "stream",
       "stream": "stdout",
       "text": [
        "\n",
        "529288013109813248\n",
        "770\n",
        "<tweepy.models.Status object at 0x1052355d0>"
       ]
      },
      {
       "output_type": "stream",
       "stream": "stdout",
       "text": [
        "\n",
        "529287893865742336\n",
        "771\n",
        "<tweepy.models.Status object at 0x105235d90>"
       ]
      },
      {
       "output_type": "stream",
       "stream": "stdout",
       "text": [
        "\n",
        "529287792585891840\n",
        "772\n",
        "<tweepy.models.Status object at 0x105235c90>"
       ]
      },
      {
       "output_type": "stream",
       "stream": "stdout",
       "text": [
        "\n",
        "529287601984135168\n",
        "773\n",
        "<tweepy.models.Status object at 0x105235b50>"
       ]
      },
      {
       "output_type": "stream",
       "stream": "stdout",
       "text": [
        "\n",
        "529287523651305472\n",
        "774\n",
        "<tweepy.models.Status object at 0x1052355d0>"
       ]
      },
      {
       "output_type": "stream",
       "stream": "stdout",
       "text": [
        "\n",
        "529287498284142592\n",
        "775\n",
        "<tweepy.models.Status object at 0x105235d90>"
       ]
      },
      {
       "output_type": "stream",
       "stream": "stdout",
       "text": [
        "\n",
        "529287421050249218\n",
        "776\n",
        "<tweepy.models.Status object at 0x105235c90>"
       ]
      },
      {
       "output_type": "stream",
       "stream": "stdout",
       "text": [
        "\n",
        "529287413781499907\n",
        "777\n",
        "<tweepy.models.Status object at 0x105235b50>"
       ]
      },
      {
       "output_type": "stream",
       "stream": "stdout",
       "text": [
        "\n",
        "529287162769182722\n",
        "778\n",
        "<tweepy.models.Status object at 0x105235490>"
       ]
      },
      {
       "output_type": "stream",
       "stream": "stdout",
       "text": [
        "\n",
        "529287150802833408\n",
        "779\n",
        "<tweepy.models.Status object at 0x105235150>"
       ]
      },
      {
       "output_type": "stream",
       "stream": "stdout",
       "text": [
        "\n",
        "529287141797679106\n",
        "780\n",
        "<tweepy.models.Status object at 0x105235490>"
       ]
      },
      {
       "output_type": "stream",
       "stream": "stdout",
       "text": [
        "\n",
        "529287118691258368\n",
        "781\n",
        "<tweepy.models.Status object at 0x105235150>"
       ]
      },
      {
       "output_type": "stream",
       "stream": "stdout",
       "text": [
        "\n",
        "529287107400187905\n",
        "782\n",
        "<tweepy.models.Status object at 0x105235250>"
       ]
      },
      {
       "output_type": "stream",
       "stream": "stdout",
       "text": [
        "\n",
        "529287067407511554\n",
        "783\n",
        "<tweepy.models.Status object at 0x1052353d0>"
       ]
      },
      {
       "output_type": "stream",
       "stream": "stdout",
       "text": [
        "\n",
        "529287051271995392\n",
        "784\n",
        "<tweepy.models.Status object at 0x105235c10>"
       ]
      },
      {
       "output_type": "stream",
       "stream": "stdout",
       "text": [
        "\n",
        "529287039125323776\n",
        "785\n",
        "<tweepy.models.Status object at 0x105235150>"
       ]
      },
      {
       "output_type": "stream",
       "stream": "stdout",
       "text": [
        "\n",
        "529286893100630017\n",
        "786\n",
        "<tweepy.models.Status object at 0x105235250>"
       ]
      },
      {
       "output_type": "stream",
       "stream": "stdout",
       "text": [
        "\n",
        "529286804005216259\n",
        "787\n",
        "<tweepy.models.Status object at 0x1052353d0>"
       ]
      },
      {
       "output_type": "stream",
       "stream": "stdout",
       "text": [
        "\n",
        "529286772430491651\n",
        "788\n",
        "<tweepy.models.Status object at 0x105235c10>"
       ]
      },
      {
       "output_type": "stream",
       "stream": "stdout",
       "text": [
        "\n",
        "529286529177620482\n",
        "789\n",
        "<tweepy.models.Status object at 0x105235310>"
       ]
      },
      {
       "output_type": "stream",
       "stream": "stdout",
       "text": [
        "\n",
        "529286477617053697\n",
        "790\n",
        "<tweepy.models.Status object at 0x105235490>"
       ]
      },
      {
       "output_type": "stream",
       "stream": "stdout",
       "text": [
        "\n",
        "529286420167659520\n",
        "791\n",
        "<tweepy.models.Status object at 0x1052353d0>"
       ]
      },
      {
       "output_type": "stream",
       "stream": "stdout",
       "text": [
        "\n",
        "529286230748712964\n",
        "792\n",
        "<tweepy.models.Status object at 0x105235150>"
       ]
      },
      {
       "output_type": "stream",
       "stream": "stdout",
       "text": [
        "\n",
        "529286210272100352\n",
        "793\n",
        "<tweepy.models.Status object at 0x105235310>"
       ]
      },
      {
       "output_type": "stream",
       "stream": "stdout",
       "text": [
        "\n",
        "529286200251940864\n",
        "794\n",
        "<tweepy.models.Status object at 0x105235490>"
       ]
      },
      {
       "output_type": "stream",
       "stream": "stdout",
       "text": [
        "\n",
        "529286170644344832\n",
        "795\n",
        "<tweepy.models.Status object at 0x1052353d0>"
       ]
      },
      {
       "output_type": "stream",
       "stream": "stdout",
       "text": [
        "\n",
        "529286150348079104\n",
        "796\n",
        "<tweepy.models.Status object at 0x105235150>"
       ]
      },
      {
       "output_type": "stream",
       "stream": "stdout",
       "text": [
        "\n",
        "529286139019268096\n",
        "797\n",
        "<tweepy.models.Status object at 0x105235310>"
       ]
      },
      {
       "output_type": "stream",
       "stream": "stdout",
       "text": [
        "\n",
        "529285741030170624\n",
        "798\n",
        "<tweepy.models.Status object at 0x105235490>"
       ]
      },
      {
       "output_type": "stream",
       "stream": "stdout",
       "text": [
        "\n",
        "529285713737814016\n",
        "799\n",
        "<tweepy.models.Status object at 0x105235bd0>"
       ]
      },
      {
       "output_type": "stream",
       "stream": "stdout",
       "text": [
        "\n",
        "529285396635860993\n",
        "800\n",
        "<tweepy.models.Status object at 0x1052353d0>"
       ]
      },
      {
       "output_type": "stream",
       "stream": "stdout",
       "text": [
        "\n",
        "529285251366154240\n",
        "801\n",
        "<tweepy.models.Status object at 0x1052354d0>"
       ]
      },
      {
       "output_type": "stream",
       "stream": "stdout",
       "text": [
        "\n",
        "529285246651744257\n",
        "802\n",
        "<tweepy.models.Status object at 0x105235c90>"
       ]
      },
      {
       "output_type": "stream",
       "stream": "stdout",
       "text": [
        "\n",
        "529285125264400384\n",
        "803\n",
        "<tweepy.models.Status object at 0x105235390>"
       ]
      },
      {
       "output_type": "stream",
       "stream": "stdout",
       "text": [
        "\n",
        "529284991927472128\n",
        "804\n",
        "<tweepy.models.Status object at 0x1052353d0>"
       ]
      },
      {
       "output_type": "stream",
       "stream": "stdout",
       "text": [
        "\n",
        "529284912072118273\n",
        "805\n",
        "<tweepy.models.Status object at 0x105235350>"
       ]
      },
      {
       "output_type": "stream",
       "stream": "stdout",
       "text": [
        "\n",
        "529284647570911232\n",
        "806\n",
        "<tweepy.models.Status object at 0x105235310>"
       ]
      },
      {
       "output_type": "stream",
       "stream": "stdout",
       "text": [
        "\n",
        "529284395556159488\n",
        "807\n",
        "<tweepy.models.Status object at 0x105235490>"
       ]
      },
      {
       "output_type": "stream",
       "stream": "stdout",
       "text": [
        "\n",
        "529284296151138304\n",
        "808\n",
        "<tweepy.models.Status object at 0x105235c90>"
       ]
      },
      {
       "output_type": "stream",
       "stream": "stdout",
       "text": [
        "\n",
        "529284078890418176\n",
        "809\n",
        "<tweepy.models.Status object at 0x105235c10>"
       ]
      },
      {
       "output_type": "stream",
       "stream": "stdout",
       "text": [
        "\n",
        "529283904323477504\n",
        "810\n",
        "<tweepy.models.Status object at 0x105235bd0>"
       ]
      },
      {
       "output_type": "stream",
       "stream": "stdout",
       "text": [
        "\n",
        "529283893913223169\n",
        "811\n",
        "<tweepy.models.Status object at 0x105235490>"
       ]
      },
      {
       "output_type": "stream",
       "stream": "stdout",
       "text": [
        "\n",
        "529283879962968064\n",
        "812\n",
        "<tweepy.models.Status object at 0x105235c90>"
       ]
      },
      {
       "output_type": "stream",
       "stream": "stdout",
       "text": [
        "\n",
        "529283868126621696\n",
        "813\n",
        "<tweepy.models.Status object at 0x105235390>"
       ]
      },
      {
       "output_type": "stream",
       "stream": "stdout",
       "text": [
        "\n",
        "529283701927329792\n",
        "814\n",
        "<tweepy.models.Status object at 0x105235510>"
       ]
      },
      {
       "output_type": "stream",
       "stream": "stdout",
       "text": [
        "\n",
        "529283668427407360\n",
        "815\n",
        "<tweepy.models.Status object at 0x105235410>"
       ]
      },
      {
       "output_type": "stream",
       "stream": "stdout",
       "text": [
        "\n",
        "529283621627379713\n",
        "816\n",
        "<tweepy.models.Status object at 0x105235250>"
       ]
      },
      {
       "output_type": "stream",
       "stream": "stdout",
       "text": [
        "\n",
        "529283520209108993\n",
        "817\n",
        "<tweepy.models.Status object at 0x105235e50>"
       ]
      },
      {
       "output_type": "stream",
       "stream": "stdout",
       "text": [
        "\n",
        "529278841823703040\n",
        "818\n",
        "<tweepy.models.Status object at 0x105235490>"
       ]
      },
      {
       "output_type": "stream",
       "stream": "stdout",
       "text": [
        "\n",
        "529278812052549633\n",
        "819\n",
        "<tweepy.models.Status object at 0x105235bd0>"
       ]
      },
      {
       "output_type": "stream",
       "stream": "stdout",
       "text": [
        "\n",
        "529278675750252545\n",
        "820\n",
        "<tweepy.models.Status object at 0x105235490>"
       ]
      },
      {
       "output_type": "stream",
       "stream": "stdout",
       "text": [
        "\n",
        "529278590735888384\n",
        "821\n",
        "<tweepy.models.Status object at 0x105235510>"
       ]
      },
      {
       "output_type": "stream",
       "stream": "stdout",
       "text": [
        "\n",
        "529278436175806464\n",
        "822\n",
        "<tweepy.models.Status object at 0x1052359d0>"
       ]
      },
      {
       "output_type": "stream",
       "stream": "stdout",
       "text": [
        "\n",
        "529278429871767552\n",
        "823\n",
        "<tweepy.models.Status object at 0x1052356d0>"
       ]
      },
      {
       "output_type": "stream",
       "stream": "stdout",
       "text": [
        "\n",
        "529278408984133632\n",
        "824\n",
        "<tweepy.models.Status object at 0x105235490>"
       ]
      },
      {
       "output_type": "stream",
       "stream": "stdout",
       "text": [
        "\n",
        "529278099704545280\n",
        "825\n",
        "<tweepy.models.Status object at 0x105235250>"
       ]
      },
      {
       "output_type": "stream",
       "stream": "stdout",
       "text": [
        "\n",
        "529278075230748672\n",
        "826\n",
        "<tweepy.models.Status object at 0x105235210>"
       ]
      },
      {
       "output_type": "stream",
       "stream": "stdout",
       "text": [
        "\n",
        "529278014430146560\n",
        "827\n",
        "<tweepy.models.Status object at 0x1052356d0>"
       ]
      },
      {
       "output_type": "stream",
       "stream": "stdout",
       "text": [
        "\n",
        "529277817729843201\n",
        "828\n",
        "<tweepy.models.Status object at 0x105235510>"
       ]
      },
      {
       "output_type": "stream",
       "stream": "stdout",
       "text": [
        "\n",
        "529277805016924160\n",
        "829\n",
        "<tweepy.models.Status object at 0x105235250>"
       ]
      },
      {
       "output_type": "stream",
       "stream": "stdout",
       "text": [
        "\n",
        "529277134289010689\n",
        "830\n",
        "<tweepy.models.Status object at 0x105235090>"
       ]
      },
      {
       "output_type": "stream",
       "stream": "stdout",
       "text": [
        "\n",
        "529277101858652160\n",
        "831\n",
        "<tweepy.models.Status object at 0x1052354d0>"
       ]
      },
      {
       "output_type": "stream",
       "stream": "stdout",
       "text": [
        "\n",
        "529277089418346496\n",
        "832\n",
        "<tweepy.models.Status object at 0x105235510>"
       ]
      },
      {
       "output_type": "stream",
       "stream": "stdout",
       "text": [
        "\n",
        "529277073744232448\n",
        "833\n",
        "<tweepy.models.Status object at 0x105235210>"
       ]
      },
      {
       "output_type": "stream",
       "stream": "stdout",
       "text": [
        "\n",
        "529277063698857984\n",
        "834\n",
        "<tweepy.models.Status object at 0x105235090>"
       ]
      },
      {
       "output_type": "stream",
       "stream": "stdout",
       "text": [
        "\n",
        "529276851441893377\n",
        "835\n",
        "<tweepy.models.Status object at 0x1052354d0>"
       ]
      },
      {
       "output_type": "stream",
       "stream": "stdout",
       "text": [
        "\n",
        "529276672265453568\n",
        "836\n",
        "<tweepy.models.Status object at 0x105235510>"
       ]
      },
      {
       "output_type": "stream",
       "stream": "stdout",
       "text": [
        "\n",
        "529276624249040896\n",
        "837\n",
        "<tweepy.models.Status object at 0x105235210>"
       ]
      },
      {
       "output_type": "stream",
       "stream": "stdout",
       "text": [
        "\n",
        "529276483920216064\n",
        "838\n",
        "<tweepy.models.Status object at 0x105235090>"
       ]
      },
      {
       "output_type": "stream",
       "stream": "stdout",
       "text": [
        "\n",
        "529276367679258624\n",
        "839\n",
        "<tweepy.models.Status object at 0x1052354d0>"
       ]
      },
      {
       "output_type": "stream",
       "stream": "stdout",
       "text": [
        "\n",
        "529276366941093888\n",
        "840\n",
        "<tweepy.models.Status object at 0x105235090>"
       ]
      },
      {
       "output_type": "stream",
       "stream": "stdout",
       "text": [
        "\n",
        "529276330542915586\n",
        "841\n",
        "<tweepy.models.Status object at 0x105235490>"
       ]
      },
      {
       "output_type": "stream",
       "stream": "stdout",
       "text": [
        "\n",
        "529275990267396096\n",
        "842\n",
        "<tweepy.models.Status object at 0x105235c10>"
       ]
      },
      {
       "output_type": "stream",
       "stream": "stdout",
       "text": [
        "\n",
        "529275818204483584\n",
        "843\n",
        "<tweepy.models.Status object at 0x105235f90>"
       ]
      },
      {
       "output_type": "stream",
       "stream": "stdout",
       "text": [
        "\n",
        "529275755122159616\n",
        "844\n",
        "<tweepy.models.Status object at 0x105235090>"
       ]
      },
      {
       "output_type": "stream",
       "stream": "stdout",
       "text": [
        "\n",
        "529275706367557632\n",
        "845\n",
        "<tweepy.models.Status object at 0x105235490>"
       ]
      },
      {
       "output_type": "stream",
       "stream": "stdout",
       "text": [
        "\n",
        "529275699358863363\n",
        "846\n",
        "<tweepy.models.Status object at 0x105235c10>"
       ]
      },
      {
       "output_type": "stream",
       "stream": "stdout",
       "text": [
        "\n",
        "529275663749238785\n",
        "847\n",
        "<tweepy.models.Status object at 0x105235f90>"
       ]
      },
      {
       "output_type": "stream",
       "stream": "stdout",
       "text": [
        "\n",
        "529275577057153024\n",
        "848\n",
        "<tweepy.models.Status object at 0x105235090>"
       ]
      },
      {
       "output_type": "stream",
       "stream": "stdout",
       "text": [
        "\n",
        "529275444844331010\n",
        "849\n",
        "<tweepy.models.Status object at 0x105235490>"
       ]
      },
      {
       "output_type": "stream",
       "stream": "stdout",
       "text": [
        "\n",
        "529275222298722304\n",
        "850\n",
        "<tweepy.models.Status object at 0x105235c10>"
       ]
      },
      {
       "output_type": "stream",
       "stream": "stdout",
       "text": [
        "\n",
        "529275197841764352\n",
        "851\n",
        "<tweepy.models.Status object at 0x105235f90>"
       ]
      },
      {
       "output_type": "stream",
       "stream": "stdout",
       "text": [
        "\n",
        "529275165755338752\n",
        "852\n",
        "<tweepy.models.Status object at 0x105235090>"
       ]
      },
      {
       "output_type": "stream",
       "stream": "stdout",
       "text": [
        "\n",
        "529274912834617344\n",
        "853\n",
        "<tweepy.models.Status object at 0x105235490>"
       ]
      },
      {
       "output_type": "stream",
       "stream": "stdout",
       "text": [
        "\n",
        "529274812406190080\n",
        "854\n",
        "<tweepy.models.Status object at 0x105235c10>"
       ]
      },
      {
       "output_type": "stream",
       "stream": "stdout",
       "text": [
        "\n",
        "529274799886204928\n",
        "855\n",
        "<tweepy.models.Status object at 0x105235f90>"
       ]
      },
      {
       "output_type": "stream",
       "stream": "stdout",
       "text": [
        "\n",
        "529274438882447361\n",
        "856\n",
        "<tweepy.models.Status object at 0x105235090>"
       ]
      },
      {
       "output_type": "stream",
       "stream": "stdout",
       "text": [
        "\n",
        "529274391411306496\n",
        "857\n",
        "<tweepy.models.Status object at 0x105235490>"
       ]
      },
      {
       "output_type": "stream",
       "stream": "stdout",
       "text": [
        "\n",
        "529274329633423360\n",
        "858\n",
        "<tweepy.models.Status object at 0x105235c10>"
       ]
      },
      {
       "output_type": "stream",
       "stream": "stdout",
       "text": [
        "\n",
        "529274320519180288\n",
        "859\n",
        "<tweepy.models.Status object at 0x105235f90>"
       ]
      },
      {
       "output_type": "stream",
       "stream": "stdout",
       "text": [
        "\n",
        "529273830993575938\n",
        "860\n",
        "<tweepy.models.Status object at 0x105235c10>"
       ]
      },
      {
       "output_type": "stream",
       "stream": "stdout",
       "text": [
        "\n",
        "529273799699890176\n",
        "861\n",
        "<tweepy.models.Status object at 0x105235250>"
       ]
      },
      {
       "output_type": "stream",
       "stream": "stdout",
       "text": [
        "\n",
        "529273740245614592\n",
        "862\n",
        "<tweepy.models.Status object at 0x105235490>"
       ]
      },
      {
       "output_type": "stream",
       "stream": "stdout",
       "text": [
        "\n",
        "529273721132179457\n",
        "863\n",
        "<tweepy.models.Status object at 0x1052359d0>"
       ]
      },
      {
       "output_type": "stream",
       "stream": "stdout",
       "text": [
        "\n",
        "529273708666699776\n",
        "864\n",
        "<tweepy.models.Status object at 0x105235c10>"
       ]
      },
      {
       "output_type": "stream",
       "stream": "stdout",
       "text": [
        "\n",
        "529273697283358720\n",
        "865\n",
        "<tweepy.models.Status object at 0x105235250>"
       ]
      },
      {
       "output_type": "stream",
       "stream": "stdout",
       "text": [
        "\n",
        "529273635438362626\n",
        "866\n",
        "<tweepy.models.Status object at 0x105235490>"
       ]
      },
      {
       "output_type": "stream",
       "stream": "stdout",
       "text": [
        "\n",
        "529273466961547264\n",
        "867\n",
        "<tweepy.models.Status object at 0x1052359d0>"
       ]
      },
      {
       "output_type": "stream",
       "stream": "stdout",
       "text": [
        "\n",
        "529273364050083841\n",
        "868\n",
        "<tweepy.models.Status object at 0x105235c10>"
       ]
      },
      {
       "output_type": "stream",
       "stream": "stdout",
       "text": [
        "\n",
        "529273354847784960\n",
        "869\n",
        "<tweepy.models.Status object at 0x105235250>"
       ]
      },
      {
       "output_type": "stream",
       "stream": "stdout",
       "text": [
        "\n",
        "529273217828278272\n",
        "870\n",
        "<tweepy.models.Status object at 0x105235490>"
       ]
      },
      {
       "output_type": "stream",
       "stream": "stdout",
       "text": [
        "\n",
        "529273203404062720\n",
        "871\n",
        "<tweepy.models.Status object at 0x1052359d0>"
       ]
      },
      {
       "output_type": "stream",
       "stream": "stdout",
       "text": [
        "\n",
        "529273183548211200\n",
        "872\n",
        "<tweepy.models.Status object at 0x105235c10>"
       ]
      },
      {
       "output_type": "stream",
       "stream": "stdout",
       "text": [
        "\n",
        "529273165701451777\n",
        "873\n",
        "<tweepy.models.Status object at 0x105235250>"
       ]
      },
      {
       "output_type": "stream",
       "stream": "stdout",
       "text": [
        "\n",
        "529273156352376832\n",
        "874\n",
        "<tweepy.models.Status object at 0x105235490>"
       ]
      },
      {
       "output_type": "stream",
       "stream": "stdout",
       "text": [
        "\n",
        "529273103114063872\n",
        "875\n",
        "<tweepy.models.Status object at 0x105235090>"
       ]
      },
      {
       "output_type": "stream",
       "stream": "stdout",
       "text": [
        "\n",
        "529272998914973699\n",
        "876\n",
        "<tweepy.models.Status object at 0x1052356d0>"
       ]
      },
      {
       "output_type": "stream",
       "stream": "stdout",
       "text": [
        "\n",
        "529272868451151872\n",
        "877\n",
        "<tweepy.models.Status object at 0x105235250>"
       ]
      },
      {
       "output_type": "stream",
       "stream": "stdout",
       "text": [
        "\n",
        "529272767099981824\n",
        "878\n",
        "<tweepy.models.Status object at 0x1052359d0>"
       ]
      },
      {
       "output_type": "stream",
       "stream": "stdout",
       "text": [
        "\n",
        "529272734711549952\n",
        "879\n",
        "<tweepy.models.Status object at 0x105235090>"
       ]
      },
      {
       "output_type": "stream",
       "stream": "stdout",
       "text": [
        "\n",
        "529272719540764672\n",
        "880\n",
        "<tweepy.models.Status object at 0x105235310>"
       ]
      },
      {
       "output_type": "stream",
       "stream": "stdout",
       "text": [
        "\n",
        "529272711772925952\n",
        "881\n",
        "<tweepy.models.Status object at 0x1052356d0>"
       ]
      },
      {
       "output_type": "stream",
       "stream": "stdout",
       "text": [
        "\n",
        "529272703015211008\n",
        "882\n",
        "<tweepy.models.Status object at 0x105235250>"
       ]
      },
      {
       "output_type": "stream",
       "stream": "stdout",
       "text": [
        "\n",
        "529272691468283904\n",
        "883\n",
        "<tweepy.models.Status object at 0x1052359d0>"
       ]
      },
      {
       "output_type": "stream",
       "stream": "stdout",
       "text": [
        "\n",
        "529272529610108928\n",
        "884\n",
        "<tweepy.models.Status object at 0x105235310>"
       ]
      },
      {
       "output_type": "stream",
       "stream": "stdout",
       "text": [
        "\n",
        "529272385489612800\n",
        "885\n",
        "<tweepy.models.Status object at 0x1052356d0>"
       ]
      },
      {
       "output_type": "stream",
       "stream": "stdout",
       "text": [
        "\n",
        "529272347845722112\n",
        "886\n",
        "<tweepy.models.Status object at 0x105235250>"
       ]
      },
      {
       "output_type": "stream",
       "stream": "stdout",
       "text": [
        "\n",
        "529272251942989826\n",
        "887\n",
        "<tweepy.models.Status object at 0x1052359d0>"
       ]
      },
      {
       "output_type": "stream",
       "stream": "stdout",
       "text": [
        "\n",
        "529272208582279170\n",
        "888\n",
        "<tweepy.models.Status object at 0x105235310>"
       ]
      },
      {
       "output_type": "stream",
       "stream": "stdout",
       "text": [
        "\n",
        "529272200613089280\n",
        "889\n",
        "<tweepy.models.Status object at 0x1052356d0>"
       ]
      },
      {
       "output_type": "stream",
       "stream": "stdout",
       "text": [
        "\n",
        "529272181122142208\n",
        "890\n",
        "<tweepy.models.Status object at 0x105235250>"
       ]
      },
      {
       "output_type": "stream",
       "stream": "stdout",
       "text": [
        "\n",
        "529272160469405696\n",
        "891\n",
        "<tweepy.models.Status object at 0x1052359d0>"
       ]
      },
      {
       "output_type": "stream",
       "stream": "stdout",
       "text": [
        "\n",
        "529272072569384960\n",
        "892\n",
        "<tweepy.models.Status object at 0x105235310>"
       ]
      },
      {
       "output_type": "stream",
       "stream": "stdout",
       "text": [
        "\n",
        "529272058799472641\n",
        "893\n",
        "<tweepy.models.Status object at 0x105235210>"
       ]
      },
      {
       "output_type": "stream",
       "stream": "stdout",
       "text": [
        "\n",
        "529270997275643904\n",
        "894\n",
        "<tweepy.models.Status object at 0x105235150>"
       ]
      },
      {
       "output_type": "stream",
       "stream": "stdout",
       "text": [
        "\n",
        "529270456764092416\n",
        "895\n",
        "<tweepy.models.Status object at 0x1052359d0>"
       ]
      },
      {
       "output_type": "stream",
       "stream": "stdout",
       "text": [
        "\n",
        "529270353991073793\n",
        "896\n",
        "<tweepy.models.Status object at 0x1052356d0>"
       ]
      },
      {
       "output_type": "stream",
       "stream": "stdout",
       "text": [
        "\n",
        "529270213347672065\n",
        "897\n",
        "<tweepy.models.Status object at 0x105235210>"
       ]
      },
      {
       "output_type": "stream",
       "stream": "stdout",
       "text": [
        "\n",
        "529270075266990080\n",
        "898\n",
        "<tweepy.models.Status object at 0x105235150>"
       ]
      },
      {
       "output_type": "stream",
       "stream": "stdout",
       "text": [
        "\n",
        "529269984011485186\n",
        "899\n",
        "<tweepy.models.Status object at 0x1052359d0>"
       ]
      },
      {
       "output_type": "stream",
       "stream": "stdout",
       "text": [
        "\n",
        "529269927619067905\n",
        "900\n",
        "<tweepy.models.Status object at 0x105235150>"
       ]
      },
      {
       "output_type": "stream",
       "stream": "stdout",
       "text": [
        "\n",
        "529269820945367040\n",
        "901\n",
        "<tweepy.models.Status object at 0x1052354d0>"
       ]
      },
      {
       "output_type": "stream",
       "stream": "stdout",
       "text": [
        "\n",
        "529269810820284416\n",
        "902\n",
        "<tweepy.models.Status object at 0x105235c10>"
       ]
      },
      {
       "output_type": "stream",
       "stream": "stdout",
       "text": [
        "\n",
        "529269785499283456\n",
        "903\n",
        "<tweepy.models.Status object at 0x105235650>"
       ]
      },
      {
       "output_type": "stream",
       "stream": "stdout",
       "text": [
        "\n",
        "529269682562662400\n",
        "904\n",
        "<tweepy.models.Status object at 0x105235150>"
       ]
      },
      {
       "output_type": "stream",
       "stream": "stdout",
       "text": [
        "\n",
        "529269655341649920\n",
        "905\n",
        "<tweepy.models.Status object at 0x1052354d0>"
       ]
      },
      {
       "output_type": "stream",
       "stream": "stdout",
       "text": [
        "\n",
        "529269543794139136\n",
        "906\n",
        "<tweepy.models.Status object at 0x105235c10>"
       ]
      },
      {
       "output_type": "stream",
       "stream": "stdout",
       "text": [
        "\n",
        "529267515424522240\n",
        "907\n",
        "<tweepy.models.Status object at 0x105235650>"
       ]
      },
      {
       "output_type": "stream",
       "stream": "stdout",
       "text": [
        "\n",
        "529267501449084928\n",
        "908\n",
        "<tweepy.models.Status object at 0x105235f90>"
       ]
      },
      {
       "output_type": "stream",
       "stream": "stdout",
       "text": [
        "\n",
        "529267487985389568\n",
        "909\n",
        "<tweepy.models.Status object at 0x105235390>"
       ]
      },
      {
       "output_type": "stream",
       "stream": "stdout",
       "text": [
        "\n",
        "529266024475275264\n",
        "910\n",
        "<tweepy.models.Status object at 0x105235c10>"
       ]
      },
      {
       "output_type": "stream",
       "stream": "stdout",
       "text": [
        "\n",
        "529253252593102849\n",
        "911\n",
        "<tweepy.models.Status object at 0x105235150>"
       ]
      },
      {
       "output_type": "stream",
       "stream": "stdout",
       "text": [
        "\n",
        "529248639370428416\n",
        "912\n",
        "<tweepy.models.Status object at 0x105235f90>"
       ]
      },
      {
       "output_type": "stream",
       "stream": "stdout",
       "text": [
        "\n",
        "529243632847831040\n",
        "913\n",
        "<tweepy.models.Status object at 0x105235390>"
       ]
      },
      {
       "output_type": "stream",
       "stream": "stdout",
       "text": [
        "\n",
        "529207958304194560\n",
        "914\n",
        "<tweepy.models.Status object at 0x105235c10>"
       ]
      },
      {
       "output_type": "stream",
       "stream": "stdout",
       "text": [
        "\n",
        "529205313640353792\n",
        "915\n",
        "<tweepy.models.Status object at 0x105235150>"
       ]
      },
      {
       "output_type": "stream",
       "stream": "stdout",
       "text": [
        "\n",
        "529205309332815872\n",
        "916\n",
        "<tweepy.models.Status object at 0x105235f90>"
       ]
      },
      {
       "output_type": "stream",
       "stream": "stdout",
       "text": [
        "\n",
        "529204610599485440\n",
        "917\n",
        "<tweepy.models.Status object at 0x105235390>"
       ]
      },
      {
       "output_type": "stream",
       "stream": "stdout",
       "text": [
        "\n",
        "529204607416033280\n",
        "918\n",
        "<tweepy.models.Status object at 0x105235510>"
       ]
      },
      {
       "output_type": "stream",
       "stream": "stdout",
       "text": [
        "\n",
        "529203907508330497\n",
        "919\n",
        "<tweepy.models.Status object at 0x1052359d0>"
       ]
      },
      {
       "output_type": "stream",
       "stream": "stdout",
       "text": [
        "\n",
        "529188318416998401\n",
        "920\n",
        "<tweepy.models.Status object at 0x1051d4950>"
       ]
      },
      {
       "output_type": "stream",
       "stream": "stdout",
       "text": [
        "\n",
        "529166324652855296\n",
        "921\n",
        "<tweepy.models.Status object at 0x1051d42d0>"
       ]
      },
      {
       "output_type": "stream",
       "stream": "stdout",
       "text": [
        "\n",
        "529157868457844736\n",
        "922\n",
        "<tweepy.models.Status object at 0x1051d4410>"
       ]
      },
      {
       "output_type": "stream",
       "stream": "stdout",
       "text": [
        "\n",
        "529135723166068737\n",
        "923\n",
        "<tweepy.models.Status object at 0x1051d4610>"
       ]
      },
      {
       "output_type": "stream",
       "stream": "stdout",
       "text": [
        "\n",
        "529073728295288833\n",
        "924\n",
        "<tweepy.models.Status object at 0x1051d4950>"
       ]
      },
      {
       "output_type": "stream",
       "stream": "stdout",
       "text": [
        "\n",
        "529071502432665600\n",
        "925\n",
        "<tweepy.models.Status object at 0x1051d4d10>"
       ]
      },
      {
       "output_type": "stream",
       "stream": "stdout",
       "text": [
        "\n",
        "529057725469454336\n",
        "926\n",
        "<tweepy.models.Status object at 0x1051d4410>"
       ]
      },
      {
       "output_type": "stream",
       "stream": "stdout",
       "text": [
        "\n",
        "529055995683946496\n",
        "927\n",
        "<tweepy.models.Status object at 0x1051d4610>"
       ]
      },
      {
       "output_type": "stream",
       "stream": "stdout",
       "text": [
        "\n",
        "529055722244689921\n",
        "928\n",
        "<tweepy.models.Status object at 0x1051d4950>"
       ]
      },
      {
       "output_type": "stream",
       "stream": "stdout",
       "text": [
        "\n",
        "529045492320448512\n",
        "929\n",
        "<tweepy.models.Status object at 0x1051d4d10>"
       ]
      },
      {
       "output_type": "stream",
       "stream": "stdout",
       "text": [
        "\n",
        "529033234479599616\n",
        "930\n",
        "<tweepy.models.Status object at 0x1051d4410>"
       ]
      },
      {
       "output_type": "stream",
       "stream": "stdout",
       "text": [
        "\n",
        "529030452292907009\n",
        "931\n",
        "<tweepy.models.Status object at 0x1051d4610>"
       ]
      },
      {
       "output_type": "stream",
       "stream": "stdout",
       "text": [
        "\n",
        "529026238422470657\n",
        "932\n",
        "<tweepy.models.Status object at 0x1051d4950>"
       ]
      },
      {
       "output_type": "stream",
       "stream": "stdout",
       "text": [
        "\n",
        "529017981972807680\n",
        "933\n",
        "<tweepy.models.Status object at 0x1051d4d10>"
       ]
      },
      {
       "output_type": "stream",
       "stream": "stdout",
       "text": [
        "\n",
        "529015727949631488\n",
        "934\n",
        "<tweepy.models.Status object at 0x1051d4490>"
       ]
      },
      {
       "output_type": "stream",
       "stream": "stdout",
       "text": [
        "\n",
        "529014447059525633\n",
        "935\n",
        "<tweepy.models.Status object at 0x1051d4d10>"
       ]
      },
      {
       "output_type": "stream",
       "stream": "stdout",
       "text": [
        "\n",
        "529013618680295426\n",
        "936\n",
        "<tweepy.models.Status object at 0x1051d4950>"
       ]
      },
      {
       "output_type": "stream",
       "stream": "stdout",
       "text": [
        "\n",
        "529007965274402818\n",
        "937\n",
        "<tweepy.models.Status object at 0x1051d4e50>"
       ]
      },
      {
       "output_type": "stream",
       "stream": "stdout",
       "text": [
        "\n",
        "529001326743932929\n",
        "938\n",
        "<tweepy.models.Status object at 0x1051d44d0>"
       ]
      },
      {
       "output_type": "stream",
       "stream": "stdout",
       "text": [
        "\n",
        "529000168881152001\n",
        "939\n",
        "<tweepy.models.Status object at 0x1051d4d10>"
       ]
      },
      {
       "output_type": "stream",
       "stream": "stdout",
       "text": [
        "\n",
        "528990436267151360\n",
        "940\n",
        "<tweepy.models.Status object at 0x1051d44d0>"
       ]
      },
      {
       "output_type": "stream",
       "stream": "stdout",
       "text": [
        "\n",
        "528989940336844801\n",
        "941\n",
        "<tweepy.models.Status object at 0x1051d4610>"
       ]
      },
      {
       "output_type": "stream",
       "stream": "stdout",
       "text": [
        "\n",
        "528986690518802433\n",
        "942\n",
        "<tweepy.models.Status object at 0x1051d4e10>"
       ]
      },
      {
       "output_type": "stream",
       "stream": "stdout",
       "text": [
        "\n",
        "528841895976644608\n",
        "943\n",
        "<tweepy.models.Status object at 0x1051d4c50>"
       ]
      },
      {
       "output_type": "stream",
       "stream": "stdout",
       "text": [
        "\n",
        "528823529253654528\n",
        "944\n",
        "<tweepy.models.Status object at 0x1051d44d0>"
       ]
      },
      {
       "output_type": "stream",
       "stream": "stdout",
       "text": [
        "\n",
        "528820567269736448\n",
        "945\n",
        "<tweepy.models.Status object at 0x1051d4610>"
       ]
      },
      {
       "output_type": "stream",
       "stream": "stdout",
       "text": [
        "\n",
        "528811189116342272\n",
        "946\n",
        "<tweepy.models.Status object at 0x1051d4e10>"
       ]
      },
      {
       "output_type": "stream",
       "stream": "stdout",
       "text": [
        "\n",
        "528803875160350720\n",
        "947\n",
        "<tweepy.models.Status object at 0x1051d4c50>"
       ]
      },
      {
       "output_type": "stream",
       "stream": "stdout",
       "text": [
        "\n",
        "528643184768069632\n",
        "948\n",
        "<tweepy.models.Status object at 0x1051d44d0>"
       ]
      },
      {
       "output_type": "stream",
       "stream": "stdout",
       "text": [
        "\n",
        "528635611906080768\n",
        "949\n",
        "<tweepy.models.Status object at 0x1051d4610>"
       ]
      },
      {
       "output_type": "stream",
       "stream": "stdout",
       "text": [
        "\n",
        "528626622770204673\n",
        "950\n",
        "<tweepy.models.Status object at 0x1051d4e10>"
       ]
      },
      {
       "output_type": "stream",
       "stream": "stdout",
       "text": [
        "\n",
        "528626339163930624\n",
        "951\n",
        "<tweepy.models.Status object at 0x1051d4c50>"
       ]
      },
      {
       "output_type": "stream",
       "stream": "stdout",
       "text": [
        "\n",
        "528623845528580096\n",
        "952\n",
        "<tweepy.models.Status object at 0x1051d44d0>"
       ]
      },
      {
       "output_type": "stream",
       "stream": "stdout",
       "text": [
        "\n",
        "528619752768692224\n",
        "953\n",
        "<tweepy.models.Status object at 0x1051d4610>"
       ]
      },
      {
       "output_type": "stream",
       "stream": "stdout",
       "text": [
        "\n",
        "528603072055238656\n",
        "954\n",
        "<tweepy.models.Status object at 0x1051d4e10>"
       ]
      },
      {
       "output_type": "stream",
       "stream": "stdout",
       "text": [
        "\n",
        "528603064664879105\n",
        "955\n",
        "<tweepy.models.Status object at 0x1051d4c50>"
       ]
      },
      {
       "output_type": "stream",
       "stream": "stdout",
       "text": [
        "\n",
        "528603025892728833\n",
        "956\n",
        "<tweepy.models.Status object at 0x1051d44d0>"
       ]
      },
      {
       "output_type": "stream",
       "stream": "stdout",
       "text": [
        "\n",
        "528603005126709249\n",
        "957\n",
        "<tweepy.models.Status object at 0x1051d4950>"
       ]
      },
      {
       "output_type": "stream",
       "stream": "stdout",
       "text": [
        "\n",
        "528602925002919936\n",
        "958\n",
        "<tweepy.models.Status object at 0x1051d49d0>"
       ]
      },
      {
       "output_type": "stream",
       "stream": "stdout",
       "text": [
        "\n",
        "528602922301796352\n",
        "959\n",
        "<tweepy.models.Status object at 0x1051d4c50>"
       ]
      },
      {
       "output_type": "stream",
       "stream": "stdout",
       "text": [
        "\n",
        "528602881038245888\n",
        "960\n",
        "<tweepy.models.Status object at 0x1051d49d0>"
       ]
      },
      {
       "output_type": "stream",
       "stream": "stdout",
       "text": [
        "\n",
        "528602830807261185\n",
        "961\n",
        "<tweepy.models.Status object at 0x1051d4590>"
       ]
      },
      {
       "output_type": "stream",
       "stream": "stdout",
       "text": [
        "\n",
        "528602803342950401\n",
        "962\n",
        "<tweepy.models.Status object at 0x1051d4950>"
       ]
      },
      {
       "output_type": "stream",
       "stream": "stdout",
       "text": [
        "\n",
        "528602790147665922\n",
        "963\n",
        "<tweepy.models.Status object at 0x1051d4210>"
       ]
      },
      {
       "output_type": "stream",
       "stream": "stdout",
       "text": [
        "\n",
        "528602764667277312\n",
        "964\n",
        "<tweepy.models.Status object at 0x1051d49d0>"
       ]
      },
      {
       "output_type": "stream",
       "stream": "stdout",
       "text": [
        "\n",
        "528602737991495680\n",
        "965\n",
        "<tweepy.models.Status object at 0x1051d4590>"
       ]
      },
      {
       "output_type": "stream",
       "stream": "stdout",
       "text": [
        "\n",
        "528602731142197248\n",
        "966\n",
        "<tweepy.models.Status object at 0x1051d4950>"
       ]
      },
      {
       "output_type": "stream",
       "stream": "stdout",
       "text": [
        "\n",
        "528602690788818945\n",
        "967\n",
        "<tweepy.models.Status object at 0x1051d4210>"
       ]
      },
      {
       "output_type": "stream",
       "stream": "stdout",
       "text": [
        "\n",
        "528602657087582209\n",
        "968\n",
        "<tweepy.models.Status object at 0x1051d49d0>"
       ]
      },
      {
       "output_type": "stream",
       "stream": "stdout",
       "text": [
        "\n",
        "528602637173022720\n",
        "969\n",
        "<tweepy.models.Status object at 0x1051d4590>"
       ]
      },
      {
       "output_type": "stream",
       "stream": "stdout",
       "text": [
        "\n",
        "528602628000067585\n",
        "970\n",
        "<tweepy.models.Status object at 0x1051d4950>"
       ]
      },
      {
       "output_type": "stream",
       "stream": "stdout",
       "text": [
        "\n",
        "528602600011497472\n",
        "971\n",
        "<tweepy.models.Status object at 0x1051d4210>"
       ]
      },
      {
       "output_type": "stream",
       "stream": "stdout",
       "text": [
        "\n",
        "528602567505637376\n",
        "972\n",
        "<tweepy.models.Status object at 0x1051d49d0>"
       ]
      },
      {
       "output_type": "stream",
       "stream": "stdout",
       "text": [
        "\n",
        "528602446705471488\n",
        "973\n",
        "<tweepy.models.Status object at 0x1051d4590>"
       ]
      },
      {
       "output_type": "stream",
       "stream": "stdout",
       "text": [
        "\n",
        "528602397883781123\n",
        "974\n",
        "<tweepy.models.Status object at 0x1051d4950>"
       ]
      },
      {
       "output_type": "stream",
       "stream": "stdout",
       "text": [
        "\n",
        "528602345073299458\n",
        "975\n",
        "<tweepy.models.Status object at 0x1051d4210>"
       ]
      },
      {
       "output_type": "stream",
       "stream": "stdout",
       "text": [
        "\n",
        "528602288311783424\n",
        "976\n",
        "<tweepy.models.Status object at 0x1051d49d0>"
       ]
      },
      {
       "output_type": "stream",
       "stream": "stdout",
       "text": [
        "\n",
        "528602250827280385\n",
        "977\n",
        "<tweepy.models.Status object at 0x1051d4590>"
       ]
      },
      {
       "output_type": "stream",
       "stream": "stdout",
       "text": [
        "\n",
        "528602190899077120\n",
        "978\n",
        "<tweepy.models.Status object at 0x1051d4950>"
       ]
      },
      {
       "output_type": "stream",
       "stream": "stdout",
       "text": [
        "\n",
        "528602123865706497\n",
        "979\n",
        "<tweepy.models.Status object at 0x1051d4210>"
       ]
      },
      {
       "output_type": "stream",
       "stream": "stdout",
       "text": [
        "\n",
        "528602061836156928\n",
        "980\n",
        "<tweepy.models.Status object at 0x1051d4950>"
       ]
      },
      {
       "output_type": "stream",
       "stream": "stdout",
       "text": [
        "\n",
        "528602013899444226\n",
        "981\n",
        "<tweepy.models.Status object at 0x1051d4350>"
       ]
      },
      {
       "output_type": "stream",
       "stream": "stdout",
       "text": [
        "\n",
        "528601979023802370\n",
        "982\n",
        "<tweepy.models.Status object at 0x1051d44d0>"
       ]
      },
      {
       "output_type": "stream",
       "stream": "stdout",
       "text": [
        "\n",
        "528601973747384321\n",
        "983\n",
        "<tweepy.models.Status object at 0x1051d4e10>"
       ]
      },
      {
       "output_type": "stream",
       "stream": "stdout",
       "text": [
        "\n",
        "528601960627568640\n",
        "984\n",
        "<tweepy.models.Status object at 0x1051d4950>"
       ]
      },
      {
       "output_type": "stream",
       "stream": "stdout",
       "text": [
        "\n",
        "528601952209629184\n",
        "985\n",
        "<tweepy.models.Status object at 0x1051d4590>"
       ]
      },
      {
       "output_type": "stream",
       "stream": "stdout",
       "text": [
        "\n",
        "528601934841008128\n",
        "986\n",
        "<tweepy.models.Status object at 0x1051d44d0>"
       ]
      },
      {
       "output_type": "stream",
       "stream": "stdout",
       "text": [
        "\n",
        "528601916130222080\n",
        "987\n",
        "<tweepy.models.Status object at 0x1051d4e10>"
       ]
      },
      {
       "output_type": "stream",
       "stream": "stdout",
       "text": [
        "\n",
        "528601879883051008\n",
        "988\n",
        "<tweepy.models.Status object at 0x1051d4950>"
       ]
      },
      {
       "output_type": "stream",
       "stream": "stdout",
       "text": [
        "\n",
        "528601869867048961\n",
        "989\n",
        "<tweepy.models.Status object at 0x1051d4590>"
       ]
      },
      {
       "output_type": "stream",
       "stream": "stdout",
       "text": [
        "\n",
        "528601843614875649\n",
        "990\n",
        "<tweepy.models.Status object at 0x1051d44d0>"
       ]
      },
      {
       "output_type": "stream",
       "stream": "stdout",
       "text": [
        "\n",
        "528601834727165952\n",
        "991\n",
        "<tweepy.models.Status object at 0x1051d4e10>"
       ]
      },
      {
       "output_type": "stream",
       "stream": "stdout",
       "text": [
        "\n",
        "528601828670599168\n",
        "992\n",
        "<tweepy.models.Status object at 0x1051d4950>"
       ]
      },
      {
       "output_type": "stream",
       "stream": "stdout",
       "text": [
        "\n",
        "528601814816808961\n",
        "993\n",
        "<tweepy.models.Status object at 0x1051d4590>"
       ]
      },
      {
       "output_type": "stream",
       "stream": "stdout",
       "text": [
        "\n",
        "528601785829953537\n",
        "994\n",
        "<tweepy.models.Status object at 0x1051d44d0>"
       ]
      },
      {
       "output_type": "stream",
       "stream": "stdout",
       "text": [
        "\n",
        "528601774975090688\n",
        "995\n",
        "<tweepy.models.Status object at 0x1051d4e10>"
       ]
      },
      {
       "output_type": "stream",
       "stream": "stdout",
       "text": [
        "\n",
        "528601736945336320\n",
        "996\n",
        "<tweepy.models.Status object at 0x1051d4950>"
       ]
      },
      {
       "output_type": "stream",
       "stream": "stdout",
       "text": [
        "\n",
        "528601731782152192\n",
        "997\n",
        "<tweepy.models.Status object at 0x1051d4590>"
       ]
      },
      {
       "output_type": "stream",
       "stream": "stdout",
       "text": [
        "\n",
        "528601723997536256\n",
        "998\n",
        "<tweepy.models.Status object at 0x1051d4610>"
       ]
      },
      {
       "output_type": "stream",
       "stream": "stdout",
       "text": [
        "\n",
        "528601702912786432\n",
        "999\n",
        "<tweepy.models.Status object at 0x1051d4910>"
       ]
      },
      {
       "output_type": "stream",
       "stream": "stdout",
       "text": [
        "\n",
        "528601678552248320\n",
        "1000\n",
        "<tweepy.models.Status object at 0x1051d4610>"
       ]
      },
      {
       "output_type": "stream",
       "stream": "stdout",
       "text": [
        "\n",
        "528601650567872513\n",
        "1001\n",
        "<tweepy.models.Status object at 0x1051d4490>"
       ]
      },
      {
       "output_type": "stream",
       "stream": "stdout",
       "text": [
        "\n",
        "528601646646198273\n",
        "1002\n",
        "<tweepy.models.Status object at 0x1051d4e10>"
       ]
      },
      {
       "output_type": "stream",
       "stream": "stdout",
       "text": [
        "\n",
        "528601618661769217\n",
        "1003\n",
        "<tweepy.models.Status object at 0x1051d4ad0>"
       ]
      },
      {
       "output_type": "stream",
       "stream": "stdout",
       "text": [
        "\n",
        "528601607018385408\n",
        "1004\n",
        "<tweepy.models.Status object at 0x1051d4610>"
       ]
      },
      {
       "output_type": "stream",
       "stream": "stdout",
       "text": [
        "\n",
        "528601577452748802\n",
        "1005\n",
        "<tweepy.models.Status object at 0x1051d4490>"
       ]
      },
      {
       "output_type": "stream",
       "stream": "stdout",
       "text": [
        "\n",
        "528601549749374976\n",
        "1006\n",
        "<tweepy.models.Status object at 0x1051d4e10>"
       ]
      },
      {
       "output_type": "stream",
       "stream": "stdout",
       "text": [
        "\n",
        "528601542346424320\n",
        "1007\n",
        "<tweepy.models.Status object at 0x1051d4ad0>"
       ]
      },
      {
       "output_type": "stream",
       "stream": "stdout",
       "text": [
        "\n",
        "528601512201965568\n",
        "1008\n",
        "<tweepy.models.Status object at 0x1051d4610>"
       ]
      },
      {
       "output_type": "stream",
       "stream": "stdout",
       "text": [
        "\n",
        "528601475552137216\n",
        "1009\n",
        "<tweepy.models.Status object at 0x1051d4490>"
       ]
      },
      {
       "output_type": "stream",
       "stream": "stdout",
       "text": [
        "\n",
        "528601468786704385\n",
        "1010\n",
        "<tweepy.models.Status object at 0x1051d4e10>"
       ]
      },
      {
       "output_type": "stream",
       "stream": "stdout",
       "text": [
        "\n",
        "528601462331691008\n",
        "1011\n",
        "<tweepy.models.Status object at 0x1051d4ad0>"
       ]
      },
      {
       "output_type": "stream",
       "stream": "stdout",
       "text": [
        "\n",
        "528601454765158400\n",
        "1012\n",
        "<tweepy.models.Status object at 0x1051d4610>"
       ]
      },
      {
       "output_type": "stream",
       "stream": "stdout",
       "text": [
        "\n",
        "528601441431486464\n",
        "1013\n",
        "<tweepy.models.Status object at 0x1051d4b90>"
       ]
      },
      {
       "output_type": "stream",
       "stream": "stdout",
       "text": [
        "\n",
        "528601436025012224\n",
        "1014\n",
        "<tweepy.models.Status object at 0x1051d4650>"
       ]
      },
      {
       "output_type": "stream",
       "stream": "stdout",
       "text": [
        "\n",
        "528601426441043969\n",
        "1015\n",
        "<tweepy.models.Status object at 0x1051d4ad0>"
       ]
      },
      {
       "output_type": "stream",
       "stream": "stdout",
       "text": [
        "\n",
        "528601417859497984\n",
        "1016\n",
        "<tweepy.models.Status object at 0x1051d4490>"
       ]
      },
      {
       "output_type": "stream",
       "stream": "stdout",
       "text": [
        "\n",
        "528601346094923776\n",
        "1017\n",
        "<tweepy.models.Status object at 0x1051d4b90>"
       ]
      },
      {
       "output_type": "stream",
       "stream": "stdout",
       "text": [
        "\n",
        "528601339186921472\n",
        "1018\n",
        "<tweepy.models.Status object at 0x1051d4650>"
       ]
      },
      {
       "output_type": "stream",
       "stream": "stdout",
       "text": [
        "\n",
        "528601331406475265\n",
        "1019\n",
        "<tweepy.models.Status object at 0x1051d4ad0>"
       ]
      },
      {
       "output_type": "stream",
       "stream": "stdout",
       "text": [
        "\n",
        "528601322921394177\n",
        "1020\n",
        "<tweepy.models.Status object at 0x1051d4650>"
       ]
      },
      {
       "output_type": "stream",
       "stream": "stdout",
       "text": [
        "\n",
        "528601314008514561\n",
        "1021\n",
        "<tweepy.models.Status object at 0x1051d4310>"
       ]
      },
      {
       "output_type": "stream",
       "stream": "stdout",
       "text": [
        "\n",
        "528601260405313537\n",
        "1022\n",
        "<tweepy.models.Status object at 0x1051d4b90>"
       ]
      },
      {
       "output_type": "stream",
       "stream": "stdout",
       "text": [
        "\n",
        "528601234203500544\n",
        "1023\n",
        "<tweepy.models.Status object at 0x1051d4210>"
       ]
      },
      {
       "output_type": "stream",
       "stream": "stdout",
       "text": [
        "\n",
        "528601172232650752\n",
        "1024\n",
        "<tweepy.models.Status object at 0x1051d4910>"
       ]
      },
      {
       "output_type": "stream",
       "stream": "stdout",
       "text": [
        "\n",
        "528601164926156800\n",
        "1025\n",
        "<tweepy.models.Status object at 0x1051d4610>"
       ]
      },
      {
       "output_type": "stream",
       "stream": "stdout",
       "text": [
        "\n",
        "528601035242483713\n",
        "1026\n",
        "<tweepy.models.Status object at 0x1051d4b90>"
       ]
      },
      {
       "output_type": "stream",
       "stream": "stdout",
       "text": [
        "\n",
        "528601010466717697\n",
        "1027\n",
        "<tweepy.models.Status object at 0x1051d4650>"
       ]
      },
      {
       "output_type": "stream",
       "stream": "stdout",
       "text": [
        "\n",
        "528600986051694592\n",
        "1028\n",
        "<tweepy.models.Status object at 0x1051d4910>"
       ]
      },
      {
       "output_type": "stream",
       "stream": "stdout",
       "text": [
        "\n",
        "528600956649627648\n",
        "1029\n",
        "<tweepy.models.Status object at 0x1051d4610>"
       ]
      },
      {
       "output_type": "stream",
       "stream": "stdout",
       "text": [
        "\n",
        "528600882955702272\n",
        "1030\n",
        "<tweepy.models.Status object at 0x1051d4b90>"
       ]
      },
      {
       "output_type": "stream",
       "stream": "stdout",
       "text": [
        "\n",
        "528600872151158785\n",
        "1031\n",
        "<tweepy.models.Status object at 0x1051d4310>"
       ]
      },
      {
       "output_type": "stream",
       "stream": "stdout",
       "text": [
        "\n",
        "528600860075773952\n",
        "1032\n",
        "<tweepy.models.Status object at 0x1051d4950>"
       ]
      },
      {
       "output_type": "stream",
       "stream": "stdout",
       "text": [
        "\n",
        "528600833307709440\n",
        "1033\n",
        "<tweepy.models.Status object at 0x1051d4210>"
       ]
      },
      {
       "output_type": "stream",
       "stream": "stdout",
       "text": [
        "\n",
        "528600282373296129\n",
        "1034\n",
        "<tweepy.models.Status object at 0x1051d4650>"
       ]
      },
      {
       "output_type": "stream",
       "stream": "stdout",
       "text": [
        "\n",
        "528600267500306433\n",
        "1035\n",
        "<tweepy.models.Status object at 0x1051d4590>"
       ]
      },
      {
       "output_type": "stream",
       "stream": "stdout",
       "text": [
        "\n",
        "528600256406388737\n",
        "1036\n",
        "<tweepy.models.Status object at 0x1051d4950>"
       ]
      },
      {
       "output_type": "stream",
       "stream": "stdout",
       "text": [
        "\n",
        "528600244293210112\n",
        "1037\n",
        "<tweepy.models.Status object at 0x1051d4210>"
       ]
      },
      {
       "output_type": "stream",
       "stream": "stdout",
       "text": [
        "\n",
        "528600233086025728\n",
        "1038\n",
        "<tweepy.models.Status object at 0x1051d4910>"
       ]
      },
      {
       "output_type": "stream",
       "stream": "stdout",
       "text": [
        "\n",
        "528600223413960704\n",
        "1039\n",
        "<tweepy.models.Status object at 0x1051d4e10>"
       ]
      },
      {
       "output_type": "stream",
       "stream": "stdout",
       "text": [
        "\n",
        "528600219060297728\n",
        "1040\n",
        "<tweepy.models.Status object at 0x1051d4910>"
       ]
      },
      {
       "output_type": "stream",
       "stream": "stdout",
       "text": [
        "\n",
        "528600197107306496\n",
        "1041\n",
        "<tweepy.models.Status object at 0x1051d4610>"
       ]
      },
      {
       "output_type": "stream",
       "stream": "stdout",
       "text": [
        "\n",
        "528600180237828096\n",
        "1042\n",
        "<tweepy.models.Status object at 0x1051d4590>"
       ]
      },
      {
       "output_type": "stream",
       "stream": "stdout",
       "text": [
        "\n",
        "528600172373499904\n",
        "1043\n",
        "<tweepy.models.Status object at 0x1051d4550>"
       ]
      },
      {
       "output_type": "stream",
       "stream": "stdout",
       "text": [
        "\n",
        "528600151808835584\n",
        "1044\n",
        "<tweepy.models.Status object at 0x1051d4910>"
       ]
      },
      {
       "output_type": "stream",
       "stream": "stdout",
       "text": [
        "\n",
        "528598146218479616\n",
        "1045\n",
        "<tweepy.models.Status object at 0x1051d4610>"
       ]
      },
      {
       "output_type": "stream",
       "stream": "stdout",
       "text": [
        "\n",
        "528594113382612992\n",
        "1046\n",
        "<tweepy.models.Status object at 0x1051d4590>"
       ]
      },
      {
       "output_type": "stream",
       "stream": "stdout",
       "text": [
        "\n",
        "528594109477687297\n",
        "1047\n",
        "<tweepy.models.Status object at 0x1051d4550>"
       ]
      },
      {
       "output_type": "stream",
       "stream": "stdout",
       "text": [
        "\n",
        "528594106797543424\n",
        "1048\n",
        "<tweepy.models.Status object at 0x1051d4910>"
       ]
      },
      {
       "output_type": "stream",
       "stream": "stdout",
       "text": [
        "\n",
        "528594103676977152\n",
        "1049\n",
        "<tweepy.models.Status object at 0x1051d4610>"
       ]
      },
      {
       "output_type": "stream",
       "stream": "stdout",
       "text": [
        "\n",
        "528594088669769728\n",
        "1050\n",
        "<tweepy.models.Status object at 0x1051d4b90>"
       ]
      },
      {
       "output_type": "stream",
       "stream": "stdout",
       "text": [
        "\n",
        "528594080427933696\n",
        "1051\n",
        "<tweepy.models.Status object at 0x1051d4950>"
       ]
      },
      {
       "output_type": "stream",
       "stream": "stdout",
       "text": [
        "\n",
        "528594065638846464\n",
        "1052\n",
        "<tweepy.models.Status object at 0x1051d4910>"
       ]
      },
      {
       "output_type": "stream",
       "stream": "stdout",
       "text": [
        "\n",
        "528594058223316993\n",
        "1053\n",
        "<tweepy.models.Status object at 0x1051d4590>"
       ]
      },
      {
       "output_type": "stream",
       "stream": "stdout",
       "text": [
        "\n",
        "528594054603608064\n",
        "1054\n",
        "<tweepy.models.Status object at 0x1051d4d10>"
       ]
      },
      {
       "output_type": "stream",
       "stream": "stdout",
       "text": [
        "\n",
        "528594045355163648\n",
        "1055\n",
        "<tweepy.models.Status object at 0x1051d4310>"
       ]
      },
      {
       "output_type": "stream",
       "stream": "stdout",
       "text": [
        "\n",
        "528594037537001472\n",
        "1056\n",
        "<tweepy.models.Status object at 0x1051d4910>"
       ]
      },
      {
       "output_type": "stream",
       "stream": "stdout",
       "text": [
        "\n",
        "528594032889696260\n",
        "1057\n",
        "<tweepy.models.Status object at 0x1051d4b90>"
       ]
      },
      {
       "output_type": "stream",
       "stream": "stdout",
       "text": [
        "\n",
        "528594030301839360\n",
        "1058\n",
        "<tweepy.models.Status object at 0x1051d4d10>"
       ]
      },
      {
       "output_type": "stream",
       "stream": "stdout",
       "text": [
        "\n",
        "528594027516792833\n",
        "1059\n",
        "<tweepy.models.Status object at 0x1051d4310>"
       ]
      },
      {
       "output_type": "stream",
       "stream": "stdout",
       "text": [
        "\n",
        "528594023699976192\n",
        "1060\n",
        "<tweepy.models.Status object at 0x1051d4d10>"
       ]
      },
      {
       "output_type": "stream",
       "stream": "stdout",
       "text": [
        "\n",
        "528594020990484482\n",
        "1061\n",
        "<tweepy.models.Status object at 0x1051d4c50>"
       ]
      },
      {
       "output_type": "stream",
       "stream": "stdout",
       "text": [
        "\n",
        "528594018239000576\n",
        "1062\n",
        "<tweepy.models.Status object at 0x1051d4350>"
       ]
      },
      {
       "output_type": "stream",
       "stream": "stdout",
       "text": [
        "\n",
        "528594015600799746\n",
        "1063\n",
        "<tweepy.models.Status object at 0x1051d4e50>"
       ]
      },
      {
       "output_type": "stream",
       "stream": "stdout",
       "text": [
        "\n",
        "528594013054857219\n",
        "1064\n",
        "<tweepy.models.Status object at 0x1051d4d10>"
       ]
      },
      {
       "output_type": "stream",
       "stream": "stdout",
       "text": [
        "\n",
        "528594010408226816\n",
        "1065\n",
        "<tweepy.models.Status object at 0x1051d4c50>"
       ]
      },
      {
       "output_type": "stream",
       "stream": "stdout",
       "text": [
        "\n",
        "528594005031145472\n",
        "1066\n",
        "<tweepy.models.Status object at 0x1051d4490>"
       ]
      },
      {
       "output_type": "stream",
       "stream": "stdout",
       "text": [
        "\n",
        "528594002451644418\n",
        "1067\n",
        "<tweepy.models.Status object at 0x1051d4310>"
       ]
      },
      {
       "output_type": "stream",
       "stream": "stdout",
       "text": [
        "\n",
        "528593999020699649\n",
        "1068\n",
        "<tweepy.models.Status object at 0x1051d4d10>"
       ]
      },
      {
       "output_type": "stream",
       "stream": "stdout",
       "text": [
        "\n",
        "528593083676753921\n",
        "1069\n",
        "<tweepy.models.Status object at 0x1051d4350>"
       ]
      },
      {
       "output_type": "stream",
       "stream": "stdout",
       "text": [
        "\n",
        "528593081072123905\n",
        "1070\n",
        "<tweepy.models.Status object at 0x1051d44d0>"
       ]
      },
      {
       "output_type": "stream",
       "stream": "stdout",
       "text": [
        "\n",
        "528593078484205569\n",
        "1071\n",
        "<tweepy.models.Status object at 0x1051d4550>"
       ]
      },
      {
       "output_type": "stream",
       "stream": "stdout",
       "text": [
        "\n",
        "528593075795681283\n",
        "1072\n",
        "<tweepy.models.Status object at 0x1051d4d10>"
       ]
      },
      {
       "output_type": "stream",
       "stream": "stdout",
       "text": [
        "\n",
        "528593072905809920\n",
        "1073\n",
        "<tweepy.models.Status object at 0x1051d4490>"
       ]
      },
      {
       "output_type": "stream",
       "stream": "stdout",
       "text": [
        "\n",
        "528593070234021888\n",
        "1074\n",
        "<tweepy.models.Status object at 0x1051d44d0>"
       ]
      },
      {
       "output_type": "stream",
       "stream": "stdout",
       "text": [
        "\n",
        "528593067386101761\n",
        "1075\n",
        "<tweepy.models.Status object at 0x1051d4550>"
       ]
      },
      {
       "output_type": "stream",
       "stream": "stdout",
       "text": [
        "\n",
        "528593064890494976\n",
        "1076\n",
        "<tweepy.models.Status object at 0x1051d4d10>"
       ]
      },
      {
       "output_type": "stream",
       "stream": "stdout",
       "text": [
        "\n",
        "528593058095697922\n",
        "1077\n",
        "<tweepy.models.Status object at 0x1051d4490>"
       ]
      },
      {
       "output_type": "stream",
       "stream": "stdout",
       "text": [
        "\n",
        "528593054761246721\n",
        "1078\n",
        "<tweepy.models.Status object at 0x1051d44d0>"
       ]
      },
      {
       "output_type": "stream",
       "stream": "stdout",
       "text": [
        "\n",
        "528593052022353921\n",
        "1079\n",
        "<tweepy.models.Status object at 0x1051d4550>"
       ]
      },
      {
       "output_type": "stream",
       "stream": "stdout",
       "text": [
        "\n",
        "528593049207967744\n",
        "1080\n",
        "<tweepy.models.Status object at 0x1051d44d0>"
       ]
      },
      {
       "output_type": "stream",
       "stream": "stdout",
       "text": [
        "\n",
        "528593046548807680\n",
        "1081\n",
        "<tweepy.models.Status object at 0x1051d4210>"
       ]
      },
      {
       "output_type": "stream",
       "stream": "stdout",
       "text": [
        "\n",
        "528593043776360449\n",
        "1082\n",
        "<tweepy.models.Status object at 0x1051d4350>"
       ]
      },
      {
       "output_type": "stream",
       "stream": "stdout",
       "text": [
        "\n",
        "528593041112985601\n",
        "1083\n",
        "<tweepy.models.Status object at 0x1051d4b90>"
       ]
      },
      {
       "output_type": "stream",
       "stream": "stdout",
       "text": [
        "\n",
        "528593038403457025\n",
        "1084\n",
        "<tweepy.models.Status object at 0x1051d4b10>"
       ]
      },
      {
       "output_type": "stream",
       "stream": "stdout",
       "text": [
        "\n",
        "528593030144864256\n",
        "1085\n",
        "<tweepy.models.Status object at 0x1051d4550>"
       ]
      },
      {
       "output_type": "stream",
       "stream": "stdout",
       "text": [
        "\n",
        "528593013623508992\n",
        "1086\n",
        "<tweepy.models.Status object at 0x1051d4e10>"
       ]
      },
      {
       "output_type": "stream",
       "stream": "stdout",
       "text": [
        "\n",
        "528593005071306752\n",
        "1087\n",
        "<tweepy.models.Status object at 0x1051d4950>"
       ]
      },
      {
       "output_type": "stream",
       "stream": "stdout",
       "text": [
        "\n",
        "528592996514955266\n",
        "1088\n",
        "<tweepy.models.Status object at 0x1051d4b90>"
       ]
      },
      {
       "output_type": "stream",
       "stream": "stdout",
       "text": [
        "\n",
        "528592993872543744\n",
        "1089\n",
        "<tweepy.models.Status object at 0x1051d4d10>"
       ]
      },
      {
       "output_type": "stream",
       "stream": "stdout",
       "text": [
        "\n",
        "528592989330092032\n",
        "1090\n",
        "<tweepy.models.Status object at 0x1051d4e50>"
       ]
      },
      {
       "output_type": "stream",
       "stream": "stdout",
       "text": [
        "\n",
        "528592982543728642\n",
        "1091\n",
        "<tweepy.models.Status object at 0x1051d4650>"
       ]
      },
      {
       "output_type": "stream",
       "stream": "stdout",
       "text": [
        "\n",
        "528592979968397313\n",
        "1092\n",
        "<tweepy.models.Status object at 0x1051d4550>"
       ]
      },
      {
       "output_type": "stream",
       "stream": "stdout",
       "text": [
        "\n",
        "528592971500105728\n",
        "1093\n",
        "<tweepy.models.Status object at 0x1051d44d0>"
       ]
      },
      {
       "output_type": "stream",
       "stream": "stdout",
       "text": [
        "\n",
        "528576745990270976\n",
        "1094\n",
        "<tweepy.models.Status object at 0x1051d4490>"
       ]
      },
      {
       "output_type": "stream",
       "stream": "stdout",
       "text": [
        "\n",
        "528576572174123009\n",
        "1095\n",
        "<tweepy.models.Status object at 0x1051d4350>"
       ]
      },
      {
       "output_type": "stream",
       "stream": "stdout",
       "text": [
        "\n",
        "528576187271221248\n",
        "1096\n",
        "<tweepy.models.Status object at 0x1051d4590>"
       ]
      },
      {
       "output_type": "stream",
       "stream": "stdout",
       "text": [
        "\n",
        "528575894580105216\n",
        "1097\n",
        "<tweepy.models.Status object at 0x1051d4b10>"
       ]
      },
      {
       "output_type": "stream",
       "stream": "stdout",
       "text": [
        "\n",
        "528574173594271744\n",
        "1098\n",
        "<tweepy.models.Status object at 0x1051d4210>"
       ]
      },
      {
       "output_type": "stream",
       "stream": "stdout",
       "text": [
        "\n",
        "528572228884238336\n",
        "1099\n",
        "<tweepy.models.Status object at 0x1051d4e10>"
       ]
      },
      {
       "output_type": "stream",
       "stream": "stdout",
       "text": [
        "\n",
        "528571464262635520\n",
        "1100\n",
        "<tweepy.models.Status object at 0x1051d4d10>"
       ]
      },
      {
       "output_type": "stream",
       "stream": "stdout",
       "text": [
        "\n",
        "528571403642368000\n",
        "1101\n",
        "<tweepy.models.Status object at 0x1051d4950>"
       ]
      },
      {
       "output_type": "stream",
       "stream": "stdout",
       "text": [
        "\n",
        "528571330636316672\n",
        "1102\n",
        "<tweepy.models.Status object at 0x1051d4490>"
       ]
      },
      {
       "output_type": "stream",
       "stream": "stdout",
       "text": [
        "\n",
        "528570653843410944\n",
        "1103\n",
        "<tweepy.models.Status object at 0x1051d4210>"
       ]
      },
      {
       "output_type": "stream",
       "stream": "stdout",
       "text": [
        "\n",
        "528569727636221952\n",
        "1104\n",
        "<tweepy.models.Status object at 0x1051d4350>"
       ]
      },
      {
       "output_type": "stream",
       "stream": "stdout",
       "text": [
        "\n",
        "528568949555101696\n",
        "1105\n",
        "<tweepy.models.Status object at 0x1051d4650>"
       ]
      },
      {
       "output_type": "stream",
       "stream": "stdout",
       "text": [
        "\n",
        "528566809788944384\n",
        "1106\n",
        "<tweepy.models.Status object at 0x1051d4590>"
       ]
      },
      {
       "output_type": "stream",
       "stream": "stdout",
       "text": [
        "\n",
        "528562554273280000\n",
        "1107\n",
        "<tweepy.models.Status object at 0x1051d45d0>"
       ]
      },
      {
       "output_type": "stream",
       "stream": "stdout",
       "text": [
        "\n",
        "528562441786228736\n",
        "1108\n",
        "<tweepy.models.Status object at 0x1051d4c90>"
       ]
      },
      {
       "output_type": "stream",
       "stream": "stdout",
       "text": [
        "\n",
        "528562256989392898\n",
        "1109\n",
        "<tweepy.models.Status object at 0x1051d4350>"
       ]
      },
      {
       "output_type": "stream",
       "stream": "stdout",
       "text": [
        "\n",
        "528561900440018944\n",
        "1110\n",
        "<tweepy.models.Status object at 0x1051d4550>"
       ]
      },
      {
       "output_type": "stream",
       "stream": "stdout",
       "text": [
        "\n",
        "528490118114717696\n",
        "1111\n",
        "<tweepy.models.Status object at 0x1051d4b10>"
       ]
      },
      {
       "output_type": "stream",
       "stream": "stdout",
       "text": [
        "\n",
        "528488727652597760\n",
        "1112\n",
        "<tweepy.models.Status object at 0x1051d4d10>"
       ]
      },
      {
       "output_type": "stream",
       "stream": "stdout",
       "text": [
        "\n",
        "528487938079084544\n",
        "1113\n",
        "<tweepy.models.Status object at 0x1051d4590>"
       ]
      },
      {
       "output_type": "stream",
       "stream": "stdout",
       "text": [
        "\n",
        "528487593789644800\n",
        "1114\n",
        "<tweepy.models.Status object at 0x1051d4950>"
       ]
      },
      {
       "output_type": "stream",
       "stream": "stdout",
       "text": [
        "\n",
        "528486899112222720\n",
        "1115\n",
        "<tweepy.models.Status object at 0x1051d4b90>"
       ]
      },
      {
       "output_type": "stream",
       "stream": "stdout",
       "text": [
        "\n",
        "528467804459384833\n",
        "1116\n",
        "<tweepy.models.Status object at 0x1051d4210>"
       ]
      },
      {
       "output_type": "stream",
       "stream": "stdout",
       "text": [
        "\n",
        "528431011802406912\n",
        "1117\n",
        "<tweepy.models.Status object at 0x1051d4490>"
       ]
      },
      {
       "output_type": "stream",
       "stream": "stdout",
       "text": [
        "\n",
        "528431008539213824\n",
        "1118\n",
        "<tweepy.models.Status object at 0x1051d4650>"
       ]
      },
      {
       "output_type": "stream",
       "stream": "stdout",
       "text": [
        "\n",
        "528430995905994752\n",
        "1119\n",
        "<tweepy.models.Status object at 0x1051d44d0>"
       ]
      },
      {
       "output_type": "stream",
       "stream": "stdout",
       "text": [
        "\n",
        "528430943955353600\n",
        "1120\n",
        "<tweepy.models.Status object at 0x1051d4350>"
       ]
      },
      {
       "output_type": "stream",
       "stream": "stdout",
       "text": [
        "\n",
        "528430911877304320\n",
        "1121\n",
        "<tweepy.models.Status object at 0x1051d45d0>"
       ]
      },
      {
       "output_type": "stream",
       "stream": "stdout",
       "text": [
        "\n",
        "528430532250841088\n",
        "1122\n",
        "<tweepy.models.Status object at 0x1051d4210>"
       ]
      },
      {
       "output_type": "stream",
       "stream": "stdout",
       "text": [
        "\n",
        "528430429838520320\n",
        "1123\n",
        "<tweepy.models.Status object at 0x1051d4d10>"
       ]
      },
      {
       "output_type": "stream",
       "stream": "stdout",
       "text": [
        "\n",
        "528430396405714944\n",
        "1124\n",
        "<tweepy.models.Status object at 0x1051d4b90>"
       ]
      },
      {
       "output_type": "stream",
       "stream": "stdout",
       "text": [
        "\n",
        "528430378504437760\n",
        "1125\n",
        "<tweepy.models.Status object at 0x1051d4b10>"
       ]
      },
      {
       "output_type": "stream",
       "stream": "stdout",
       "text": [
        "\n",
        "528430338083930112\n",
        "1126\n",
        "<tweepy.models.Status object at 0x1051d4c90>"
       ]
      },
      {
       "output_type": "stream",
       "stream": "stdout",
       "text": [
        "\n",
        "528430326654439424\n",
        "1127\n",
        "<tweepy.models.Status object at 0x1051d4090>"
       ]
      },
      {
       "output_type": "stream",
       "stream": "stdout",
       "text": [
        "\n",
        "528430248518758400\n",
        "1128\n",
        "<tweepy.models.Status object at 0x1051d4650>"
       ]
      },
      {
       "output_type": "stream",
       "stream": "stdout",
       "text": [
        "\n",
        "528430048060375040\n",
        "1129\n",
        "<tweepy.models.Status object at 0x1051d4590>"
       ]
      },
      {
       "output_type": "stream",
       "stream": "stdout",
       "text": [
        "\n",
        "528430011217620992\n",
        "1130\n",
        "<tweepy.models.Status object at 0x1051d4490>"
       ]
      },
      {
       "output_type": "stream",
       "stream": "stdout",
       "text": [
        "\n",
        "528429968171487233\n",
        "1131\n",
        "<tweepy.models.Status object at 0x1051d44d0>"
       ]
      },
      {
       "output_type": "stream",
       "stream": "stdout",
       "text": [
        "\n",
        "528429865121624064\n",
        "1132\n",
        "<tweepy.models.Status object at 0x1051d4950>"
       ]
      },
      {
       "output_type": "stream",
       "stream": "stdout",
       "text": [
        "\n",
        "528429838093520896\n",
        "1133\n",
        "<tweepy.models.Status object at 0x1051d4350>"
       ]
      },
      {
       "output_type": "stream",
       "stream": "stdout",
       "text": [
        "\n",
        "528429464632721408\n",
        "1134\n",
        "<tweepy.models.Status object at 0x1051d45d0>"
       ]
      },
      {
       "output_type": "stream",
       "stream": "stdout",
       "text": [
        "\n",
        "528429359900942336\n",
        "1135\n",
        "<tweepy.models.Status object at 0x1051d4210>"
       ]
      },
      {
       "output_type": "stream",
       "stream": "stdout",
       "text": [
        "\n",
        "528429353747886081\n",
        "1136\n",
        "<tweepy.models.Status object at 0x1051d4d10>"
       ]
      },
      {
       "output_type": "stream",
       "stream": "stdout",
       "text": [
        "\n",
        "528429333522948096\n",
        "1137\n",
        "<tweepy.models.Status object at 0x1051d4b90>"
       ]
      },
      {
       "output_type": "stream",
       "stream": "stdout",
       "text": [
        "\n",
        "528429319128109056\n",
        "1138\n",
        "<tweepy.models.Status object at 0x1051d4b10>"
       ]
      },
      {
       "output_type": "stream",
       "stream": "stdout",
       "text": [
        "\n",
        "528429312106852352\n",
        "1139\n",
        "<tweepy.models.Status object at 0x1051d4c90>"
       ]
      },
      {
       "output_type": "stream",
       "stream": "stdout",
       "text": [
        "\n",
        "528429290904633344\n",
        "1140\n",
        "<tweepy.models.Status object at 0x1051d4590>"
       ]
      },
      {
       "output_type": "stream",
       "stream": "stdout",
       "text": [
        "\n",
        "528429278674055168\n",
        "1141\n",
        "<tweepy.models.Status object at 0x1051d4090>"
       ]
      },
      {
       "output_type": "stream",
       "stream": "stdout",
       "text": [
        "\n",
        "528429104333590528\n",
        "1142\n",
        "<tweepy.models.Status object at 0x1051d4650>"
       ]
      },
      {
       "output_type": "stream",
       "stream": "stdout",
       "text": [
        "\n",
        "528429062138916864\n",
        "1143\n",
        "<tweepy.models.Status object at 0x1051d4b90>"
       ]
      },
      {
       "output_type": "stream",
       "stream": "stdout",
       "text": [
        "\n",
        "528429057399324672\n",
        "1144\n",
        "<tweepy.models.Status object at 0x1051d4210>"
       ]
      },
      {
       "output_type": "stream",
       "stream": "stdout",
       "text": [
        "\n",
        "528429050935914496\n",
        "1145\n",
        "<tweepy.models.Status object at 0x1051d44d0>"
       ]
      },
      {
       "output_type": "stream",
       "stream": "stdout",
       "text": [
        "\n",
        "528429032611016704\n",
        "1146\n",
        "<tweepy.models.Status object at 0x1051d4b10>"
       ]
      },
      {
       "output_type": "stream",
       "stream": "stdout",
       "text": [
        "\n",
        "528428967775457281\n",
        "1147\n",
        "<tweepy.models.Status object at 0x1051d45d0>"
       ]
      },
      {
       "output_type": "stream",
       "stream": "stdout",
       "text": [
        "\n",
        "528428865103073280\n",
        "1148\n",
        "<tweepy.models.Status object at 0x1051d4950>"
       ]
      },
      {
       "output_type": "stream",
       "stream": "stdout",
       "text": [
        "\n",
        "528428803153231872\n",
        "1149\n",
        "<tweepy.models.Status object at 0x1051d4350>"
       ]
      },
      {
       "output_type": "stream",
       "stream": "stdout",
       "text": [
        "\n",
        "528428762678181888\n",
        "1150\n",
        "<tweepy.models.Status object at 0x1051d4490>"
       ]
      },
      {
       "output_type": "stream",
       "stream": "stdout",
       "text": [
        "\n",
        "528428517915385856\n",
        "1151\n",
        "<tweepy.models.Status object at 0x1051d4c90>"
       ]
      },
      {
       "output_type": "stream",
       "stream": "stdout",
       "text": [
        "\n",
        "528428486378397696\n",
        "1152\n",
        "<tweepy.models.Status object at 0x1051d4d10>"
       ]
      },
      {
       "output_type": "stream",
       "stream": "stdout",
       "text": [
        "\n",
        "528428253892317184\n",
        "1153\n",
        "<tweepy.models.Status object at 0x1051d4590>"
       ]
      },
      {
       "output_type": "stream",
       "stream": "stdout",
       "text": [
        "\n",
        "528428167451914241\n",
        "1154\n",
        "<tweepy.models.Status object at 0x1051d4090>"
       ]
      },
      {
       "output_type": "stream",
       "stream": "stdout",
       "text": [
        "\n",
        "528427975864508417\n",
        "1155\n",
        "<tweepy.models.Status object at 0x1051d4650>"
       ]
      },
      {
       "output_type": "stream",
       "stream": "stdout",
       "text": [
        "\n",
        "528427938086395904\n",
        "1156\n",
        "<tweepy.models.Status object at 0x1051d4b90>"
       ]
      },
      {
       "output_type": "stream",
       "stream": "stdout",
       "text": [
        "\n",
        "528427861569728512\n",
        "1157\n",
        "<tweepy.models.Status object at 0x1051d4210>"
       ]
      },
      {
       "output_type": "stream",
       "stream": "stdout",
       "text": [
        "\n",
        "528427833191063553\n",
        "1158\n",
        "<tweepy.models.Status object at 0x1051d44d0>"
       ]
      },
      {
       "output_type": "stream",
       "stream": "stdout",
       "text": [
        "\n",
        "528292443188654080\n",
        "1159\n",
        "<tweepy.models.Status object at 0x1051d4b10>"
       ]
      },
      {
       "output_type": "stream",
       "stream": "stdout",
       "text": [
        "\n",
        "528292439652855808\n",
        "1160\n",
        "<tweepy.models.Status object at 0x1051d4350>"
       ]
      },
      {
       "output_type": "stream",
       "stream": "stdout",
       "text": [
        "\n",
        "528292434493833217\n",
        "1161\n"
       ]
      },
      {
       "ename": "TweepError",
       "evalue": "[{u'message': u'Rate limit exceeded', u'code': 88}]",
       "output_type": "pyerr",
       "traceback": [
        "\u001b[0;31m---------------------------------------------------------------------------\u001b[0m\n\u001b[0;31mTweepError\u001b[0m                                Traceback (most recent call last)",
        "\u001b[0;32m<ipython-input-89-239b99034ef2>\u001b[0m in \u001b[0;36m<module>\u001b[0;34m()\u001b[0m\n\u001b[1;32m      3\u001b[0m \u001b[0mcount\u001b[0m \u001b[0;34m=\u001b[0m \u001b[0;36m0\u001b[0m\u001b[0;34m\u001b[0m\u001b[0m\n\u001b[1;32m      4\u001b[0m \u001b[0;32mwhile\u001b[0m \u001b[0mTrue\u001b[0m\u001b[0;34m:\u001b[0m\u001b[0;34m\u001b[0m\u001b[0m\n\u001b[0;32m----> 5\u001b[0;31m     \u001b[0mtimeline\u001b[0m \u001b[0;34m=\u001b[0m \u001b[0mme\u001b[0m\u001b[0;34m.\u001b[0m\u001b[0mtimeline\u001b[0m\u001b[0;34m(\u001b[0m\u001b[0;34m)\u001b[0m\u001b[0;34m\u001b[0m\u001b[0m\n\u001b[0m\u001b[1;32m      6\u001b[0m     \u001b[0;32mfor\u001b[0m \u001b[0mel\u001b[0m \u001b[0;32min\u001b[0m \u001b[0mtimeline\u001b[0m\u001b[0;34m:\u001b[0m\u001b[0;34m\u001b[0m\u001b[0m\n\u001b[1;32m      7\u001b[0m         \u001b[0;32mtry\u001b[0m\u001b[0;34m:\u001b[0m\u001b[0;34m\u001b[0m\u001b[0m\n",
        "\u001b[0;32m//anaconda/lib/python2.7/site-packages/tweepy/models.pyc\u001b[0m in \u001b[0;36mtimeline\u001b[0;34m(self, **kargs)\u001b[0m\n\u001b[1;32m    138\u001b[0m \u001b[0;34m\u001b[0m\u001b[0m\n\u001b[1;32m    139\u001b[0m     \u001b[0;32mdef\u001b[0m \u001b[0mtimeline\u001b[0m\u001b[0;34m(\u001b[0m\u001b[0mself\u001b[0m\u001b[0;34m,\u001b[0m \u001b[0;34m**\u001b[0m\u001b[0mkargs\u001b[0m\u001b[0;34m)\u001b[0m\u001b[0;34m:\u001b[0m\u001b[0;34m\u001b[0m\u001b[0m\n\u001b[0;32m--> 140\u001b[0;31m         \u001b[0;32mreturn\u001b[0m \u001b[0mself\u001b[0m\u001b[0;34m.\u001b[0m\u001b[0m_api\u001b[0m\u001b[0;34m.\u001b[0m\u001b[0muser_timeline\u001b[0m\u001b[0;34m(\u001b[0m\u001b[0muser_id\u001b[0m\u001b[0;34m=\u001b[0m\u001b[0mself\u001b[0m\u001b[0;34m.\u001b[0m\u001b[0mid\u001b[0m\u001b[0;34m,\u001b[0m \u001b[0;34m**\u001b[0m\u001b[0mkargs\u001b[0m\u001b[0;34m)\u001b[0m\u001b[0;34m\u001b[0m\u001b[0m\n\u001b[0m\u001b[1;32m    141\u001b[0m \u001b[0;34m\u001b[0m\u001b[0m\n\u001b[1;32m    142\u001b[0m     \u001b[0;32mdef\u001b[0m \u001b[0mfriends\u001b[0m\u001b[0;34m(\u001b[0m\u001b[0mself\u001b[0m\u001b[0;34m,\u001b[0m \u001b[0;34m**\u001b[0m\u001b[0mkargs\u001b[0m\u001b[0;34m)\u001b[0m\u001b[0;34m:\u001b[0m\u001b[0;34m\u001b[0m\u001b[0m\n",
        "\u001b[0;32m//anaconda/lib/python2.7/site-packages/tweepy/binder.pyc\u001b[0m in \u001b[0;36m_call\u001b[0;34m(api, *args, **kargs)\u001b[0m\n\u001b[1;32m    195\u001b[0m \u001b[0;34m\u001b[0m\u001b[0m\n\u001b[1;32m    196\u001b[0m         \u001b[0mmethod\u001b[0m \u001b[0;34m=\u001b[0m \u001b[0mAPIMethod\u001b[0m\u001b[0;34m(\u001b[0m\u001b[0mapi\u001b[0m\u001b[0;34m,\u001b[0m \u001b[0margs\u001b[0m\u001b[0;34m,\u001b[0m \u001b[0mkargs\u001b[0m\u001b[0;34m)\u001b[0m\u001b[0;34m\u001b[0m\u001b[0m\n\u001b[0;32m--> 197\u001b[0;31m         \u001b[0;32mreturn\u001b[0m \u001b[0mmethod\u001b[0m\u001b[0;34m.\u001b[0m\u001b[0mexecute\u001b[0m\u001b[0;34m(\u001b[0m\u001b[0;34m)\u001b[0m\u001b[0;34m\u001b[0m\u001b[0m\n\u001b[0m\u001b[1;32m    198\u001b[0m \u001b[0;34m\u001b[0m\u001b[0m\n\u001b[1;32m    199\u001b[0m \u001b[0;34m\u001b[0m\u001b[0m\n",
        "\u001b[0;32m//anaconda/lib/python2.7/site-packages/tweepy/binder.pyc\u001b[0m in \u001b[0;36mexecute\u001b[0;34m(self)\u001b[0m\n\u001b[1;32m    171\u001b[0m                 \u001b[0;32mexcept\u001b[0m \u001b[0mException\u001b[0m\u001b[0;34m:\u001b[0m\u001b[0;34m\u001b[0m\u001b[0m\n\u001b[1;32m    172\u001b[0m                     \u001b[0merror_msg\u001b[0m \u001b[0;34m=\u001b[0m \u001b[0;34m\"Twitter error response: status code = %s\"\u001b[0m \u001b[0;34m%\u001b[0m \u001b[0mresp\u001b[0m\u001b[0;34m.\u001b[0m\u001b[0mstatus\u001b[0m\u001b[0;34m\u001b[0m\u001b[0m\n\u001b[0;32m--> 173\u001b[0;31m                 \u001b[0;32mraise\u001b[0m \u001b[0mTweepError\u001b[0m\u001b[0;34m(\u001b[0m\u001b[0merror_msg\u001b[0m\u001b[0;34m,\u001b[0m \u001b[0mresp\u001b[0m\u001b[0;34m)\u001b[0m\u001b[0;34m\u001b[0m\u001b[0m\n\u001b[0m\u001b[1;32m    174\u001b[0m \u001b[0;34m\u001b[0m\u001b[0m\n\u001b[1;32m    175\u001b[0m             \u001b[0;31m# Parse the response payload\u001b[0m\u001b[0;34m\u001b[0m\u001b[0;34m\u001b[0m\u001b[0m\n",
        "\u001b[0;31mTweepError\u001b[0m: [{u'message': u'Rate limit exceeded', u'code': 88}]"
       ]
      }
     ],
     "prompt_number": 89
    },
    {
     "cell_type": "code",
     "collapsed": false,
     "input": [
      "me = api.me()\n",
      "me.statuses_count"
     ],
     "language": "python",
     "metadata": {},
     "outputs": [
      {
       "metadata": {},
       "output_type": "pyout",
       "prompt_number": 92,
       "text": [
        "0"
       ]
      }
     ],
     "prompt_number": 92
    },
    {
     "cell_type": "code",
     "collapsed": false,
     "input": [
      "me.favourites_count"
     ],
     "language": "python",
     "metadata": {},
     "outputs": [
      {
       "metadata": {},
       "output_type": "pyout",
       "prompt_number": 93,
       "text": [
        "322"
       ]
      }
     ],
     "prompt_number": 93
    },
    {
     "cell_type": "code",
     "collapsed": false,
     "input": [
      "api.favorites()"
     ],
     "language": "python",
     "metadata": {},
     "outputs": [
      {
       "metadata": {},
       "output_type": "pyout",
       "prompt_number": 94,
       "text": [
        "[<tweepy.models.Status at 0x1051a0790>,\n",
        " <tweepy.models.Status at 0x1051fd650>,\n",
        " <tweepy.models.Status at 0x1051a07d0>,\n",
        " <tweepy.models.Status at 0x1051a0890>,\n",
        " <tweepy.models.Status at 0x1051a0910>,\n",
        " <tweepy.models.Status at 0x1051a0990>,\n",
        " <tweepy.models.Status at 0x1051a0a10>,\n",
        " <tweepy.models.Status at 0x1051a0a90>,\n",
        " <tweepy.models.Status at 0x1051a0b10>,\n",
        " <tweepy.models.Status at 0x1051a0b90>,\n",
        " <tweepy.models.Status at 0x1051a0c10>,\n",
        " <tweepy.models.Status at 0x1051a0c90>,\n",
        " <tweepy.models.Status at 0x1051a0d10>,\n",
        " <tweepy.models.Status at 0x1051a0d90>,\n",
        " <tweepy.models.Status at 0x1051a0e10>,\n",
        " <tweepy.models.Status at 0x1051a0e90>,\n",
        " <tweepy.models.Status at 0x1051a0f10>,\n",
        " <tweepy.models.Status at 0x1051a0f90>,\n",
        " <tweepy.models.Status at 0x10519d050>,\n",
        " <tweepy.models.Status at 0x10519d110>]"
       ]
      }
     ],
     "prompt_number": 94
    },
    {
     "cell_type": "code",
     "collapsed": false,
     "input": [],
     "language": "python",
     "metadata": {},
     "outputs": []
    }
   ],
   "metadata": {}
  }
 ]
}